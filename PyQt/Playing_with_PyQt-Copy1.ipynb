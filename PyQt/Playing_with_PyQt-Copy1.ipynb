{
 "cells": [
  {
   "cell_type": "markdown",
   "metadata": {},
   "source": [
    "<h1 align=\"center\"> PyQt4: Making toggle radio button which opens different combo boxes on the same window </h1>"
   ]
  },
  {
   "cell_type": "markdown",
   "metadata": {},
   "source": [
    "Original Question: http://stackoverflow.com/questions/38210976/pyqt4-making-toggle-radio-button-which-opens-different-combo-boxes-on-the-same"
   ]
  },
  {
   "cell_type": "markdown",
   "metadata": {},
   "source": [
    "1) Allow the user to toggle a radio button with which analysis the individual wants to execute (2 options)."
   ]
  },
  {
   "cell_type": "markdown",
   "metadata": {},
   "source": [
    "2) Depending on which radio button is toggled, add certain comboboxes below the radio buttons."
   ]
  },
  {
   "cell_type": "markdown",
   "metadata": {},
   "source": [
    "3) Create dependency between comboboxes."
   ]
  },
  {
   "cell_type": "markdown",
   "metadata": {},
   "source": [
    "4) When the 'Reset Parameters' pushbutton is pushed, all of the parameters are reset."
   ]
  },
  {
   "cell_type": "markdown",
   "metadata": {},
   "source": [
    "<h2 align=\"center\">Best c value: 2800, error rate: 4.29 </h2> <p></p>"
   ]
  },
  {
   "cell_type": "code",
   "execution_count": 2,
   "metadata": {
    "collapsed": false
   },
   "outputs": [],
   "source": [
    "from PyQt4 import QtGui\n",
    "import os, sys\n",
    "import pandas as pd\n",
    "import pandas_datareader.data as web\n",
    "import numpy as np\n",
    "import matplotlib.pyplot as plt\n",
    "from matplotlib.backends.backend_qt4agg import FigureCanvasQTAgg as FigureCanvas\n",
    "from matplotlib.backends.backend_qt4agg import NavigationToolbar2QT as NavigationToolbar"
   ]
  },
  {
   "cell_type": "code",
   "execution_count": 12,
   "metadata": {
    "collapsed": false
   },
   "outputs": [],
   "source": [
    "from PyQt4 import QtGui, QtCore\n",
    "from PyQt4.QtGui import *\n",
    "from PyQt4.QtCore import *\n",
    "import sys\n",
    "\n",
    "class TabManager(QtGui.QTabWidget):\n",
    "    \n",
    "    def __init__(self):\n",
    "        super(TabManager, self).__init__()\n",
    "        self.initUI()\n",
    "        \n",
    "    def initUI(self):\n",
    "        self.setGeometry(1000,1000, 1000, 1000)\n",
    "        self.setWindowTitle('Revision on Plots, Tables and File Browser')     \n",
    "        \n",
    "        #Grid Layout\n",
    "        grid = QtGui.QGridLayout()\n",
    "        self.setLayout(grid)\n",
    "        \n",
    "        # Create tabs\n",
    "        tab1 = QtGui.QWidget() # extra tabs in case you need later\n",
    "        tab2 = QtGui.QWidget()\n",
    "        tab3 = QtGui.QWidget()\n",
    "        tab4 = QtGui.QWidget()\n",
    "\n",
    "        # Resize width and height\n",
    "        self.resize(1000, 1000)\n",
    "        \n",
    "        # Set layout of first tab\n",
    "        grid.addWidget(QRadioButton('Explore Individual Cell Lines'), 1,0)\n",
    "        grid.addWidget(QRadioButton('Cell Line Correlation'), 1,1)\n",
    "        # Set the layout of the group box to the button layout\n",
    "        \n",
    "        \n",
    "        #pushButton1 = QtGui.QPushButton(\"Start\")\n",
    "        #pushButton2 = QtGui.QPushButton(\"Settings\")\n",
    "        #pushButton3 = QtGui.QPushButton(\"Stop\")\n",
    "        #hBoxlayout.addWidget(pushButton1)\n",
    "        #hBoxlayout.addWidget(pushButton2)\n",
    "        #hBoxlayout.addWidget(pushButton3)\n",
    "         \n",
    "\n",
    "        # Add tab1 (ProQinase Cancer Cell Lines)\n",
    "        self.addTab(tab1,\"ProQinase Cancer Cell Lines\")\n",
    "        tab1.setGeometry(1000,1000, 1000, 1000)\n",
    "        tab1.setLayout(grid)  \n",
    "        \n",
    "        \n",
    "        self.addTab(tab2,\"Tab 2\")\n",
    "        self.addTab(tab3,\"Tab 3\")\n",
    "        self.addTab(tab4,\"Tab 4\") \n",
    "        self.show()\n",
    "\n",
    "\n",
    "    \n",
    "        \n",
    "def main():\n",
    "    app = QtGui.QApplication(sys.argv)\n",
    "    w = TabManager()\n",
    "    app.exec_()\n",
    "\n",
    "\n",
    "if __name__ == '__main__':\n",
    "    main()\n",
    "\n"
   ]
  },
  {
   "cell_type": "code",
   "execution_count": null,
   "metadata": {
    "collapsed": false
   },
   "outputs": [],
   "source": [
    "import sys\n",
    "from PyQt4.QtGui import *\n",
    "from PyQt4.QtCore import *\n",
    "\n",
    "class MoodExample(QGroupBox):\n",
    "\n",
    "    def __init__(self):\n",
    "        super(MoodExample, self).__init__()\n",
    "\n",
    "        # Create an array of radio buttons\n",
    "        moods = [QRadioButton(\"Happy\"), QRadioButton(\"Sad\"), QRadioButton(\"Angry\")]\n",
    "\n",
    "        # Set a radio button to be checked by default\n",
    "        moods[0].setChecked(True)   \n",
    "\n",
    "        # Radio buttons usually are in a vertical layout   \n",
    "        button_layout = QVBoxLayout()\n",
    "\n",
    "        # Create a button group for radio buttons\n",
    "        self.mood_button_group = QButtonGroup()\n",
    "\n",
    "        for i in xrange(len(moods)):\n",
    "            # Add each radio button to the button layout\n",
    "            button_layout.addWidget(moods[i])\n",
    "            # Add each radio button to the button group & give it an ID of i\n",
    "            self.mood_button_group.addButton(moods[i], i)\n",
    "            # Connect each radio button to a method to run when it's clicked\n",
    "            self.connect(moods[i], SIGNAL(\"clicked()\"), self.radio_button_clicked)\n",
    "\n",
    "        # Set the layout of the group box to the button layout\n",
    "        self.setLayout(button_layout)\n",
    "\n",
    "    #Print out the ID & text of the checked radio button\n",
    "    def radio_button_clicked(self):\n",
    "        print(self.mood_button_group.checkedId())\n",
    "        print(self.mood_button_group.checkedButton().text())\n",
    "\n",
    "app = QApplication(sys.argv)\n",
    "mood_example = MoodExample()\n",
    "mood_example.show()\n",
    "sys.exit(app.exec_())"
   ]
  },
  {
   "cell_type": "code",
   "execution_count": 2,
   "metadata": {
    "collapsed": false
   },
   "outputs": [
    {
     "ename": "SystemExit",
     "evalue": "0",
     "output_type": "error",
     "traceback": [
      "An exception has occurred, use %tb to see the full traceback.\n",
      "\u001b[0;31mSystemExit\u001b[0m\u001b[0;31m:\u001b[0m 0\n"
     ]
    },
    {
     "name": "stderr",
     "output_type": "stream",
     "text": [
      "To exit: use 'exit', 'quit', or Ctrl-D.\n"
     ]
    }
   ],
   "source": [
    "from PyQt4 import QtGui\n",
    "from PyQt4 import QtCore\n",
    "import sys\n",
    " \n",
    "def main():\n",
    " \n",
    "    app  = QtGui.QApplication(sys.argv)\n",
    "    tabs = QtGui.QTabWidget()\n",
    " \n",
    "    # Create tabs\n",
    "    tab1 = QtGui.QWidget()\n",
    "    tab2 = QtGui.QWidget()\n",
    "    tab3 = QtGui.QWidget()\n",
    "    tab4 = QtGui.QWidget()\n",
    " \n",
    "    # Resize width and height\n",
    "    tabs.resize(250, 150)\n",
    " \n",
    "    # Set layout of first tab\n",
    "    vBoxlayout = QtGui.QVBoxLayout()\n",
    "    pushButton1 = QtGui.QPushButton(\"Start\")\n",
    "    pushButton2 = QtGui.QPushButton(\"Settings\")\n",
    "    pushButton3 = QtGui.QPushButton(\"Stop\")\n",
    "    vBoxlayout.addWidget(pushButton1)\n",
    "    vBoxlayout.addWidget(pushButton2)\n",
    "    vBoxlayout.addWidget(pushButton3)\n",
    "    tab1.setLayout(vBoxlayout)   \n",
    " \n",
    "    # Add tabs\n",
    "    tabs.addTab(tab1,\"ProQinase Cancer Cell Lines\")\n",
    "    tabs.addTab(tab2,\"Tab 2\")\n",
    "    tabs.addTab(tab3,\"Tab 3\")\n",
    "    tabs.addTab(tab4,\"Tab 4\") \n",
    " \n",
    "    # Set title and show\n",
    "    tabs.setWindowTitle('PyQt QTabWidget @ pythonspot.com')\n",
    "    tabs.show()\n",
    " \n",
    "    sys.exit(app.exec_())\n",
    " \n",
    " \n",
    "if __name__ == '__main__':\n",
    "    main()"
   ]
  },
  {
   "cell_type": "code",
   "execution_count": 1,
   "metadata": {
    "collapsed": false
   },
   "outputs": [
    {
     "ename": "AttributeError",
     "evalue": "'BeginExplorerWidget' object has no attribute 'tab1'",
     "output_type": "error",
     "traceback": [
      "\u001b[0;31m---------------------------------------------------------------------------\u001b[0m",
      "\u001b[0;31mAttributeError\u001b[0m                            Traceback (most recent call last)",
      "\u001b[0;32m<ipython-input-1-d7496d97171e>\u001b[0m in \u001b[0;36m<lambda>\u001b[0;34m()\u001b[0m\n\u001b[1;32m     19\u001b[0m         \u001b[0mself\u001b[0m\u001b[0;34m.\u001b[0m\u001b[0mrad1\u001b[0m\u001b[0;34m.\u001b[0m\u001b[0mtoggled\u001b[0m\u001b[0;34m.\u001b[0m\u001b[0mconnect\u001b[0m\u001b[0;34m(\u001b[0m\u001b[0;32mlambda\u001b[0m\u001b[0;34m:\u001b[0m \u001b[0mself\u001b[0m\u001b[0;34m.\u001b[0m\u001b[0mbtnstate\u001b[0m\u001b[0;34m(\u001b[0m\u001b[0mself\u001b[0m\u001b[0;34m.\u001b[0m\u001b[0mrad1\u001b[0m\u001b[0;34m)\u001b[0m\u001b[0;34m)\u001b[0m\u001b[0;34m\u001b[0m\u001b[0m\n\u001b[1;32m     20\u001b[0m         \u001b[0mself\u001b[0m\u001b[0;34m.\u001b[0m\u001b[0mrad2\u001b[0m \u001b[0;34m=\u001b[0m \u001b[0mQtGui\u001b[0m\u001b[0;34m.\u001b[0m\u001b[0mQRadioButton\u001b[0m\u001b[0;34m(\u001b[0m\u001b[0;34m\"Cell Line Correlation\"\u001b[0m\u001b[0;34m)\u001b[0m\u001b[0;34m\u001b[0m\u001b[0m\n\u001b[0;32m---> 21\u001b[0;31m         \u001b[0mself\u001b[0m\u001b[0;34m.\u001b[0m\u001b[0mrad2\u001b[0m\u001b[0;34m.\u001b[0m\u001b[0mtoggled\u001b[0m\u001b[0;34m.\u001b[0m\u001b[0mconnect\u001b[0m\u001b[0;34m(\u001b[0m\u001b[0;32mlambda\u001b[0m\u001b[0;34m:\u001b[0m \u001b[0mself\u001b[0m\u001b[0;34m.\u001b[0m\u001b[0mbtnstate\u001b[0m\u001b[0;34m(\u001b[0m\u001b[0mself\u001b[0m\u001b[0;34m.\u001b[0m\u001b[0mrad2\u001b[0m\u001b[0;34m)\u001b[0m\u001b[0;34m)\u001b[0m\u001b[0;34m\u001b[0m\u001b[0m\n\u001b[0m\u001b[1;32m     22\u001b[0m \u001b[0;34m\u001b[0m\u001b[0m\n\u001b[1;32m     23\u001b[0m         \u001b[0;31m#opens if rad1 on\u001b[0m\u001b[0;34m\u001b[0m\u001b[0;34m\u001b[0m\u001b[0m\n",
      "\u001b[0;32m<ipython-input-1-d7496d97171e>\u001b[0m in \u001b[0;36mbtnstate\u001b[0;34m(self, rad)\u001b[0m\n\u001b[1;32m     73\u001b[0m         \u001b[0;32mif\u001b[0m \u001b[0mrad\u001b[0m\u001b[0;34m.\u001b[0m\u001b[0mtext\u001b[0m\u001b[0;34m(\u001b[0m\u001b[0;34m)\u001b[0m \u001b[0;34m==\u001b[0m \u001b[0;34m\"Cell Line Correlation\"\u001b[0m\u001b[0;34m:\u001b[0m\u001b[0;34m\u001b[0m\u001b[0m\n\u001b[1;32m     74\u001b[0m             \u001b[0;31m#layout = QtGui.QGridLayout()\u001b[0m\u001b[0;34m\u001b[0m\u001b[0;34m\u001b[0m\u001b[0m\n\u001b[0;32m---> 75\u001b[0;31m             \u001b[0mself\u001b[0m\u001b[0;34m.\u001b[0m\u001b[0mtab1\u001b[0m\u001b[0;34m.\u001b[0m\u001b[0maddWidget\u001b[0m\u001b[0;34m(\u001b[0m\u001b[0mself\u001b[0m\u001b[0;34m.\u001b[0m\u001b[0mcomboA\u001b[0m\u001b[0;34m,\u001b[0m \u001b[0;36m1\u001b[0m\u001b[0;34m,\u001b[0m \u001b[0;36m1\u001b[0m\u001b[0;34m)\u001b[0m\u001b[0;34m\u001b[0m\u001b[0m\n\u001b[0m\u001b[1;32m     76\u001b[0m             \u001b[0mself\u001b[0m\u001b[0;34m.\u001b[0m\u001b[0mtab1\u001b[0m\u001b[0;34m.\u001b[0m\u001b[0maddWidget\u001b[0m\u001b[0;34m(\u001b[0m\u001b[0mself\u001b[0m\u001b[0;34m.\u001b[0m\u001b[0mcomboB\u001b[0m\u001b[0;34m,\u001b[0m \u001b[0;36m1\u001b[0m\u001b[0;34m,\u001b[0m \u001b[0;36m2\u001b[0m\u001b[0;34m)\u001b[0m\u001b[0;34m\u001b[0m\u001b[0m\n\u001b[1;32m     77\u001b[0m             \u001b[0mself\u001b[0m\u001b[0;34m.\u001b[0m\u001b[0mtab1\u001b[0m\u001b[0;34m.\u001b[0m\u001b[0maddWidget\u001b[0m\u001b[0;34m(\u001b[0m\u001b[0mself\u001b[0m\u001b[0;34m.\u001b[0m\u001b[0mcomboC\u001b[0m\u001b[0;34m,\u001b[0m \u001b[0;36m2\u001b[0m\u001b[0;34m,\u001b[0m \u001b[0;36m1\u001b[0m\u001b[0;34m)\u001b[0m\u001b[0;34m\u001b[0m\u001b[0m\n",
      "\u001b[0;31mAttributeError\u001b[0m: 'BeginExplorerWidget' object has no attribute 'tab1'"
     ]
    },
    {
     "ename": "AttributeError",
     "evalue": "'BeginExplorerWidget' object has no attribute 'tab1'",
     "output_type": "error",
     "traceback": [
      "\u001b[0;31m---------------------------------------------------------------------------\u001b[0m",
      "\u001b[0;31mAttributeError\u001b[0m                            Traceback (most recent call last)",
      "\u001b[0;32m<ipython-input-1-d7496d97171e>\u001b[0m in \u001b[0;36m<lambda>\u001b[0;34m()\u001b[0m\n\u001b[1;32m     19\u001b[0m         \u001b[0mself\u001b[0m\u001b[0;34m.\u001b[0m\u001b[0mrad1\u001b[0m\u001b[0;34m.\u001b[0m\u001b[0mtoggled\u001b[0m\u001b[0;34m.\u001b[0m\u001b[0mconnect\u001b[0m\u001b[0;34m(\u001b[0m\u001b[0;32mlambda\u001b[0m\u001b[0;34m:\u001b[0m \u001b[0mself\u001b[0m\u001b[0;34m.\u001b[0m\u001b[0mbtnstate\u001b[0m\u001b[0;34m(\u001b[0m\u001b[0mself\u001b[0m\u001b[0;34m.\u001b[0m\u001b[0mrad1\u001b[0m\u001b[0;34m)\u001b[0m\u001b[0;34m)\u001b[0m\u001b[0;34m\u001b[0m\u001b[0m\n\u001b[1;32m     20\u001b[0m         \u001b[0mself\u001b[0m\u001b[0;34m.\u001b[0m\u001b[0mrad2\u001b[0m \u001b[0;34m=\u001b[0m \u001b[0mQtGui\u001b[0m\u001b[0;34m.\u001b[0m\u001b[0mQRadioButton\u001b[0m\u001b[0;34m(\u001b[0m\u001b[0;34m\"Cell Line Correlation\"\u001b[0m\u001b[0;34m)\u001b[0m\u001b[0;34m\u001b[0m\u001b[0m\n\u001b[0;32m---> 21\u001b[0;31m         \u001b[0mself\u001b[0m\u001b[0;34m.\u001b[0m\u001b[0mrad2\u001b[0m\u001b[0;34m.\u001b[0m\u001b[0mtoggled\u001b[0m\u001b[0;34m.\u001b[0m\u001b[0mconnect\u001b[0m\u001b[0;34m(\u001b[0m\u001b[0;32mlambda\u001b[0m\u001b[0;34m:\u001b[0m \u001b[0mself\u001b[0m\u001b[0;34m.\u001b[0m\u001b[0mbtnstate\u001b[0m\u001b[0;34m(\u001b[0m\u001b[0mself\u001b[0m\u001b[0;34m.\u001b[0m\u001b[0mrad2\u001b[0m\u001b[0;34m)\u001b[0m\u001b[0;34m)\u001b[0m\u001b[0;34m\u001b[0m\u001b[0m\n\u001b[0m\u001b[1;32m     22\u001b[0m \u001b[0;34m\u001b[0m\u001b[0m\n\u001b[1;32m     23\u001b[0m         \u001b[0;31m#opens if rad1 on\u001b[0m\u001b[0;34m\u001b[0m\u001b[0;34m\u001b[0m\u001b[0m\n",
      "\u001b[0;32m<ipython-input-1-d7496d97171e>\u001b[0m in \u001b[0;36mbtnstate\u001b[0;34m(self, rad)\u001b[0m\n\u001b[1;32m     73\u001b[0m         \u001b[0;32mif\u001b[0m \u001b[0mrad\u001b[0m\u001b[0;34m.\u001b[0m\u001b[0mtext\u001b[0m\u001b[0;34m(\u001b[0m\u001b[0;34m)\u001b[0m \u001b[0;34m==\u001b[0m \u001b[0;34m\"Cell Line Correlation\"\u001b[0m\u001b[0;34m:\u001b[0m\u001b[0;34m\u001b[0m\u001b[0m\n\u001b[1;32m     74\u001b[0m             \u001b[0;31m#layout = QtGui.QGridLayout()\u001b[0m\u001b[0;34m\u001b[0m\u001b[0;34m\u001b[0m\u001b[0m\n\u001b[0;32m---> 75\u001b[0;31m             \u001b[0mself\u001b[0m\u001b[0;34m.\u001b[0m\u001b[0mtab1\u001b[0m\u001b[0;34m.\u001b[0m\u001b[0maddWidget\u001b[0m\u001b[0;34m(\u001b[0m\u001b[0mself\u001b[0m\u001b[0;34m.\u001b[0m\u001b[0mcomboA\u001b[0m\u001b[0;34m,\u001b[0m \u001b[0;36m1\u001b[0m\u001b[0;34m,\u001b[0m \u001b[0;36m1\u001b[0m\u001b[0;34m)\u001b[0m\u001b[0;34m\u001b[0m\u001b[0m\n\u001b[0m\u001b[1;32m     76\u001b[0m             \u001b[0mself\u001b[0m\u001b[0;34m.\u001b[0m\u001b[0mtab1\u001b[0m\u001b[0;34m.\u001b[0m\u001b[0maddWidget\u001b[0m\u001b[0;34m(\u001b[0m\u001b[0mself\u001b[0m\u001b[0;34m.\u001b[0m\u001b[0mcomboB\u001b[0m\u001b[0;34m,\u001b[0m \u001b[0;36m1\u001b[0m\u001b[0;34m,\u001b[0m \u001b[0;36m2\u001b[0m\u001b[0;34m)\u001b[0m\u001b[0;34m\u001b[0m\u001b[0m\n\u001b[1;32m     77\u001b[0m             \u001b[0mself\u001b[0m\u001b[0;34m.\u001b[0m\u001b[0mtab1\u001b[0m\u001b[0;34m.\u001b[0m\u001b[0maddWidget\u001b[0m\u001b[0;34m(\u001b[0m\u001b[0mself\u001b[0m\u001b[0;34m.\u001b[0m\u001b[0mcomboC\u001b[0m\u001b[0;34m,\u001b[0m \u001b[0;36m2\u001b[0m\u001b[0;34m,\u001b[0m \u001b[0;36m1\u001b[0m\u001b[0;34m)\u001b[0m\u001b[0;34m\u001b[0m\u001b[0m\n",
      "\u001b[0;31mAttributeError\u001b[0m: 'BeginExplorerWidget' object has no attribute 'tab1'"
     ]
    }
   ],
   "source": []
  },
  {
   "cell_type": "code",
   "execution_count": 1,
   "metadata": {
    "collapsed": false
   },
   "outputs": [
    {
     "ename": "AttributeError",
     "evalue": "'BeginExplorerWidget' object has no attribute 'tab1'",
     "output_type": "error",
     "traceback": [
      "\u001b[0;31m---------------------------------------------------------------------------\u001b[0m",
      "\u001b[0;31mAttributeError\u001b[0m                            Traceback (most recent call last)",
      "\u001b[0;32m<ipython-input-1-d7496d97171e>\u001b[0m in \u001b[0;36m<lambda>\u001b[0;34m()\u001b[0m\n\u001b[1;32m     17\u001b[0m         \u001b[0mbutton\u001b[0m\u001b[0;34m.\u001b[0m\u001b[0mclicked\u001b[0m\u001b[0;34m.\u001b[0m\u001b[0mconnect\u001b[0m\u001b[0;34m(\u001b[0m\u001b[0mself\u001b[0m\u001b[0;34m.\u001b[0m\u001b[0mmy_method\u001b[0m\u001b[0;34m)\u001b[0m\u001b[0;34m\u001b[0m\u001b[0m\n\u001b[1;32m     18\u001b[0m         \u001b[0mself\u001b[0m\u001b[0;34m.\u001b[0m\u001b[0mrad1\u001b[0m \u001b[0;34m=\u001b[0m \u001b[0mQtGui\u001b[0m\u001b[0;34m.\u001b[0m\u001b[0mQRadioButton\u001b[0m\u001b[0;34m(\u001b[0m\u001b[0;34m\"Explore Individual Cell Lines\"\u001b[0m\u001b[0;34m)\u001b[0m\u001b[0;34m\u001b[0m\u001b[0m\n\u001b[0;32m---> 19\u001b[0;31m         \u001b[0mself\u001b[0m\u001b[0;34m.\u001b[0m\u001b[0mrad1\u001b[0m\u001b[0;34m.\u001b[0m\u001b[0mtoggled\u001b[0m\u001b[0;34m.\u001b[0m\u001b[0mconnect\u001b[0m\u001b[0;34m(\u001b[0m\u001b[0;32mlambda\u001b[0m\u001b[0;34m:\u001b[0m \u001b[0mself\u001b[0m\u001b[0;34m.\u001b[0m\u001b[0mbtnstate\u001b[0m\u001b[0;34m(\u001b[0m\u001b[0mself\u001b[0m\u001b[0;34m.\u001b[0m\u001b[0mrad1\u001b[0m\u001b[0;34m)\u001b[0m\u001b[0;34m)\u001b[0m\u001b[0;34m\u001b[0m\u001b[0m\n\u001b[0m\u001b[1;32m     20\u001b[0m         \u001b[0mself\u001b[0m\u001b[0;34m.\u001b[0m\u001b[0mrad2\u001b[0m \u001b[0;34m=\u001b[0m \u001b[0mQtGui\u001b[0m\u001b[0;34m.\u001b[0m\u001b[0mQRadioButton\u001b[0m\u001b[0;34m(\u001b[0m\u001b[0;34m\"Cell Line Correlation\"\u001b[0m\u001b[0;34m)\u001b[0m\u001b[0;34m\u001b[0m\u001b[0m\n\u001b[1;32m     21\u001b[0m         \u001b[0mself\u001b[0m\u001b[0;34m.\u001b[0m\u001b[0mrad2\u001b[0m\u001b[0;34m.\u001b[0m\u001b[0mtoggled\u001b[0m\u001b[0;34m.\u001b[0m\u001b[0mconnect\u001b[0m\u001b[0;34m(\u001b[0m\u001b[0;32mlambda\u001b[0m\u001b[0;34m:\u001b[0m \u001b[0mself\u001b[0m\u001b[0;34m.\u001b[0m\u001b[0mbtnstate\u001b[0m\u001b[0;34m(\u001b[0m\u001b[0mself\u001b[0m\u001b[0;34m.\u001b[0m\u001b[0mrad2\u001b[0m\u001b[0;34m)\u001b[0m\u001b[0;34m)\u001b[0m\u001b[0;34m\u001b[0m\u001b[0m\n",
      "\u001b[0;32m<ipython-input-1-d7496d97171e>\u001b[0m in \u001b[0;36mbtnstate\u001b[0;34m(self, rad)\u001b[0m\n\u001b[1;32m     69\u001b[0m     \u001b[0;32mdef\u001b[0m \u001b[0mbtnstate\u001b[0m\u001b[0;34m(\u001b[0m\u001b[0mself\u001b[0m\u001b[0;34m,\u001b[0m \u001b[0mrad\u001b[0m\u001b[0;34m)\u001b[0m\u001b[0;34m:\u001b[0m\u001b[0;34m\u001b[0m\u001b[0m\n\u001b[1;32m     70\u001b[0m         \u001b[0;32mif\u001b[0m \u001b[0mrad\u001b[0m\u001b[0;34m.\u001b[0m\u001b[0mtext\u001b[0m\u001b[0;34m(\u001b[0m\u001b[0;34m)\u001b[0m \u001b[0;34m==\u001b[0m \u001b[0;34m\"Explore Individual Cell Lines\"\u001b[0m\u001b[0;34m:\u001b[0m\u001b[0;34m\u001b[0m\u001b[0m\n\u001b[0;32m---> 71\u001b[0;31m             \u001b[0mself\u001b[0m\u001b[0;34m.\u001b[0m\u001b[0mtab1\u001b[0m\u001b[0;34m.\u001b[0m\u001b[0maddWidget\u001b[0m\u001b[0;34m(\u001b[0m\u001b[0mself\u001b[0m\u001b[0;34m.\u001b[0m\u001b[0mcombo1\u001b[0m\u001b[0;34m,\u001b[0m \u001b[0;36m1\u001b[0m\u001b[0;34m,\u001b[0m \u001b[0;36m1\u001b[0m\u001b[0;34m)\u001b[0m\u001b[0;34m\u001b[0m\u001b[0m\n\u001b[0m\u001b[1;32m     72\u001b[0m             \u001b[0mself\u001b[0m\u001b[0;34m.\u001b[0m\u001b[0mtab1\u001b[0m\u001b[0;34m.\u001b[0m\u001b[0maddWidget\u001b[0m\u001b[0;34m(\u001b[0m\u001b[0mself\u001b[0m\u001b[0;34m.\u001b[0m\u001b[0mcombo2\u001b[0m\u001b[0;34m,\u001b[0m \u001b[0;36m1\u001b[0m\u001b[0;34m,\u001b[0m \u001b[0;36m2\u001b[0m\u001b[0;34m)\u001b[0m\u001b[0;34m\u001b[0m\u001b[0m\n\u001b[1;32m     73\u001b[0m         \u001b[0;32mif\u001b[0m \u001b[0mrad\u001b[0m\u001b[0;34m.\u001b[0m\u001b[0mtext\u001b[0m\u001b[0;34m(\u001b[0m\u001b[0;34m)\u001b[0m \u001b[0;34m==\u001b[0m \u001b[0;34m\"Cell Line Correlation\"\u001b[0m\u001b[0;34m:\u001b[0m\u001b[0;34m\u001b[0m\u001b[0m\n",
      "\u001b[0;31mAttributeError\u001b[0m: 'BeginExplorerWidget' object has no attribute 'tab1'"
     ]
    },
    {
     "ename": "AttributeError",
     "evalue": "'BeginExplorerWidget' object has no attribute 'tab1'",
     "output_type": "error",
     "traceback": [
      "\u001b[0;31m---------------------------------------------------------------------------\u001b[0m",
      "\u001b[0;31mAttributeError\u001b[0m                            Traceback (most recent call last)",
      "\u001b[0;32m<ipython-input-1-d7496d97171e>\u001b[0m in \u001b[0;36m<lambda>\u001b[0;34m()\u001b[0m\n\u001b[1;32m     17\u001b[0m         \u001b[0mbutton\u001b[0m\u001b[0;34m.\u001b[0m\u001b[0mclicked\u001b[0m\u001b[0;34m.\u001b[0m\u001b[0mconnect\u001b[0m\u001b[0;34m(\u001b[0m\u001b[0mself\u001b[0m\u001b[0;34m.\u001b[0m\u001b[0mmy_method\u001b[0m\u001b[0;34m)\u001b[0m\u001b[0;34m\u001b[0m\u001b[0m\n\u001b[1;32m     18\u001b[0m         \u001b[0mself\u001b[0m\u001b[0;34m.\u001b[0m\u001b[0mrad1\u001b[0m \u001b[0;34m=\u001b[0m \u001b[0mQtGui\u001b[0m\u001b[0;34m.\u001b[0m\u001b[0mQRadioButton\u001b[0m\u001b[0;34m(\u001b[0m\u001b[0;34m\"Explore Individual Cell Lines\"\u001b[0m\u001b[0;34m)\u001b[0m\u001b[0;34m\u001b[0m\u001b[0m\n\u001b[0;32m---> 19\u001b[0;31m         \u001b[0mself\u001b[0m\u001b[0;34m.\u001b[0m\u001b[0mrad1\u001b[0m\u001b[0;34m.\u001b[0m\u001b[0mtoggled\u001b[0m\u001b[0;34m.\u001b[0m\u001b[0mconnect\u001b[0m\u001b[0;34m(\u001b[0m\u001b[0;32mlambda\u001b[0m\u001b[0;34m:\u001b[0m \u001b[0mself\u001b[0m\u001b[0;34m.\u001b[0m\u001b[0mbtnstate\u001b[0m\u001b[0;34m(\u001b[0m\u001b[0mself\u001b[0m\u001b[0;34m.\u001b[0m\u001b[0mrad1\u001b[0m\u001b[0;34m)\u001b[0m\u001b[0;34m)\u001b[0m\u001b[0;34m\u001b[0m\u001b[0m\n\u001b[0m\u001b[1;32m     20\u001b[0m         \u001b[0mself\u001b[0m\u001b[0;34m.\u001b[0m\u001b[0mrad2\u001b[0m \u001b[0;34m=\u001b[0m \u001b[0mQtGui\u001b[0m\u001b[0;34m.\u001b[0m\u001b[0mQRadioButton\u001b[0m\u001b[0;34m(\u001b[0m\u001b[0;34m\"Cell Line Correlation\"\u001b[0m\u001b[0;34m)\u001b[0m\u001b[0;34m\u001b[0m\u001b[0m\n\u001b[1;32m     21\u001b[0m         \u001b[0mself\u001b[0m\u001b[0;34m.\u001b[0m\u001b[0mrad2\u001b[0m\u001b[0;34m.\u001b[0m\u001b[0mtoggled\u001b[0m\u001b[0;34m.\u001b[0m\u001b[0mconnect\u001b[0m\u001b[0;34m(\u001b[0m\u001b[0;32mlambda\u001b[0m\u001b[0;34m:\u001b[0m \u001b[0mself\u001b[0m\u001b[0;34m.\u001b[0m\u001b[0mbtnstate\u001b[0m\u001b[0;34m(\u001b[0m\u001b[0mself\u001b[0m\u001b[0;34m.\u001b[0m\u001b[0mrad2\u001b[0m\u001b[0;34m)\u001b[0m\u001b[0;34m)\u001b[0m\u001b[0;34m\u001b[0m\u001b[0m\n",
      "\u001b[0;32m<ipython-input-1-d7496d97171e>\u001b[0m in \u001b[0;36mbtnstate\u001b[0;34m(self, rad)\u001b[0m\n\u001b[1;32m     69\u001b[0m     \u001b[0;32mdef\u001b[0m \u001b[0mbtnstate\u001b[0m\u001b[0;34m(\u001b[0m\u001b[0mself\u001b[0m\u001b[0;34m,\u001b[0m \u001b[0mrad\u001b[0m\u001b[0;34m)\u001b[0m\u001b[0;34m:\u001b[0m\u001b[0;34m\u001b[0m\u001b[0m\n\u001b[1;32m     70\u001b[0m         \u001b[0;32mif\u001b[0m \u001b[0mrad\u001b[0m\u001b[0;34m.\u001b[0m\u001b[0mtext\u001b[0m\u001b[0;34m(\u001b[0m\u001b[0;34m)\u001b[0m \u001b[0;34m==\u001b[0m \u001b[0;34m\"Explore Individual Cell Lines\"\u001b[0m\u001b[0;34m:\u001b[0m\u001b[0;34m\u001b[0m\u001b[0m\n\u001b[0;32m---> 71\u001b[0;31m             \u001b[0mself\u001b[0m\u001b[0;34m.\u001b[0m\u001b[0mtab1\u001b[0m\u001b[0;34m.\u001b[0m\u001b[0maddWidget\u001b[0m\u001b[0;34m(\u001b[0m\u001b[0mself\u001b[0m\u001b[0;34m.\u001b[0m\u001b[0mcombo1\u001b[0m\u001b[0;34m,\u001b[0m \u001b[0;36m1\u001b[0m\u001b[0;34m,\u001b[0m \u001b[0;36m1\u001b[0m\u001b[0;34m)\u001b[0m\u001b[0;34m\u001b[0m\u001b[0m\n\u001b[0m\u001b[1;32m     72\u001b[0m             \u001b[0mself\u001b[0m\u001b[0;34m.\u001b[0m\u001b[0mtab1\u001b[0m\u001b[0;34m.\u001b[0m\u001b[0maddWidget\u001b[0m\u001b[0;34m(\u001b[0m\u001b[0mself\u001b[0m\u001b[0;34m.\u001b[0m\u001b[0mcombo2\u001b[0m\u001b[0;34m,\u001b[0m \u001b[0;36m1\u001b[0m\u001b[0;34m,\u001b[0m \u001b[0;36m2\u001b[0m\u001b[0;34m)\u001b[0m\u001b[0;34m\u001b[0m\u001b[0m\n\u001b[1;32m     73\u001b[0m         \u001b[0;32mif\u001b[0m \u001b[0mrad\u001b[0m\u001b[0;34m.\u001b[0m\u001b[0mtext\u001b[0m\u001b[0;34m(\u001b[0m\u001b[0;34m)\u001b[0m \u001b[0;34m==\u001b[0m \u001b[0;34m\"Cell Line Correlation\"\u001b[0m\u001b[0;34m:\u001b[0m\u001b[0;34m\u001b[0m\u001b[0m\n",
      "\u001b[0;31mAttributeError\u001b[0m: 'BeginExplorerWidget' object has no attribute 'tab1'"
     ]
    },
    {
     "ename": "AttributeError",
     "evalue": "'BeginExplorerWidget' object has no attribute 'tab1'",
     "output_type": "error",
     "traceback": [
      "\u001b[0;31m---------------------------------------------------------------------------\u001b[0m",
      "\u001b[0;31mAttributeError\u001b[0m                            Traceback (most recent call last)",
      "\u001b[0;32m<ipython-input-1-d7496d97171e>\u001b[0m in \u001b[0;36m<lambda>\u001b[0;34m()\u001b[0m\n\u001b[1;32m     19\u001b[0m         \u001b[0mself\u001b[0m\u001b[0;34m.\u001b[0m\u001b[0mrad1\u001b[0m\u001b[0;34m.\u001b[0m\u001b[0mtoggled\u001b[0m\u001b[0;34m.\u001b[0m\u001b[0mconnect\u001b[0m\u001b[0;34m(\u001b[0m\u001b[0;32mlambda\u001b[0m\u001b[0;34m:\u001b[0m \u001b[0mself\u001b[0m\u001b[0;34m.\u001b[0m\u001b[0mbtnstate\u001b[0m\u001b[0;34m(\u001b[0m\u001b[0mself\u001b[0m\u001b[0;34m.\u001b[0m\u001b[0mrad1\u001b[0m\u001b[0;34m)\u001b[0m\u001b[0;34m)\u001b[0m\u001b[0;34m\u001b[0m\u001b[0m\n\u001b[1;32m     20\u001b[0m         \u001b[0mself\u001b[0m\u001b[0;34m.\u001b[0m\u001b[0mrad2\u001b[0m \u001b[0;34m=\u001b[0m \u001b[0mQtGui\u001b[0m\u001b[0;34m.\u001b[0m\u001b[0mQRadioButton\u001b[0m\u001b[0;34m(\u001b[0m\u001b[0;34m\"Cell Line Correlation\"\u001b[0m\u001b[0;34m)\u001b[0m\u001b[0;34m\u001b[0m\u001b[0m\n\u001b[0;32m---> 21\u001b[0;31m         \u001b[0mself\u001b[0m\u001b[0;34m.\u001b[0m\u001b[0mrad2\u001b[0m\u001b[0;34m.\u001b[0m\u001b[0mtoggled\u001b[0m\u001b[0;34m.\u001b[0m\u001b[0mconnect\u001b[0m\u001b[0;34m(\u001b[0m\u001b[0;32mlambda\u001b[0m\u001b[0;34m:\u001b[0m \u001b[0mself\u001b[0m\u001b[0;34m.\u001b[0m\u001b[0mbtnstate\u001b[0m\u001b[0;34m(\u001b[0m\u001b[0mself\u001b[0m\u001b[0;34m.\u001b[0m\u001b[0mrad2\u001b[0m\u001b[0;34m)\u001b[0m\u001b[0;34m)\u001b[0m\u001b[0;34m\u001b[0m\u001b[0m\n\u001b[0m\u001b[1;32m     22\u001b[0m \u001b[0;34m\u001b[0m\u001b[0m\n\u001b[1;32m     23\u001b[0m         \u001b[0;31m#opens if rad1 on\u001b[0m\u001b[0;34m\u001b[0m\u001b[0;34m\u001b[0m\u001b[0m\n",
      "\u001b[0;32m<ipython-input-1-d7496d97171e>\u001b[0m in \u001b[0;36mbtnstate\u001b[0;34m(self, rad)\u001b[0m\n\u001b[1;32m     73\u001b[0m         \u001b[0;32mif\u001b[0m \u001b[0mrad\u001b[0m\u001b[0;34m.\u001b[0m\u001b[0mtext\u001b[0m\u001b[0;34m(\u001b[0m\u001b[0;34m)\u001b[0m \u001b[0;34m==\u001b[0m \u001b[0;34m\"Cell Line Correlation\"\u001b[0m\u001b[0;34m:\u001b[0m\u001b[0;34m\u001b[0m\u001b[0m\n\u001b[1;32m     74\u001b[0m             \u001b[0;31m#layout = QtGui.QGridLayout()\u001b[0m\u001b[0;34m\u001b[0m\u001b[0;34m\u001b[0m\u001b[0m\n\u001b[0;32m---> 75\u001b[0;31m             \u001b[0mself\u001b[0m\u001b[0;34m.\u001b[0m\u001b[0mtab1\u001b[0m\u001b[0;34m.\u001b[0m\u001b[0maddWidget\u001b[0m\u001b[0;34m(\u001b[0m\u001b[0mself\u001b[0m\u001b[0;34m.\u001b[0m\u001b[0mcomboA\u001b[0m\u001b[0;34m,\u001b[0m \u001b[0;36m1\u001b[0m\u001b[0;34m,\u001b[0m \u001b[0;36m1\u001b[0m\u001b[0;34m)\u001b[0m\u001b[0;34m\u001b[0m\u001b[0m\n\u001b[0m\u001b[1;32m     76\u001b[0m             \u001b[0mself\u001b[0m\u001b[0;34m.\u001b[0m\u001b[0mtab1\u001b[0m\u001b[0;34m.\u001b[0m\u001b[0maddWidget\u001b[0m\u001b[0;34m(\u001b[0m\u001b[0mself\u001b[0m\u001b[0;34m.\u001b[0m\u001b[0mcomboB\u001b[0m\u001b[0;34m,\u001b[0m \u001b[0;36m1\u001b[0m\u001b[0;34m,\u001b[0m \u001b[0;36m2\u001b[0m\u001b[0;34m)\u001b[0m\u001b[0;34m\u001b[0m\u001b[0m\n\u001b[1;32m     77\u001b[0m             \u001b[0mself\u001b[0m\u001b[0;34m.\u001b[0m\u001b[0mtab1\u001b[0m\u001b[0;34m.\u001b[0m\u001b[0maddWidget\u001b[0m\u001b[0;34m(\u001b[0m\u001b[0mself\u001b[0m\u001b[0;34m.\u001b[0m\u001b[0mcomboC\u001b[0m\u001b[0;34m,\u001b[0m \u001b[0;36m2\u001b[0m\u001b[0;34m,\u001b[0m \u001b[0;36m1\u001b[0m\u001b[0;34m)\u001b[0m\u001b[0;34m\u001b[0m\u001b[0m\n",
      "\u001b[0;31mAttributeError\u001b[0m: 'BeginExplorerWidget' object has no attribute 'tab1'"
     ]
    }
   ],
   "source": []
  },
  {
   "cell_type": "code",
   "execution_count": 1,
   "metadata": {
    "collapsed": true
   },
   "outputs": [],
   "source": [
    "#7.5.2016 making toggle switches\n",
    "\n",
    "import sys\n",
    "import webbrowser\n",
    "from PyQt4 import QtGui, QtCore\n",
    "\n",
    "QtGui.QApplication.setStyle(QtGui.QStyleFactory.create('Plastique'))\n",
    "\n",
    "class BeginExplorerWidget(QtGui.QTabWidget):\n",
    "    def __init__(self, parent=None):\n",
    "        super(BeginExplorerWidget, self).__init__(parent)\n",
    "        self.setGeometry(50,50,800,600)\n",
    "        self.setWindowTitle(\"Explorer\")\n",
    "\n",
    "        #Defining items inside the tabs\n",
    "\n",
    "        #tab 1: ProQinase Cancer Cell Line Explorer\n",
    "        button = QtGui.QPushButton(\"Reset parameters\")\n",
    "        button.clicked.connect(self.my_method)        \n",
    "        self.rad1 = QtGui.QRadioButton(\"Explore Individual Cell Lines\")\n",
    "        self.rad1.toggled.connect(lambda: self.btnstate(self.rad1))\n",
    "        self.rad2 = QtGui.QRadioButton(\"Cell Line Correlation\")\n",
    "        self.rad2.toggled.connect(lambda: self.btnstate(self.rad2))\n",
    "\n",
    "        #opens if rad1 on\n",
    "        self.combo1 = QtGui.QComboBox(self)\n",
    "        self.list1 = ['x', 'y', 'z']\n",
    "        self.combo1.addItems(QtCore.QStringList(self.list1))\n",
    "        self.combo1.currentIndexChanged.connect(self.changeindexcombo1)\n",
    "        self.combo2 = QtGui.QComboBox(self)\n",
    "        self.list2 =[['x1', 'x2', 'x3'], ['y1', 'y2', 'y3'], ['z1', 'z2', 'z3']]\n",
    "        self.combo2.addItems(QtCore.QStringList(self.list2[0]))\n",
    "\n",
    "        #opens if rad2 on\n",
    "        self.comboA = QtGui.QComboBox(self)\n",
    "        self.listA = ['CPQ #', 'CCLE #']\n",
    "        self.comboA.currentIndexChanged.connect(self.changeindexcomboA)\n",
    "        self.comboB = QtGui.QComboBox(self)\n",
    "        self.listB = [['Q1', 'Q2', 'Q3'], ['C1', 'C2', 'C3']]\n",
    "        self.comboC = QtGui.QComboBox(self)\n",
    "        self.listC = ['CPQ #', 'CCLE #']\n",
    "        self.comboC.currentIndexChanged.connect(self.changeindexcomboC)\n",
    "        self.comboD = QtGui.QComboBox(self)\n",
    "        self.listD = [['Q1', 'Q2', 'Q3'], ['C1', 'C2', 'C3']]\n",
    "\n",
    "        tab1 = QtGui.QWidget()  \n",
    "\n",
    "        #layouts:        \n",
    "        #tab 1: ProQinase Cancer Cell Line Explorer\n",
    "        layout = QtGui.QGridLayout()\n",
    "        layout.addWidget(button, 0,0)\n",
    "        layout.addWidget(self.rad1, 0,1)\n",
    "        layout.addWidget(self.rad2, 0,2)\n",
    "        tab1.setLayout(layout)\n",
    "\n",
    "        self.group = QtGui.QButtonGroup()\n",
    "        self.group.addButton(self.rad1)\n",
    "        self.group.addButton(self.rad2)\n",
    "\n",
    "        #adding tabs to the QtGui.QTabWidget\n",
    "        self.addTab(tab1,\"ProQinase Cancer Cell Lines\")\n",
    "\n",
    "        self.show()\n",
    "\n",
    "    def my_method(self):\n",
    "        self.group.setExclusive(False)\n",
    "        self.rad1.setChecked(False)\n",
    "        self.rad2.setChecked(False)\n",
    "        self.group.setExclusive(True)\n",
    "\n",
    "    def btnstate(self, rad):\n",
    "        if rad.text() == \"Explore Individual Cell Lines\":\n",
    "            self.tab1.addWidget(self.combo1, 1, 1)\n",
    "            self.tab1.addWidget(self.combo2, 1, 2)       \n",
    "        if rad.text() == \"Cell Line Correlation\":\n",
    "            #layout = QtGui.QGridLayout()\n",
    "            self.tab1.addWidget(self.comboA, 1, 1)\n",
    "            self.tab1.addWidget(self.comboB, 1, 2)\n",
    "            self.tab1.addWidget(self.comboC, 2, 1)\n",
    "            self.tab1.addWidget(self.comboD, 2, 2)\n",
    "            #tab1.setlayout(layout)\n",
    "\n",
    "    def changeindexcombo1(self, ind):\n",
    "        self.combo2.clear()\n",
    "        self.combo2.addItems(QtCore.QStringList(self.list2[ind]))\n",
    "\n",
    "    def changeindexcomboA(self, ind):\n",
    "        self.comboB.clear()\n",
    "        self.comboB.addItems(QtCore.QStringList(self.list2[ind]))\n",
    "\n",
    "    def changeindexcomboC(self, ind):\n",
    "        self.comboD.clear()\n",
    "        self.comboD.addItems(QtCore.QStringList(self.list2[ind]))\n",
    "\n",
    "if __name__ == '__main__':\n",
    "    app = QtGui.QApplication([])\n",
    "    window = BeginExplorerWidget()\n",
    "    window.show()\n",
    "    app.exec_()"
   ]
  },
  {
   "cell_type": "code",
   "execution_count": null,
   "metadata": {
    "collapsed": true
   },
   "outputs": [],
   "source": []
  }
 ],
 "metadata": {
  "kernelspec": {
   "display_name": "Python 2",
   "language": "python",
   "name": "python2"
  }
 },
 "nbformat": 4,
 "nbformat_minor": 0
}
