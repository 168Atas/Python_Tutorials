{
 "cells": [
  {
   "cell_type": "code",
   "execution_count": 1,
   "metadata": {
    "collapsed": true
   },
   "outputs": [],
   "source": [
    "#######\n",
    "# general parameters\n",
    "#######\n",
    "%matplotlib inline\n",
    "import matplotlib.pyplot as mpl\n",
    "import pickle\n",
    "import pandas as pd\n",
    "import numpy as np"
   ]
  },
  {
   "cell_type": "markdown",
   "metadata": {},
   "source": [
    "We test the statistical significance of any difference in the click through rate for our experiment (N subjects, I different emails).\n",
    "We want to see in different cases what is the significant difference "
   ]
  },
  {
   "cell_type": "code",
   "execution_count": 2,
   "metadata": {
    "collapsed": true
   },
   "outputs": [],
   "source": [
    "def test_emails(N,I,theta_1,theta_2):\n",
    "  if theta_1>theta_2: \n",
    "    temp = theta_1\n",
    "    theta_1 = theta_2\n",
    "    theta_2 = temp\n",
    "  print theta_1-theta_2\n",
    "  # max value with a 0.95 confidence interval\n",
    "  v = theta_1-theta_2 + 1.96*\\\n",
    "      np.sqrt((theta_1*(1-theta_1) + theta_2*(1-theta_2))/(N/I))\n",
    "  if v<0: return 'ok'\n",
    "  else: return 'nope'"
   ]
  },
  {
   "cell_type": "code",
   "execution_count": 3,
   "metadata": {
    "collapsed": false
   },
   "outputs": [
    {
     "name": "stdout",
     "output_type": "stream",
     "text": [
      "-0.024\n",
      "ok\n"
     ]
    }
   ],
   "source": [
    "N= 3600. # number of subjects           \n",
    "I = 4. # number of emails tested\n",
    "theta_1 = 0.06 # approximated click through rate for email 1\n",
    "theta_2 = 0.084# approximated click through rate for email 2\n",
    "print test_emails(N,I,theta_1,theta_2)"
   ]
  },
  {
   "cell_type": "code",
   "execution_count": null,
   "metadata": {
    "collapsed": true
   },
   "outputs": [],
   "source": [
    "# 2400 this time around. "
   ]
  },
  {
   "cell_type": "code",
   "execution_count": 10,
   "metadata": {
    "collapsed": false
   },
   "outputs": [
    {
     "data": {
      "text/plain": [
       "0.03"
      ]
     },
     "execution_count": 10,
     "metadata": {},
     "output_type": "execute_result"
    }
   ],
   "source": [
    "5\n",
    "5\n",
    "8\n",
    "2"
   ]
  },
  {
   "cell_type": "code",
   "execution_count": null,
   "metadata": {
    "collapsed": true
   },
   "outputs": [],
   "source": []
  }
 ],
 "metadata": {
  "anaconda-cloud": {},
  "kernelspec": {
   "display_name": "Python [default]",
   "language": "python",
   "name": "python2"
  },
  "language_info": {
   "codemirror_mode": {
    "name": "ipython",
    "version": 2
   },
   "file_extension": ".py",
   "mimetype": "text/x-python",
   "name": "python",
   "nbconvert_exporter": "python",
   "pygments_lexer": "ipython2",
   "version": "2.7.12"
  }
 },
 "nbformat": 4,
 "nbformat_minor": 2
}
