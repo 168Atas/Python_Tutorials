{
 "cells": [
  {
   "cell_type": "markdown",
   "metadata": {},
   "source": [
    "<h1 align=\"center\"> Heat Maps using Matplotlib and Seaborn</h1>"
   ]
  },
  {
   "cell_type": "code",
   "execution_count": 1,
   "metadata": {
    "collapsed": false
   },
   "outputs": [
    {
     "name": "stdout",
     "output_type": "stream",
     "text": [
      "Populating the interactive namespace from numpy and matplotlib\n"
     ]
    }
   ],
   "source": [
    "%pylab inline\n",
    "import matplotlib.pyplot as plt\n",
    "import pandas as pd\n",
    "import numpy as np"
   ]
  },
  {
   "cell_type": "code",
   "execution_count": 2,
   "metadata": {
    "collapsed": false
   },
   "outputs": [
    {
     "data": {
      "text/html": [
       "<div>\n",
       "<table border=\"1\" class=\"dataframe\">\n",
       "  <thead>\n",
       "    <tr style=\"text-align: right;\">\n",
       "      <th></th>\n",
       "      <th>job_n</th>\n",
       "      <th>Energy</th>\n",
       "      <th>n_helices</th>\n",
       "      <th>r0_A</th>\n",
       "      <th>r0_B</th>\n",
       "      <th>r0_C</th>\n",
       "      <th>omega0</th>\n",
       "      <th>delta_omega0_A</th>\n",
       "      <th>delta_omega0_B</th>\n",
       "      <th>delta_omega0_C</th>\n",
       "      <th>...</th>\n",
       "      <th>invert_B</th>\n",
       "      <th>invert_C</th>\n",
       "      <th>z1_offset_A</th>\n",
       "      <th>z1_offset_B</th>\n",
       "      <th>z1_offset_C</th>\n",
       "      <th>delta_t_A</th>\n",
       "      <th>delta_t_B</th>\n",
       "      <th>delta_t_C</th>\n",
       "      <th>omega1</th>\n",
       "      <th>z1</th>\n",
       "    </tr>\n",
       "  </thead>\n",
       "  <tbody>\n",
       "    <tr>\n",
       "      <th>0</th>\n",
       "      <td>36019</td>\n",
       "      <td>-387.167</td>\n",
       "      <td>3</td>\n",
       "      <td>6.0</td>\n",
       "      <td>6.0</td>\n",
       "      <td>6.0</td>\n",
       "      <td>0</td>\n",
       "      <td>0</td>\n",
       "      <td>120</td>\n",
       "      <td>240</td>\n",
       "      <td>...</td>\n",
       "      <td>1</td>\n",
       "      <td>0</td>\n",
       "      <td>0</td>\n",
       "      <td>0.6</td>\n",
       "      <td>-3.0</td>\n",
       "      <td>0</td>\n",
       "      <td>0</td>\n",
       "      <td>0</td>\n",
       "      <td>99.999268</td>\n",
       "      <td>1.51</td>\n",
       "    </tr>\n",
       "    <tr>\n",
       "      <th>1</th>\n",
       "      <td>36022</td>\n",
       "      <td>-402.606</td>\n",
       "      <td>3</td>\n",
       "      <td>6.0</td>\n",
       "      <td>6.0</td>\n",
       "      <td>6.0</td>\n",
       "      <td>0</td>\n",
       "      <td>0</td>\n",
       "      <td>120</td>\n",
       "      <td>240</td>\n",
       "      <td>...</td>\n",
       "      <td>1</td>\n",
       "      <td>0</td>\n",
       "      <td>0</td>\n",
       "      <td>0.6</td>\n",
       "      <td>0.6</td>\n",
       "      <td>0</td>\n",
       "      <td>0</td>\n",
       "      <td>0</td>\n",
       "      <td>99.999268</td>\n",
       "      <td>1.51</td>\n",
       "    </tr>\n",
       "    <tr>\n",
       "      <th>2</th>\n",
       "      <td>36020</td>\n",
       "      <td>-395.944</td>\n",
       "      <td>3</td>\n",
       "      <td>6.0</td>\n",
       "      <td>6.0</td>\n",
       "      <td>6.0</td>\n",
       "      <td>0</td>\n",
       "      <td>0</td>\n",
       "      <td>120</td>\n",
       "      <td>240</td>\n",
       "      <td>...</td>\n",
       "      <td>1</td>\n",
       "      <td>0</td>\n",
       "      <td>0</td>\n",
       "      <td>0.6</td>\n",
       "      <td>-1.8</td>\n",
       "      <td>0</td>\n",
       "      <td>0</td>\n",
       "      <td>0</td>\n",
       "      <td>99.999268</td>\n",
       "      <td>1.51</td>\n",
       "    </tr>\n",
       "    <tr>\n",
       "      <th>3</th>\n",
       "      <td>36002</td>\n",
       "      <td>-389.788</td>\n",
       "      <td>3</td>\n",
       "      <td>6.0</td>\n",
       "      <td>6.0</td>\n",
       "      <td>6.0</td>\n",
       "      <td>0</td>\n",
       "      <td>0</td>\n",
       "      <td>120</td>\n",
       "      <td>240</td>\n",
       "      <td>...</td>\n",
       "      <td>1</td>\n",
       "      <td>0</td>\n",
       "      <td>0</td>\n",
       "      <td>-3.0</td>\n",
       "      <td>-1.8</td>\n",
       "      <td>0</td>\n",
       "      <td>0</td>\n",
       "      <td>0</td>\n",
       "      <td>99.999268</td>\n",
       "      <td>1.51</td>\n",
       "    </tr>\n",
       "    <tr>\n",
       "      <th>4</th>\n",
       "      <td>36005</td>\n",
       "      <td>-388.016</td>\n",
       "      <td>3</td>\n",
       "      <td>6.0</td>\n",
       "      <td>6.0</td>\n",
       "      <td>6.0</td>\n",
       "      <td>0</td>\n",
       "      <td>0</td>\n",
       "      <td>120</td>\n",
       "      <td>240</td>\n",
       "      <td>...</td>\n",
       "      <td>1</td>\n",
       "      <td>0</td>\n",
       "      <td>0</td>\n",
       "      <td>-3.0</td>\n",
       "      <td>1.8</td>\n",
       "      <td>0</td>\n",
       "      <td>0</td>\n",
       "      <td>0</td>\n",
       "      <td>99.999268</td>\n",
       "      <td>1.51</td>\n",
       "    </tr>\n",
       "  </tbody>\n",
       "</table>\n",
       "<p>5 rows × 27 columns</p>\n",
       "</div>"
      ],
      "text/plain": [
       "   job_n   Energy  n_helices  r0_A  r0_B  r0_C  omega0  delta_omega0_A  \\\n",
       "0  36019 -387.167          3   6.0   6.0   6.0       0               0   \n",
       "1  36022 -402.606          3   6.0   6.0   6.0       0               0   \n",
       "2  36020 -395.944          3   6.0   6.0   6.0       0               0   \n",
       "3  36002 -389.788          3   6.0   6.0   6.0       0               0   \n",
       "4  36005 -388.016          3   6.0   6.0   6.0       0               0   \n",
       "\n",
       "   delta_omega0_B  delta_omega0_C  ...   invert_B  invert_C  z1_offset_A  \\\n",
       "0             120             240  ...          1         0            0   \n",
       "1             120             240  ...          1         0            0   \n",
       "2             120             240  ...          1         0            0   \n",
       "3             120             240  ...          1         0            0   \n",
       "4             120             240  ...          1         0            0   \n",
       "\n",
       "   z1_offset_B  z1_offset_C  delta_t_A  delta_t_B  delta_t_C     omega1    z1  \n",
       "0          0.6         -3.0          0          0          0  99.999268  1.51  \n",
       "1          0.6          0.6          0          0          0  99.999268  1.51  \n",
       "2          0.6         -1.8          0          0          0  99.999268  1.51  \n",
       "3         -3.0         -1.8          0          0          0  99.999268  1.51  \n",
       "4         -3.0          1.8          0          0          0  99.999268  1.51  \n",
       "\n",
       "[5 rows x 27 columns]"
      ]
     },
     "execution_count": 2,
     "metadata": {},
     "output_type": "execute_result"
    }
   ],
   "source": [
    "helix = pd.read_csv('Data/helix_parameters.csv')\n",
    "helix.head() # just seeing that data was imported properly by outputing first 5 cells"
   ]
  },
  {
   "cell_type": "code",
   "execution_count": 3,
   "metadata": {
    "collapsed": false
   },
   "outputs": [
    {
     "data": {
      "text/plain": [
       "(47475, 27)"
      ]
     },
     "execution_count": 3,
     "metadata": {},
     "output_type": "execute_result"
    }
   ],
   "source": [
    "# shape of the dataframe\n",
    "helix.shape"
   ]
  },
  {
   "cell_type": "code",
   "execution_count": 4,
   "metadata": {
    "collapsed": false
   },
   "outputs": [
    {
     "data": {
      "text/plain": [
       "Index([u'job_n', u'Energy', u'n_helices', u'r0_A', u'r0_B', u'r0_C', u'omega0',\n",
       "       u'delta_omega0_A', u'delta_omega0_B', u'delta_omega0_C', u'z0_offset_A',\n",
       "       u'z0_offset_B', u'z0_offset_C', u'helix1 phase', u'helix 2 phase',\n",
       "       u'helix3 phase', u'invert_A', u'invert_B', u'invert_C', u'z1_offset_A',\n",
       "       u'z1_offset_B', u'z1_offset_C', u'delta_t_A', u'delta_t_B',\n",
       "       u'delta_t_C', u'omega1', u'z1'],\n",
       "      dtype='object')"
      ]
     },
     "execution_count": 4,
     "metadata": {},
     "output_type": "execute_result"
    }
   ],
   "source": [
    "# checking what the columns are\n",
    "helix.columns"
   ]
  },
  {
   "cell_type": "markdown",
   "metadata": {},
   "source": [
    "<h3 align='Left'>Selecting Columns (by different methods)</h3>"
   ]
  },
  {
   "cell_type": "code",
   "execution_count": 5,
   "metadata": {
    "collapsed": false
   },
   "outputs": [
    {
     "data": {
      "text/html": [
       "<div>\n",
       "<table border=\"1\" class=\"dataframe\">\n",
       "  <thead>\n",
       "    <tr style=\"text-align: right;\">\n",
       "      <th></th>\n",
       "      <th>Energy</th>\n",
       "      <th>helix 2 phase</th>\n",
       "      <th>helix1 phase</th>\n",
       "    </tr>\n",
       "  </thead>\n",
       "  <tbody>\n",
       "    <tr>\n",
       "      <th>0</th>\n",
       "      <td>-387.167</td>\n",
       "      <td>0</td>\n",
       "      <td>0</td>\n",
       "    </tr>\n",
       "    <tr>\n",
       "      <th>1</th>\n",
       "      <td>-402.606</td>\n",
       "      <td>0</td>\n",
       "      <td>0</td>\n",
       "    </tr>\n",
       "    <tr>\n",
       "      <th>2</th>\n",
       "      <td>-395.944</td>\n",
       "      <td>0</td>\n",
       "      <td>0</td>\n",
       "    </tr>\n",
       "    <tr>\n",
       "      <th>3</th>\n",
       "      <td>-389.788</td>\n",
       "      <td>0</td>\n",
       "      <td>0</td>\n",
       "    </tr>\n",
       "    <tr>\n",
       "      <th>4</th>\n",
       "      <td>-388.016</td>\n",
       "      <td>0</td>\n",
       "      <td>0</td>\n",
       "    </tr>\n",
       "  </tbody>\n",
       "</table>\n",
       "</div>"
      ],
      "text/plain": [
       "    Energy  helix 2 phase  helix1 phase\n",
       "0 -387.167              0             0\n",
       "1 -402.606              0             0\n",
       "2 -395.944              0             0\n",
       "3 -389.788              0             0\n",
       "4 -388.016              0             0"
      ]
     },
     "execution_count": 5,
     "metadata": {},
     "output_type": "execute_result"
    }
   ],
   "source": [
    "# selecting a couple columns\n",
    "couple_columns = helix[['Energy','helix 2 phase', 'helix1 phase']]\n",
    "couple_columns.head()"
   ]
  },
  {
   "cell_type": "code",
   "execution_count": 6,
   "metadata": {
    "collapsed": false
   },
   "outputs": [
    {
     "data": {
      "text/html": [
       "<div>\n",
       "<table border=\"1\" class=\"dataframe\">\n",
       "  <thead>\n",
       "    <tr style=\"text-align: right;\">\n",
       "      <th></th>\n",
       "      <th>Energy</th>\n",
       "      <th>helix 2 phase</th>\n",
       "      <th>helix1 phase</th>\n",
       "    </tr>\n",
       "  </thead>\n",
       "  <tbody>\n",
       "    <tr>\n",
       "      <th>0</th>\n",
       "      <td>-387.167</td>\n",
       "      <td>0</td>\n",
       "      <td>0</td>\n",
       "    </tr>\n",
       "    <tr>\n",
       "      <th>1</th>\n",
       "      <td>-402.606</td>\n",
       "      <td>0</td>\n",
       "      <td>0</td>\n",
       "    </tr>\n",
       "    <tr>\n",
       "      <th>2</th>\n",
       "      <td>-395.944</td>\n",
       "      <td>0</td>\n",
       "      <td>0</td>\n",
       "    </tr>\n",
       "    <tr>\n",
       "      <th>3</th>\n",
       "      <td>-389.788</td>\n",
       "      <td>0</td>\n",
       "      <td>0</td>\n",
       "    </tr>\n",
       "    <tr>\n",
       "      <th>4</th>\n",
       "      <td>-388.016</td>\n",
       "      <td>0</td>\n",
       "      <td>0</td>\n",
       "    </tr>\n",
       "  </tbody>\n",
       "</table>\n",
       "</div>"
      ],
      "text/plain": [
       "    Energy  helix 2 phase  helix1 phase\n",
       "0 -387.167              0             0\n",
       "1 -402.606              0             0\n",
       "2 -395.944              0             0\n",
       "3 -389.788              0             0\n",
       "4 -388.016              0             0"
      ]
     },
     "execution_count": 6,
     "metadata": {},
     "output_type": "execute_result"
    }
   ],
   "source": [
    "# selecting same columns a different way\n",
    "helix.ix[:,['Energy','helix 2 phase', 'helix1 phase']].head()"
   ]
  },
  {
   "cell_type": "markdown",
   "metadata": {},
   "source": [
    "<h3 align='Left'>Heat Map</h3>"
   ]
  },
  {
   "cell_type": "code",
   "execution_count": 7,
   "metadata": {
    "collapsed": false
   },
   "outputs": [
    {
     "name": "stdout",
     "output_type": "stream",
     "text": [
      "(100, 1)\n"
     ]
    },
    {
     "data": {
      "text/html": [
       "<div>\n",
       "<table border=\"1\" class=\"dataframe\">\n",
       "  <thead>\n",
       "    <tr style=\"text-align: right;\">\n",
       "      <th></th>\n",
       "      <th></th>\n",
       "      <th>Energy</th>\n",
       "    </tr>\n",
       "    <tr>\n",
       "      <th>helix1 phase</th>\n",
       "      <th>helix 2 phase</th>\n",
       "      <th></th>\n",
       "    </tr>\n",
       "  </thead>\n",
       "  <tbody>\n",
       "    <tr>\n",
       "      <th rowspan=\"10\" valign=\"top\">0</th>\n",
       "      <th>0</th>\n",
       "      <td>-392.419841</td>\n",
       "    </tr>\n",
       "    <tr>\n",
       "      <th>20</th>\n",
       "      <td>-389.622691</td>\n",
       "    </tr>\n",
       "    <tr>\n",
       "      <th>40</th>\n",
       "      <td>-390.318620</td>\n",
       "    </tr>\n",
       "    <tr>\n",
       "      <th>60</th>\n",
       "      <td>-392.198537</td>\n",
       "    </tr>\n",
       "    <tr>\n",
       "      <th>80</th>\n",
       "      <td>-393.661624</td>\n",
       "    </tr>\n",
       "    <tr>\n",
       "      <th>100</th>\n",
       "      <td>-392.226253</td>\n",
       "    </tr>\n",
       "    <tr>\n",
       "      <th>120</th>\n",
       "      <td>-390.955112</td>\n",
       "    </tr>\n",
       "    <tr>\n",
       "      <th>140</th>\n",
       "      <td>-394.319969</td>\n",
       "    </tr>\n",
       "    <tr>\n",
       "      <th>160</th>\n",
       "      <td>-392.594862</td>\n",
       "    </tr>\n",
       "    <tr>\n",
       "      <th>180</th>\n",
       "      <td>-389.254009</td>\n",
       "    </tr>\n",
       "  </tbody>\n",
       "</table>\n",
       "</div>"
      ],
      "text/plain": [
       "                                Energy\n",
       "helix1 phase helix 2 phase            \n",
       "0            0             -392.419841\n",
       "             20            -389.622691\n",
       "             40            -390.318620\n",
       "             60            -392.198537\n",
       "             80            -393.661624\n",
       "             100           -392.226253\n",
       "             120           -390.955112\n",
       "             140           -394.319969\n",
       "             160           -392.594862\n",
       "             180           -389.254009"
      ]
     },
     "execution_count": 7,
     "metadata": {},
     "output_type": "execute_result"
    }
   ],
   "source": [
    "# this is essentially would be taking the average of each unique combination. \n",
    "# one important mention is notice how little the data varies from eachother.\n",
    "phase_1_2 = couple_columns.groupby(['helix1 phase', 'helix 2 phase']).mean()\n",
    "print phase_1_2.shape\n",
    "phase_1_2.head(10)"
   ]
  },
  {
   "cell_type": "code",
   "execution_count": 8,
   "metadata": {
    "collapsed": false
   },
   "outputs": [
    {
     "data": {
      "text/html": [
       "<div>\n",
       "<table border=\"1\" class=\"dataframe\">\n",
       "  <thead>\n",
       "    <tr style=\"text-align: right;\">\n",
       "      <th></th>\n",
       "      <th>helix1 phase</th>\n",
       "      <th>helix 2 phase</th>\n",
       "      <th>Energy</th>\n",
       "    </tr>\n",
       "  </thead>\n",
       "  <tbody>\n",
       "    <tr>\n",
       "      <th>0</th>\n",
       "      <td>0</td>\n",
       "      <td>0</td>\n",
       "      <td>-392.419841</td>\n",
       "    </tr>\n",
       "    <tr>\n",
       "      <th>1</th>\n",
       "      <td>0</td>\n",
       "      <td>20</td>\n",
       "      <td>-389.622691</td>\n",
       "    </tr>\n",
       "    <tr>\n",
       "      <th>2</th>\n",
       "      <td>0</td>\n",
       "      <td>40</td>\n",
       "      <td>-390.318620</td>\n",
       "    </tr>\n",
       "    <tr>\n",
       "      <th>3</th>\n",
       "      <td>0</td>\n",
       "      <td>60</td>\n",
       "      <td>-392.198537</td>\n",
       "    </tr>\n",
       "    <tr>\n",
       "      <th>4</th>\n",
       "      <td>0</td>\n",
       "      <td>80</td>\n",
       "      <td>-393.661624</td>\n",
       "    </tr>\n",
       "  </tbody>\n",
       "</table>\n",
       "</div>"
      ],
      "text/plain": [
       "   helix1 phase  helix 2 phase      Energy\n",
       "0             0              0 -392.419841\n",
       "1             0             20 -389.622691\n",
       "2             0             40 -390.318620\n",
       "3             0             60 -392.198537\n",
       "4             0             80 -393.661624"
      ]
     },
     "execution_count": 8,
     "metadata": {},
     "output_type": "execute_result"
    }
   ],
   "source": [
    "phase_1_2 = phase_1_2.reset_index()\n",
    "phase_1_2.head()"
   ]
  },
  {
   "cell_type": "markdown",
   "metadata": {},
   "source": [
    "<h3 align='Left'>Heat Map using Matplotlib</h3>"
   ]
  },
  {
   "cell_type": "code",
   "execution_count": 9,
   "metadata": {
    "collapsed": false
   },
   "outputs": [
    {
     "data": {
      "image/png": "[encoded data removed]",
      "text/plain": [
       "<matplotlib.figure.Figure at 0x113fa5bd0>"
      ]
     },
     "metadata": {},
     "output_type": "display_data"
    }
   ],
   "source": [
    "major_ticks = np.arange(0, 200, 20)                                              \n",
    "minor_ticks = np.arange(0, 180, 5)  \n",
    "\n",
    "fig = plt.figure(figsize = (6,5))  \n",
    "ax = fig.add_subplot(1,1,1) \n",
    "s = ax.scatter('helix1 phase', 'helix 2 phase', c = 'Energy',data = phase_1_2, cmap = 'Blues_r', marker = 's',s = 190)\n",
    "ax.axis([phase_1_2['helix1 phase'].min()-10, phase_1_2['helix1 phase'].max()+10, phase_1_2['helix 2 phase'].min()-10, phase_1_2['helix 2 phase'].max()+10])\n",
    "ax.set_xticks(major_ticks)                                                       \n",
    "ax.set_xticks(minor_ticks, minor=True)                                           \n",
    "ax.set_yticks(major_ticks)                                                                                                                                                      \n",
    "ax.grid(which='both', alpha = 0.3)                                                                                                           \n",
    "ax.grid(which='major', alpha=0.3) \n",
    "ax.set_xlabel('helix1 phase', fontsize=10);\n",
    "ax.set_ylabel('helix 2 phase', fontsize=10);\n",
    "ax.set_title('Energy from Helix Phase Angles', size = 15)\n",
    "\n",
    "# http://stackoverflow.com/questions/13943217/how-to-add-colorbars-to-scatterplots-created-like-this\n",
    "cbar = plt.colorbar(mappable = s,ax = ax)\n",
    "\n",
    "plt.show()"
   ]
  },
  {
   "cell_type": "markdown",
   "metadata": {
    "collapsed": true
   },
   "source": [
    "<h3 align='Left'>Heat Map using Seaborn</h3>"
   ]
  },
  {
   "cell_type": "code",
   "execution_count": 10,
   "metadata": {
    "collapsed": false
   },
   "outputs": [
    {
     "data": {
      "text/html": [
       "<div>\n",
       "<table border=\"1\" class=\"dataframe\">\n",
       "  <thead>\n",
       "    <tr style=\"text-align: right;\">\n",
       "      <th>helix 2 phase</th>\n",
       "      <th>0</th>\n",
       "      <th>20</th>\n",
       "      <th>40</th>\n",
       "      <th>60</th>\n",
       "      <th>80</th>\n",
       "      <th>100</th>\n",
       "      <th>120</th>\n",
       "      <th>140</th>\n",
       "      <th>160</th>\n",
       "      <th>180</th>\n",
       "    </tr>\n",
       "    <tr>\n",
       "      <th>helix1 phase</th>\n",
       "      <th></th>\n",
       "      <th></th>\n",
       "      <th></th>\n",
       "      <th></th>\n",
       "      <th></th>\n",
       "      <th></th>\n",
       "      <th></th>\n",
       "      <th></th>\n",
       "      <th></th>\n",
       "      <th></th>\n",
       "    </tr>\n",
       "  </thead>\n",
       "  <tbody>\n",
       "    <tr>\n",
       "      <th>0</th>\n",
       "      <td>-392.419841</td>\n",
       "      <td>-389.622691</td>\n",
       "      <td>-390.318620</td>\n",
       "      <td>-392.198537</td>\n",
       "      <td>-393.661624</td>\n",
       "      <td>-392.226253</td>\n",
       "      <td>-390.955112</td>\n",
       "      <td>-394.319969</td>\n",
       "      <td>-392.594862</td>\n",
       "      <td>-389.254009</td>\n",
       "    </tr>\n",
       "    <tr>\n",
       "      <th>20</th>\n",
       "      <td>-390.013375</td>\n",
       "      <td>-393.121438</td>\n",
       "      <td>-390.435441</td>\n",
       "      <td>-390.489424</td>\n",
       "      <td>-395.112815</td>\n",
       "      <td>-389.307695</td>\n",
       "      <td>-393.365839</td>\n",
       "      <td>-392.171938</td>\n",
       "      <td>-389.534864</td>\n",
       "      <td>-391.171958</td>\n",
       "    </tr>\n",
       "    <tr>\n",
       "      <th>40</th>\n",
       "      <td>-393.751152</td>\n",
       "      <td>-392.486692</td>\n",
       "      <td>-388.967952</td>\n",
       "      <td>-393.297131</td>\n",
       "      <td>-391.750444</td>\n",
       "      <td>-394.077600</td>\n",
       "      <td>-392.610059</td>\n",
       "      <td>-384.873483</td>\n",
       "      <td>-393.059775</td>\n",
       "      <td>-392.283178</td>\n",
       "    </tr>\n",
       "    <tr>\n",
       "      <th>60</th>\n",
       "      <td>-392.960539</td>\n",
       "      <td>-390.578310</td>\n",
       "      <td>-393.441091</td>\n",
       "      <td>-390.007804</td>\n",
       "      <td>-393.577453</td>\n",
       "      <td>-390.840711</td>\n",
       "      <td>-390.734280</td>\n",
       "      <td>-392.706732</td>\n",
       "      <td>-392.278805</td>\n",
       "      <td>-391.558888</td>\n",
       "    </tr>\n",
       "    <tr>\n",
       "      <th>80</th>\n",
       "      <td>-392.347250</td>\n",
       "      <td>-393.919370</td>\n",
       "      <td>-392.575410</td>\n",
       "      <td>-394.918433</td>\n",
       "      <td>-391.945480</td>\n",
       "      <td>-388.600299</td>\n",
       "      <td>-393.314092</td>\n",
       "      <td>-392.258363</td>\n",
       "      <td>-392.636642</td>\n",
       "      <td>-393.471684</td>\n",
       "    </tr>\n",
       "  </tbody>\n",
       "</table>\n",
       "</div>"
      ],
      "text/plain": [
       "helix 2 phase         0           20          40          60          80   \\\n",
       "helix1 phase                                                                \n",
       "0             -392.419841 -389.622691 -390.318620 -392.198537 -393.661624   \n",
       "20            -390.013375 -393.121438 -390.435441 -390.489424 -395.112815   \n",
       "40            -393.751152 -392.486692 -388.967952 -393.297131 -391.750444   \n",
       "60            -392.960539 -390.578310 -393.441091 -390.007804 -393.577453   \n",
       "80            -392.347250 -393.919370 -392.575410 -394.918433 -391.945480   \n",
       "\n",
       "helix 2 phase         100         120         140         160         180  \n",
       "helix1 phase                                                               \n",
       "0             -392.226253 -390.955112 -394.319969 -392.594862 -389.254009  \n",
       "20            -389.307695 -393.365839 -392.171938 -389.534864 -391.171958  \n",
       "40            -394.077600 -392.610059 -384.873483 -393.059775 -392.283178  \n",
       "60            -390.840711 -390.734280 -392.706732 -392.278805 -391.558888  \n",
       "80            -388.600299 -393.314092 -392.258363 -392.636642 -393.471684  "
      ]
     },
     "execution_count": 10,
     "metadata": {},
     "output_type": "execute_result"
    }
   ],
   "source": [
    "import numpy as np;\n",
    "import seaborn as sns; \n",
    "\n",
    "# To translate into Excel Terms for those familiar with Excel\n",
    "# string 1 is row labels 'helix1 phase'\n",
    "# string 2 is column labels 'helix 2 phase'\n",
    "# string 3 is values 'Energy'\n",
    "# Official pivot documentation\n",
    "# http://pandas.pydata.org/pandas-docs/stable/generated/pandas.DataFrame.pivot.html\n",
    "\n",
    "phase_1_2.pivot('helix1 phase', 'helix 2 phase','Energy').head()"
   ]
  },
  {
   "cell_type": "code",
   "execution_count": 11,
   "metadata": {
    "collapsed": false
   },
   "outputs": [
    {
     "data": {
      "text/html": [
       "<div>\n",
       "<table border=\"1\" class=\"dataframe\">\n",
       "  <thead>\n",
       "    <tr style=\"text-align: right;\">\n",
       "      <th>helix 2 phase</th>\n",
       "      <th>0</th>\n",
       "      <th>20</th>\n",
       "      <th>40</th>\n",
       "      <th>60</th>\n",
       "      <th>80</th>\n",
       "      <th>100</th>\n",
       "      <th>120</th>\n",
       "      <th>140</th>\n",
       "      <th>160</th>\n",
       "      <th>180</th>\n",
       "    </tr>\n",
       "    <tr>\n",
       "      <th>helix1 phase</th>\n",
       "      <th></th>\n",
       "      <th></th>\n",
       "      <th></th>\n",
       "      <th></th>\n",
       "      <th></th>\n",
       "      <th></th>\n",
       "      <th></th>\n",
       "      <th></th>\n",
       "      <th></th>\n",
       "      <th></th>\n",
       "    </tr>\n",
       "  </thead>\n",
       "  <tbody>\n",
       "    <tr>\n",
       "      <th>0</th>\n",
       "      <td>-392.419841</td>\n",
       "      <td>-389.622691</td>\n",
       "      <td>-390.318620</td>\n",
       "      <td>-392.198537</td>\n",
       "      <td>-393.661624</td>\n",
       "      <td>-392.226253</td>\n",
       "      <td>-390.955112</td>\n",
       "      <td>-394.319969</td>\n",
       "      <td>-392.594862</td>\n",
       "      <td>-389.254009</td>\n",
       "    </tr>\n",
       "    <tr>\n",
       "      <th>20</th>\n",
       "      <td>-390.013375</td>\n",
       "      <td>-393.121438</td>\n",
       "      <td>-390.435441</td>\n",
       "      <td>-390.489424</td>\n",
       "      <td>-395.112815</td>\n",
       "      <td>-389.307695</td>\n",
       "      <td>-393.365839</td>\n",
       "      <td>-392.171938</td>\n",
       "      <td>-389.534864</td>\n",
       "      <td>-391.171958</td>\n",
       "    </tr>\n",
       "    <tr>\n",
       "      <th>40</th>\n",
       "      <td>-393.751152</td>\n",
       "      <td>-392.486692</td>\n",
       "      <td>-388.967952</td>\n",
       "      <td>-393.297131</td>\n",
       "      <td>-391.750444</td>\n",
       "      <td>-394.077600</td>\n",
       "      <td>-392.610059</td>\n",
       "      <td>-384.873483</td>\n",
       "      <td>-393.059775</td>\n",
       "      <td>-392.283178</td>\n",
       "    </tr>\n",
       "    <tr>\n",
       "      <th>60</th>\n",
       "      <td>-392.960539</td>\n",
       "      <td>-390.578310</td>\n",
       "      <td>-393.441091</td>\n",
       "      <td>-390.007804</td>\n",
       "      <td>-393.577453</td>\n",
       "      <td>-390.840711</td>\n",
       "      <td>-390.734280</td>\n",
       "      <td>-392.706732</td>\n",
       "      <td>-392.278805</td>\n",
       "      <td>-391.558888</td>\n",
       "    </tr>\n",
       "    <tr>\n",
       "      <th>80</th>\n",
       "      <td>-392.347250</td>\n",
       "      <td>-393.919370</td>\n",
       "      <td>-392.575410</td>\n",
       "      <td>-394.918433</td>\n",
       "      <td>-391.945480</td>\n",
       "      <td>-388.600299</td>\n",
       "      <td>-393.314092</td>\n",
       "      <td>-392.258363</td>\n",
       "      <td>-392.636642</td>\n",
       "      <td>-393.471684</td>\n",
       "    </tr>\n",
       "  </tbody>\n",
       "</table>\n",
       "</div>"
      ],
      "text/plain": [
       "helix 2 phase         0           20          40          60          80   \\\n",
       "helix1 phase                                                                \n",
       "0             -392.419841 -389.622691 -390.318620 -392.198537 -393.661624   \n",
       "20            -390.013375 -393.121438 -390.435441 -390.489424 -395.112815   \n",
       "40            -393.751152 -392.486692 -388.967952 -393.297131 -391.750444   \n",
       "60            -392.960539 -390.578310 -393.441091 -390.007804 -393.577453   \n",
       "80            -392.347250 -393.919370 -392.575410 -394.918433 -391.945480   \n",
       "\n",
       "helix 2 phase         100         120         140         160         180  \n",
       "helix1 phase                                                               \n",
       "0             -392.226253 -390.955112 -394.319969 -392.594862 -389.254009  \n",
       "20            -389.307695 -393.365839 -392.171938 -389.534864 -391.171958  \n",
       "40            -394.077600 -392.610059 -384.873483 -393.059775 -392.283178  \n",
       "60            -390.840711 -390.734280 -392.706732 -392.278805 -391.558888  \n",
       "80            -388.600299 -393.314092 -392.258363 -392.636642 -393.471684  "
      ]
     },
     "execution_count": 11,
     "metadata": {},
     "output_type": "execute_result"
    }
   ],
   "source": [
    "# To translate into Excel Terms for those familiar with Excel\n",
    "# string 1 is row labels 'helix1 phase'\n",
    "# string 2 is column labels 'helix 2 phase'\n",
    "# ['Energy'] is values\n",
    "phase_1_2.pivot('helix1 phase', 'helix 2 phase')['Energy'].head()"
   ]
  },
  {
   "cell_type": "code",
   "execution_count": 12,
   "metadata": {
    "collapsed": false
   },
   "outputs": [
    {
     "data": {
      "image/png": "[encoded data removed]",
      "text/plain": [
       "<matplotlib.figure.Figure at 0x117e5c0d0>"
      ]
     },
     "metadata": {},
     "output_type": "display_data"
    }
   ],
   "source": [
    "# seaborn heatmap documentation\n",
    "# https://stanford.edu/~mwaskom/software/seaborn/generated/seaborn.heatmap.html\n",
    "\n",
    "# cmap choices: http://matplotlib.org/users/colormaps.html\n",
    "plt.figure(figsize=(9,9))\n",
    "pivot_table = phase_1_2.pivot('helix1 phase', 'helix 2 phase','Energy')\n",
    "plt.xlabel('helix 2 phase', size = 15)\n",
    "plt.ylabel('helix1 phase', size = 15)\n",
    "plt.title('Energy from Helix Phase Angles', size = 15)\n",
    "sns.heatmap(pivot_table, annot=True, fmt=\".1f\", linewidths=.5, square = True, cmap = 'Blues_r');"
   ]
  },
  {
   "cell_type": "code",
   "execution_count": null,
   "metadata": {
    "collapsed": true
   },
   "outputs": [],
   "source": []
  }
 ],
 "metadata": {
  "kernelspec": {
   "display_name": "Python 2",
   "language": "python",
   "name": "python2"
  },
  "language_info": {
   "codemirror_mode": {
    "name": "ipython",
    "version": 2
   },
   "file_extension": ".py",
   "mimetype": "text/x-python",
   "name": "python",
   "nbconvert_exporter": "python",
   "pygments_lexer": "ipython2",
   "version": "2.7.12"
  }
 },
 "nbformat": 4,
 "nbformat_minor": 0
}
