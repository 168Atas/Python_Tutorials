{
 "cells": [
  {
   "cell_type": "markdown",
   "metadata": {
    "colab_type": "text",
    "id": "kR-4eNdK6lYS"
   },
   "source": [
    "Deep Learning\n",
    "=============\n",
    "\n",
    "Assignment 2\n",
    "------------\n",
    "\n",
    "Previously in `1_notmnist.ipynb`, we created a pickle with formatted datasets for training, development and testing on the [notMNIST dataset](http://yaroslavvb.blogspot.com/2011/09/notmnist-dataset.html).\n",
    "\n",
    "The goal of this assignment is to progressively train deeper and more accurate models using TensorFlow."
   ]
  },
  {
   "cell_type": "code",
   "execution_count": 1,
   "metadata": {
    "cellView": "both",
    "colab": {
     "autoexec": {
      "startup": false,
      "wait_interval": 0
     }
    },
    "colab_type": "code",
    "collapsed": true,
    "id": "JLpLa8Jt7Vu4"
   },
   "outputs": [],
   "source": [
    "# These are all the modules we'll be using later. Make sure you can import them\n",
    "# before proceeding further.\n",
    "from __future__ import print_function\n",
    "import numpy as np\n",
    "import tensorflow as tf\n",
    "from six.moves import cPickle as pickle\n",
    "from six.moves import range"
   ]
  },
  {
   "cell_type": "markdown",
   "metadata": {
    "colab_type": "text",
    "id": "1HrCK6e17WzV"
   },
   "source": [
    "First reload the data we generated in `1_notmnist.ipynb`."
   ]
  },
  {
   "cell_type": "code",
   "execution_count": 2,
   "metadata": {
    "cellView": "both",
    "colab": {
     "autoexec": {
      "startup": false,
      "wait_interval": 0
     },
     "output_extras": [
      {
       "item_id": 1
      }
     ]
    },
    "colab_type": "code",
    "collapsed": false,
    "executionInfo": {
     "elapsed": 19456,
     "status": "ok",
     "timestamp": 1449847956073,
     "user": {
      "color": "",
      "displayName": "",
      "isAnonymous": false,
      "isMe": true,
      "permissionId": "",
      "photoUrl": "",
      "sessionId": "0",
      "userId": ""
     },
     "user_tz": 480
    },
    "id": "y3-cj1bpmuxc",
    "outputId": "0ddb1607-1fc4-4ddb-de28-6c7ab7fb0c33"
   },
   "outputs": [
    {
     "name": "stdout",
     "output_type": "stream",
     "text": [
      "Training set (200000, 28, 28) (200000,)\n",
      "Validation set (10000, 28, 28) (10000,)\n",
      "Test set (10000, 28, 28) (10000,)\n"
     ]
    }
   ],
   "source": [
    "pickle_file = 'notMNIST.pickle'\n",
    "\n",
    "with open(pickle_file, 'rb') as f:\n",
    "    save = pickle.load(f)\n",
    "    train_dataset = save['train_dataset']\n",
    "    train_labels = save['train_labels']\n",
    "    valid_dataset = save['valid_dataset']\n",
    "    valid_labels = save['valid_labels']\n",
    "    test_dataset = save['test_dataset']\n",
    "    test_labels = save['test_labels']\n",
    "    del save  # hint to help gc free up memory\n",
    "    print('Training set', train_dataset.shape, train_labels.shape)\n",
    "    print('Validation set', valid_dataset.shape, valid_labels.shape)\n",
    "    print('Test set', test_dataset.shape, test_labels.shape)"
   ]
  },
  {
   "cell_type": "markdown",
   "metadata": {
    "colab_type": "text",
    "id": "L7aHrm6nGDMB"
   },
   "source": [
    "Reformat into a shape that's more adapted to the models we're going to train:\n",
    "- data as a flat matrix,\n",
    "- labels as float 1-hot encodings."
   ]
  },
  {
   "cell_type": "code",
   "execution_count": 3,
   "metadata": {
    "cellView": "both",
    "colab": {
     "autoexec": {
      "startup": false,
      "wait_interval": 0
     },
     "output_extras": [
      {
       "item_id": 1
      }
     ]
    },
    "colab_type": "code",
    "collapsed": false,
    "executionInfo": {
     "elapsed": 19723,
     "status": "ok",
     "timestamp": 1449847956364,
     "user": {
      "color": "",
      "displayName": "",
      "isAnonymous": false,
      "isMe": true,
      "permissionId": "",
      "photoUrl": "",
      "sessionId": "0",
      "userId": ""
     },
     "user_tz": 480
    },
    "id": "IRSyYiIIGIzS",
    "outputId": "2ba0fc75-1487-4ace-a562-cf81cae82793"
   },
   "outputs": [
    {
     "name": "stdout",
     "output_type": "stream",
     "text": [
      "Training set (200000, 784) (200000, 10)\n",
      "Validation set (10000, 784) (10000, 10)\n",
      "Test set (10000, 784) (10000, 10)\n"
     ]
    }
   ],
   "source": [
    "image_size = 28\n",
    "num_labels = 10\n",
    "\n",
    "def reformat(dataset, labels):\n",
    "    dataset = dataset.reshape((-1, image_size * image_size)).astype(np.float32)\n",
    "    # Map 0 to [1.0, 0.0, 0.0 ...], 1 to [0.0, 1.0, 0.0 ...]\n",
    "    labels = (np.arange(num_labels) == labels[:,None]).astype(np.float32)\n",
    "    return dataset, labels\n",
    "train_dataset, train_labels = reformat(train_dataset, train_labels)\n",
    "valid_dataset, valid_labels = reformat(valid_dataset, valid_labels)\n",
    "test_dataset, test_labels = reformat(test_dataset, test_labels)\n",
    "print('Training set', train_dataset.shape, train_labels.shape)\n",
    "print('Validation set', valid_dataset.shape, valid_labels.shape)\n",
    "print('Test set', test_dataset.shape, test_labels.shape)"
   ]
  },
  {
   "cell_type": "code",
   "execution_count": 4,
   "metadata": {
    "collapsed": false
   },
   "outputs": [
    {
     "data": {
      "text/plain": [
       "(200000, 784)"
      ]
     },
     "execution_count": 4,
     "metadata": {},
     "output_type": "execute_result"
    }
   ],
   "source": [
    "np.shape(train_dataset.reshape((-1, 28*28)))"
   ]
  },
  {
   "cell_type": "code",
   "execution_count": 5,
   "metadata": {
    "collapsed": false
   },
   "outputs": [
    {
     "data": {
      "text/plain": [
       "array([ 0.,  1.], dtype=float32)"
      ]
     },
     "execution_count": 5,
     "metadata": {},
     "output_type": "execute_result"
    }
   ],
   "source": [
    "np.unique(train_labels)"
   ]
  },
  {
   "cell_type": "markdown",
   "metadata": {
    "colab_type": "text",
    "id": "nCLVqyQ5vPPH"
   },
   "source": [
    "We're first going to train a multinomial logistic regression using simple gradient descent.\n",
    "\n",
    "TensorFlow works like this:\n",
    "* First you describe the computation that you want to see performed: what the inputs, the variables, and the operations look like. These get created as nodes over a computation graph. This description is all contained within the block below:\n",
    "\n",
    "      with graph.as_default():\n",
    "          ...\n",
    "\n",
    "* Then you can run the operations on this graph as many times as you want by calling `session.run()`, providing it outputs to fetch from the graph that get returned. This runtime operation is all contained in the block below:\n",
    "\n",
    "      with tf.Session(graph=graph) as session:\n",
    "          ...\n",
    "\n",
    "Let's load all the data into TensorFlow and build the computation graph corresponding to our training:"
   ]
  },
  {
   "cell_type": "code",
   "execution_count": 6,
   "metadata": {
    "cellView": "both",
    "colab": {
     "autoexec": {
      "startup": false,
      "wait_interval": 0
     }
    },
    "colab_type": "code",
    "collapsed": false,
    "id": "Nfv39qvtvOl_"
   },
   "outputs": [],
   "source": [
    "-"
   ]
  },
  {
   "cell_type": "markdown",
   "metadata": {
    "colab_type": "text",
    "id": "KQcL4uqISHjP"
   },
   "source": [
    "Let's run this computation and iterate:"
   ]
  },
  {
   "cell_type": "code",
   "execution_count": 7,
   "metadata": {
    "collapsed": true
   },
   "outputs": [],
   "source": [
    "%matplotlib inline\n",
    "import matplotlib.pyplot as plt\n",
    "\n",
    "V_accur_list = [] #verification accuracy list\n",
    "step_list = [] # step number list\n",
    "cost_list = []"
   ]
  },
  {
   "cell_type": "code",
   "execution_count": 8,
   "metadata": {
    "cellView": "both",
    "colab": {
     "autoexec": {
      "startup": false,
      "wait_interval": 0
     },
     "output_extras": [
      {
       "item_id": 9
      }
     ]
    },
    "colab_type": "code",
    "collapsed": false,
    "executionInfo": {
     "elapsed": 57454,
     "status": "ok",
     "timestamp": 1449847994134,
     "user": {
      "color": "",
      "displayName": "",
      "isAnonymous": false,
      "isMe": true,
      "permissionId": "",
      "photoUrl": "",
      "sessionId": "0",
      "userId": ""
     },
     "user_tz": 480
    },
    "id": "z2cjdenH869W",
    "outputId": "4c037ba1-b526-4d8e-e632-91e2a0333267"
   },
   "outputs": [
    {
     "name": "stdout",
     "output_type": "stream",
     "text": [
      "Initialized\n",
      "Loss at step 0: 21.956785\n",
      "Training accuracy: 6.7%\n",
      "Validation accuracy: 8.3%\n",
      "Loss at step 10: 5.737443\n",
      "Training accuracy: 39.4%\n",
      "Validation accuracy: 41.4%\n",
      "Loss at step 20: 4.191097\n",
      "Training accuracy: 55.2%\n",
      "Validation accuracy: 55.1%\n",
      "Loss at step 30: 3.630736\n",
      "Training accuracy: 60.6%\n",
      "Validation accuracy: 61.0%\n",
      "Loss at step 40: 3.312489\n",
      "Training accuracy: 63.7%\n",
      "Validation accuracy: 64.6%\n",
      "Loss at step 50: 3.094980\n",
      "Training accuracy: 65.8%\n",
      "Validation accuracy: 66.6%\n",
      "Loss at step 60: 2.931975\n",
      "Training accuracy: 67.3%\n",
      "Validation accuracy: 68.1%\n",
      "Loss at step 70: 2.802547\n",
      "Training accuracy: 68.6%\n",
      "Validation accuracy: 69.1%\n",
      "Loss at step 80: 2.695223\n",
      "Training accuracy: 69.3%\n",
      "Validation accuracy: 70.1%\n",
      "Loss at step 90: 2.603252\n",
      "Training accuracy: 70.1%\n",
      "Validation accuracy: 70.8%\n",
      "Loss at step 100: 2.522671\n",
      "Training accuracy: 70.6%\n",
      "Validation accuracy: 71.0%\n",
      "Loss at step 110: 2.450953\n",
      "Training accuracy: 71.1%\n",
      "Validation accuracy: 71.4%\n",
      "Loss at step 120: 2.386328\n",
      "Training accuracy: 71.4%\n",
      "Validation accuracy: 71.9%\n",
      "Loss at step 130: 2.327523\n",
      "Training accuracy: 71.8%\n",
      "Validation accuracy: 72.2%\n",
      "Loss at step 140: 2.273571\n",
      "Training accuracy: 72.2%\n",
      "Validation accuracy: 72.4%\n",
      "Loss at step 150: 2.223730\n",
      "Training accuracy: 72.5%\n",
      "Validation accuracy: 72.7%\n",
      "Loss at step 160: 2.177412\n",
      "Training accuracy: 72.7%\n",
      "Validation accuracy: 72.9%\n",
      "Loss at step 170: 2.134145\n",
      "Training accuracy: 73.0%\n",
      "Validation accuracy: 73.0%\n",
      "Loss at step 180: 2.093557\n",
      "Training accuracy: 73.1%\n",
      "Validation accuracy: 73.2%\n",
      "Loss at step 190: 2.055341\n",
      "Training accuracy: 73.3%\n",
      "Validation accuracy: 73.3%\n",
      "Loss at step 200: 2.019245\n",
      "Training accuracy: 73.5%\n",
      "Validation accuracy: 73.4%\n",
      "Loss at step 210: 1.985062\n",
      "Training accuracy: 73.7%\n",
      "Validation accuracy: 73.6%\n",
      "Loss at step 220: 1.952621\n",
      "Training accuracy: 73.9%\n",
      "Validation accuracy: 73.8%\n",
      "Loss at step 230: 1.921770\n",
      "Training accuracy: 74.1%\n",
      "Validation accuracy: 73.8%\n",
      "Loss at step 240: 1.892382\n",
      "Training accuracy: 74.3%\n",
      "Validation accuracy: 73.9%\n",
      "Loss at step 250: 1.864340\n",
      "Training accuracy: 74.5%\n",
      "Validation accuracy: 74.1%\n",
      "Loss at step 260: 1.837544\n",
      "Training accuracy: 74.6%\n",
      "Validation accuracy: 74.2%\n",
      "Loss at step 270: 1.811903\n",
      "Training accuracy: 74.8%\n",
      "Validation accuracy: 74.1%\n",
      "Loss at step 280: 1.787335\n",
      "Training accuracy: 74.9%\n",
      "Validation accuracy: 74.3%\n",
      "Loss at step 290: 1.763768\n",
      "Training accuracy: 74.9%\n",
      "Validation accuracy: 74.3%\n",
      "Loss at step 300: 1.741139\n",
      "Training accuracy: 75.1%\n",
      "Validation accuracy: 74.4%\n",
      "Loss at step 310: 1.719386\n",
      "Training accuracy: 75.2%\n",
      "Validation accuracy: 74.4%\n",
      "Loss at step 320: 1.698460\n",
      "Training accuracy: 75.3%\n",
      "Validation accuracy: 74.5%\n",
      "Loss at step 330: 1.678310\n",
      "Training accuracy: 75.4%\n",
      "Validation accuracy: 74.5%\n",
      "Loss at step 340: 1.658887\n",
      "Training accuracy: 75.5%\n",
      "Validation accuracy: 74.5%\n",
      "Loss at step 350: 1.640152\n",
      "Training accuracy: 75.6%\n",
      "Validation accuracy: 74.6%\n",
      "Loss at step 360: 1.622059\n",
      "Training accuracy: 75.7%\n",
      "Validation accuracy: 74.5%\n",
      "Loss at step 370: 1.604568\n",
      "Training accuracy: 75.8%\n",
      "Validation accuracy: 74.6%\n",
      "Loss at step 380: 1.587646\n",
      "Training accuracy: 75.8%\n",
      "Validation accuracy: 74.6%\n",
      "Loss at step 390: 1.571260\n",
      "Training accuracy: 75.9%\n",
      "Validation accuracy: 74.7%\n",
      "Loss at step 400: 1.555375\n",
      "Training accuracy: 76.0%\n",
      "Validation accuracy: 74.7%\n",
      "Loss at step 410: 1.539966\n",
      "Training accuracy: 76.1%\n",
      "Validation accuracy: 74.7%\n",
      "Loss at step 420: 1.525008\n",
      "Training accuracy: 76.2%\n",
      "Validation accuracy: 74.7%\n",
      "Loss at step 430: 1.510476\n",
      "Training accuracy: 76.2%\n",
      "Validation accuracy: 74.8%\n",
      "Loss at step 440: 1.496348\n",
      "Training accuracy: 76.3%\n",
      "Validation accuracy: 74.7%\n",
      "Loss at step 450: 1.482606\n",
      "Training accuracy: 76.3%\n",
      "Validation accuracy: 74.7%\n",
      "Loss at step 460: 1.469231\n",
      "Training accuracy: 76.3%\n",
      "Validation accuracy: 74.7%\n",
      "Loss at step 470: 1.456204\n",
      "Training accuracy: 76.3%\n",
      "Validation accuracy: 74.7%\n",
      "Loss at step 480: 1.443514\n",
      "Training accuracy: 76.3%\n",
      "Validation accuracy: 74.7%\n",
      "Loss at step 490: 1.431141\n",
      "Training accuracy: 76.4%\n",
      "Validation accuracy: 74.7%\n",
      "Loss at step 500: 1.419076\n",
      "Training accuracy: 76.4%\n",
      "Validation accuracy: 74.8%\n",
      "Loss at step 510: 1.407304\n",
      "Training accuracy: 76.4%\n",
      "Validation accuracy: 74.8%\n",
      "Loss at step 520: 1.395813\n",
      "Training accuracy: 76.5%\n",
      "Validation accuracy: 74.8%\n",
      "Loss at step 530: 1.384594\n",
      "Training accuracy: 76.5%\n",
      "Validation accuracy: 74.8%\n",
      "Loss at step 540: 1.373636\n",
      "Training accuracy: 76.5%\n",
      "Validation accuracy: 74.9%\n",
      "Loss at step 550: 1.362928\n",
      "Training accuracy: 76.6%\n",
      "Validation accuracy: 74.9%\n",
      "Loss at step 560: 1.352462\n",
      "Training accuracy: 76.6%\n",
      "Validation accuracy: 74.9%\n",
      "Loss at step 570: 1.342227\n",
      "Training accuracy: 76.7%\n",
      "Validation accuracy: 75.0%\n",
      "Loss at step 580: 1.332220\n",
      "Training accuracy: 76.8%\n",
      "Validation accuracy: 75.0%\n",
      "Loss at step 590: 1.322428\n",
      "Training accuracy: 77.0%\n",
      "Validation accuracy: 75.0%\n",
      "Loss at step 600: 1.312845\n",
      "Training accuracy: 77.0%\n",
      "Validation accuracy: 75.0%\n",
      "Loss at step 610: 1.303465\n",
      "Training accuracy: 77.1%\n",
      "Validation accuracy: 75.0%\n",
      "Loss at step 620: 1.294282\n",
      "Training accuracy: 77.1%\n",
      "Validation accuracy: 75.0%\n",
      "Loss at step 630: 1.285289\n",
      "Training accuracy: 77.2%\n",
      "Validation accuracy: 74.9%\n",
      "Loss at step 640: 1.276479\n",
      "Training accuracy: 77.3%\n",
      "Validation accuracy: 74.9%\n",
      "Loss at step 650: 1.267847\n",
      "Training accuracy: 77.3%\n",
      "Validation accuracy: 75.0%\n",
      "Loss at step 660: 1.259388\n",
      "Training accuracy: 77.4%\n",
      "Validation accuracy: 75.0%\n",
      "Loss at step 670: 1.251096\n",
      "Training accuracy: 77.4%\n",
      "Validation accuracy: 75.1%\n",
      "Loss at step 680: 1.242966\n",
      "Training accuracy: 77.5%\n",
      "Validation accuracy: 75.1%\n",
      "Loss at step 690: 1.234993\n",
      "Training accuracy: 77.5%\n",
      "Validation accuracy: 75.2%\n",
      "Loss at step 700: 1.227172\n",
      "Training accuracy: 77.6%\n",
      "Validation accuracy: 75.2%\n",
      "Loss at step 710: 1.219499\n",
      "Training accuracy: 77.7%\n",
      "Validation accuracy: 75.2%\n",
      "Loss at step 720: 1.211970\n",
      "Training accuracy: 77.8%\n",
      "Validation accuracy: 75.2%\n",
      "Loss at step 730: 1.204579\n",
      "Training accuracy: 77.8%\n",
      "Validation accuracy: 75.3%\n",
      "Loss at step 740: 1.197323\n",
      "Training accuracy: 77.8%\n",
      "Validation accuracy: 75.3%\n",
      "Loss at step 750: 1.190200\n",
      "Training accuracy: 77.9%\n",
      "Validation accuracy: 75.3%\n",
      "Loss at step 760: 1.183203\n",
      "Training accuracy: 78.0%\n",
      "Validation accuracy: 75.4%\n",
      "Loss at step 770: 1.176330\n",
      "Training accuracy: 78.0%\n",
      "Validation accuracy: 75.3%\n",
      "Loss at step 780: 1.169578\n",
      "Training accuracy: 78.0%\n",
      "Validation accuracy: 75.3%\n",
      "Loss at step 790: 1.162941\n",
      "Training accuracy: 78.1%\n",
      "Validation accuracy: 75.4%\n",
      "Loss at step 800: 1.156418\n",
      "Training accuracy: 78.1%\n",
      "Validation accuracy: 75.4%\n",
      "Test accuracy: 83.1%\n"
     ]
    }
   ],
   "source": [
    "num_steps = 801\n",
    "\n",
    "def accuracy(predictions, labels):\n",
    "    return (100.0 * np.sum(np.argmax(predictions, 1) == np.argmax(labels, 1)) / predictions.shape[0])\n",
    "\n",
    "with tf.Session(graph=graph) as session:\n",
    "    # This is a one-time operation which ensures the parameters get initialized as\n",
    "    # we described in the graph: random weights for the matrix, zeros for the\n",
    "    # biases. \n",
    "    tf.initialize_all_variables().run()\n",
    "    print('Initialized')\n",
    "    for step in range(num_steps):\n",
    "        # Run the computations. We tell .run() that we want to run the optimizer,\n",
    "        # and get the loss value and the training predictions returned as numpy\n",
    "        # arrays.\n",
    "        _, l, predictions = session.run([optimizer, loss, train_prediction])\n",
    "        if (step % 10 == 0):\n",
    "            cost_list.append(l)\n",
    "            step_list.append(step)\n",
    "            print('Loss at step %d: %f' % (step, l))\n",
    "            print('Training accuracy: %.1f%%' % accuracy(\n",
    "            predictions, train_labels[:train_subset, :]))\n",
    "            # Calling .eval() on valid_prediction is basically like calling run(), but\n",
    "            # just to get that one numpy array. Note that it recomputes all its graph\n",
    "            # dependencies.\n",
    "            valid_accuracy = accuracy(valid_prediction.eval(), valid_labels)\n",
    "            V_accur_list.append(valid_accuracy)\n",
    "            print('Validation accuracy: %.1f%%' % valid_accuracy)\n",
    "    print('Test accuracy: %.1f%%' % accuracy(test_prediction.eval(), test_labels))\n"
   ]
  },
  {
   "cell_type": "code",
   "execution_count": 9,
   "metadata": {
    "collapsed": false
   },
   "outputs": [
    {
     "data": {
      "image/png": "[encoded data removed]",
      "text/plain": [
       "<matplotlib.figure.Figure at 0x129217a90>"
      ]
     },
     "metadata": {},
     "output_type": "display_data"
    }
   ],
   "source": [
    "fig, axes = plt.subplots(nrows = 1, ncols = 2, figsize = (15,5));\n",
    "axes[0].plot(step_list, cost_list);\n",
    "axes[0].set_title('Cost vs Steps');\n",
    "axes[0].set_xlabel('Steps', size = 12);\n",
    "axes[0].set_ylabel('Cost', size = 12);\n",
    "axes[1].plot(step_list, V_accur_list);\n",
    "axes[1].set_title('Validation Accuracy vs Steps');\n",
    "axes[1].set_xlabel('Steps', size = 12);\n",
    "axes[1].set_ylabel('Validation Accuracy', size = 12);"
   ]
  },
  {
   "cell_type": "markdown",
   "metadata": {
    "colab_type": "text",
    "id": "x68f-hxRGm3H"
   },
   "source": [
    "Let's now switch to stochastic gradient descent training instead, which is much faster.\n",
    "\n",
    "The graph will be similar, except that instead of holding all the training data into a constant node, we create a `Placeholder` node which will be fed actual data at every call of `session.run()`."
   ]
  },
  {
   "cell_type": "code",
   "execution_count": 10,
   "metadata": {
    "cellView": "both",
    "colab": {
     "autoexec": {
      "startup": false,
      "wait_interval": 0
     }
    },
    "colab_type": "code",
    "collapsed": true,
    "id": "qhPMzWYRGrzM"
   },
   "outputs": [],
   "source": [
    "batch_size = 128\n",
    "\n",
    "graph = tf.Graph()\n",
    "with graph.as_default():\n",
    "\n",
    "    # Input data. For the training data, we use a placeholder that will be fed\n",
    "    # at run time with a training minibatch.\n",
    "    tf_train_dataset = tf.placeholder(tf.float32,\n",
    "                                    shape=(batch_size, image_size * image_size))\n",
    "    tf_train_labels = tf.placeholder(tf.float32, shape=(batch_size, num_labels))\n",
    "    tf_valid_dataset = tf.constant(valid_dataset)\n",
    "    tf_test_dataset = tf.constant(test_dataset)\n",
    "  \n",
    "    # Variables.\n",
    "    weights = tf.Variable(tf.truncated_normal([image_size * image_size, num_labels]))\n",
    "    biases = tf.Variable(tf.zeros([num_labels]))\n",
    "  \n",
    "    # Training computation.\n",
    "    logits = tf.matmul(tf_train_dataset, weights) + biases\n",
    "    loss = tf.reduce_mean(tf.nn.softmax_cross_entropy_with_logits(logits, tf_train_labels))\n",
    "  \n",
    "    # Optimizer.\n",
    "    optimizer = tf.train.GradientDescentOptimizer(0.5).minimize(loss)\n",
    "  \n",
    "    # Predictions for the training, validation, and test data.\n",
    "    train_prediction = tf.nn.softmax(logits)\n",
    "    valid_prediction = tf.nn.softmax(tf.matmul(tf_valid_dataset, weights) + biases)\n",
    "    test_prediction = tf.nn.softmax(tf.matmul(tf_test_dataset, weights) + biases)"
   ]
  },
  {
   "cell_type": "markdown",
   "metadata": {
    "colab_type": "text",
    "id": "XmVZESmtG4JH"
   },
   "source": [
    "Let's run it:"
   ]
  },
  {
   "cell_type": "code",
   "execution_count": 11,
   "metadata": {
    "cellView": "both",
    "colab": {
     "autoexec": {
      "startup": false,
      "wait_interval": 0
     },
     "output_extras": [
      {
       "item_id": 6
      }
     ]
    },
    "colab_type": "code",
    "collapsed": false,
    "executionInfo": {
     "elapsed": 66292,
     "status": "ok",
     "timestamp": 1449848003013,
     "user": {
      "color": "",
      "displayName": "",
      "isAnonymous": false,
      "isMe": true,
      "permissionId": "",
      "photoUrl": "",
      "sessionId": "0",
      "userId": ""
     },
     "user_tz": 480
    },
    "id": "FoF91pknG_YW",
    "outputId": "d255c80e-954d-4183-ca1c-c7333ce91d0a"
   },
   "outputs": [
    {
     "name": "stdout",
     "output_type": "stream",
     "text": [
      "Initialized\n",
      "Minibatch loss at step 0: 16.015167\n",
      "Minibatch accuracy: 14.1%\n",
      "Validation accuracy: 16.2%\n",
      "Minibatch loss at step 500: 2.512875\n",
      "Minibatch accuracy: 71.1%\n",
      "Validation accuracy: 74.5%\n",
      "Minibatch loss at step 1000: 1.371254\n",
      "Minibatch accuracy: 80.5%\n",
      "Validation accuracy: 76.3%\n",
      "Minibatch loss at step 1500: 1.395605\n",
      "Minibatch accuracy: 73.4%\n",
      "Validation accuracy: 77.3%\n",
      "Minibatch loss at step 2000: 1.305051\n",
      "Minibatch accuracy: 77.3%\n",
      "Validation accuracy: 76.2%\n",
      "Minibatch loss at step 2500: 1.168222\n",
      "Minibatch accuracy: 75.8%\n",
      "Validation accuracy: 77.8%\n",
      "Minibatch loss at step 3000: 0.902722\n",
      "Minibatch accuracy: 78.9%\n",
      "Validation accuracy: 78.1%\n",
      "Minibatch loss at step 3500: 0.825330\n",
      "Minibatch accuracy: 78.9%\n",
      "Validation accuracy: 78.4%\n",
      "Minibatch loss at step 4000: 0.987025\n",
      "Minibatch accuracy: 79.7%\n",
      "Validation accuracy: 79.5%\n",
      "Minibatch loss at step 4500: 0.667354\n",
      "Minibatch accuracy: 82.8%\n",
      "Validation accuracy: 79.4%\n",
      "Minibatch loss at step 5000: 0.697824\n",
      "Minibatch accuracy: 82.8%\n",
      "Validation accuracy: 79.7%\n",
      "Test accuracy: 87.1%\n"
     ]
    }
   ],
   "source": [
    "num_steps = 5001\n",
    "\n",
    "with tf.Session(graph=graph) as session:\n",
    "    tf.initialize_all_variables().run()\n",
    "    print(\"Initialized\")\n",
    "    for step in range(num_steps):\n",
    "        # Pick an offset within the training data, which has been randomized.\n",
    "        # Note: we could use better randomization across epochs.\n",
    "        offset = (step * batch_size) % (train_labels.shape[0] - batch_size)\n",
    "        # Generate a minibatch.\n",
    "        batch_data = train_dataset[offset:(offset + batch_size), :]\n",
    "        batch_labels = train_labels[offset:(offset + batch_size), :]\n",
    "        # Prepare a dictionary telling the session where to feed the minibatch.\n",
    "        # The key of the dictionary is the placeholder node of the graph to be fed,\n",
    "        # and the value is the numpy array to feed to it.\n",
    "        feed_dict = {tf_train_dataset : batch_data, tf_train_labels : batch_labels}\n",
    "        _, l, predictions = session.run(\n",
    "          [optimizer, loss, train_prediction], feed_dict=feed_dict)\n",
    "        if (step % 500 == 0):\n",
    "            print(\"Minibatch loss at step %d: %f\" % (step, l))\n",
    "            print(\"Minibatch accuracy: %.1f%%\" % accuracy(predictions, batch_labels))\n",
    "            print(\"Validation accuracy: %.1f%%\" % accuracy(valid_prediction.eval(), valid_labels))\n",
    "    print(\"Test accuracy: %.1f%%\" % accuracy(test_prediction.eval(), test_labels))"
   ]
  },
  {
   "cell_type": "markdown",
   "metadata": {
    "colab_type": "text",
    "id": "7omWxtvLLxik"
   },
   "source": [
    "---\n",
    "Problem\n",
    "-------\n",
    "\n",
    "Turn the logistic regression example with SGD into a 1-hidden layer neural network with rectified linear units [nn.relu()](https://www.tensorflow.org/versions/r0.7/api_docs/python/nn.html#relu) and 1024 hidden nodes. This model should improve your validation / test accuracy.\n",
    "\n",
    "---"
   ]
  },
  {
   "cell_type": "code",
   "execution_count": 12,
   "metadata": {
    "collapsed": true
   },
   "outputs": [],
   "source": [
    "%matplotlib inline\n",
    "import matplotlib.pyplot as plt\n",
    "\n",
    "V_accur_list = [] #verification accuracy list\n",
    "step_list = [] # step number list\n",
    "cost_list = []"
   ]
  },
  {
   "cell_type": "code",
   "execution_count": 13,
   "metadata": {
    "collapsed": true
   },
   "outputs": [],
   "source": [
    "# Setting up the graph always comes first\n",
    "\n",
    "batch_size = 128\n",
    "n_hidden_nodes = 1024\n",
    "image_size = 28\n",
    "\n",
    "graph = tf.Graph()\n",
    "with graph.as_default():\n",
    "    \n",
    "    # Input data. For the training data, we use a placeholder that will be \n",
    "    # fed at runtime with a training minibatch\n",
    "    tf_train_dataset = tf.placeholder(tf.float32,\n",
    "                                    shape=(batch_size, image_size * image_size))\n",
    "    tf_train_labels = tf.placeholder(tf.float32, shape=(batch_size, num_labels))\n",
    "    tf_valid_dataset = tf.constant(valid_dataset)\n",
    "    tf_test_dataset = tf.constant(test_dataset)\n",
    "    \n",
    "    # Variables.\n",
    "    weights_01 = tf.Variable(\n",
    "    tf.truncated_normal([image_size * image_size, n_hidden_nodes]))\n",
    "    weights_12 = tf.Variable(tf.truncated_normal([n_hidden_nodes, num_labels]))\n",
    "    biases_01 = tf.Variable(tf.zeros([n_hidden_nodes]))\n",
    "    biases_12 = tf.Variable(tf.zeros([num_labels]))\n",
    "\n",
    "    # Training computation.\n",
    "    z_01= tf.matmul(tf_train_dataset, weights_01) + biases_01\n",
    "    h1 = tf.nn.relu(z_01)\n",
    "    z_12 = tf.matmul(h1, weights_12) + biases_12\n",
    "    loss = tf.reduce_mean(\n",
    "    tf.nn.softmax_cross_entropy_with_logits(z_12, tf_train_labels))\n",
    "\n",
    "    # Optimizer.\n",
    "    optimizer = tf.train.GradientDescentOptimizer(0.5).minimize(loss)\n",
    "\n",
    "    # Predictions for the training, validation, and test data.\n",
    "    train_prediction = tf.nn.softmax(z_12)\n",
    "    valid_prediction = tf.nn.softmax(\n",
    "    tf.matmul(tf.nn.relu(tf.matmul(tf_valid_dataset, weights_01) + biases_01), weights_12) + biases_12)\n",
    "    test_prediction = tf.nn.softmax(tf.matmul(tf.nn.relu(tf.matmul(tf_test_dataset, weights_01) + biases_01), weights_12) + biases_12) "
   ]
  },
  {
   "cell_type": "code",
   "execution_count": 14,
   "metadata": {
    "collapsed": false
   },
   "outputs": [
    {
     "name": "stdout",
     "output_type": "stream",
     "text": [
      "Initialized\n",
      "Minibatch loss at step 0: 370.188629\n",
      "Minibatch accuracy: 5.5%\n",
      "Validation accuracy: 36.7%\n",
      "Minibatch loss at step 100: 43.089180\n",
      "Minibatch accuracy: 77.3%\n",
      "Validation accuracy: 75.5%\n",
      "Minibatch loss at step 200: 23.482714\n",
      "Minibatch accuracy: 75.8%\n",
      "Validation accuracy: 78.0%\n",
      "Minibatch loss at step 300: 35.722511\n",
      "Minibatch accuracy: 78.9%\n",
      "Validation accuracy: 77.6%\n",
      "Minibatch loss at step 400: 17.088871\n",
      "Minibatch accuracy: 86.7%\n",
      "Validation accuracy: 78.4%\n",
      "Minibatch loss at step 500: 11.470387\n",
      "Minibatch accuracy: 78.1%\n",
      "Validation accuracy: 80.3%\n",
      "Minibatch loss at step 600: 5.509978\n",
      "Minibatch accuracy: 84.4%\n",
      "Validation accuracy: 81.2%\n",
      "Minibatch loss at step 700: 8.766458\n",
      "Minibatch accuracy: 79.7%\n",
      "Validation accuracy: 79.5%\n",
      "Minibatch loss at step 800: 6.703908\n",
      "Minibatch accuracy: 81.2%\n",
      "Validation accuracy: 81.0%\n",
      "Minibatch loss at step 900: 8.916259\n",
      "Minibatch accuracy: 75.8%\n",
      "Validation accuracy: 80.2%\n",
      "Minibatch loss at step 1000: 9.913222\n",
      "Minibatch accuracy: 78.1%\n",
      "Validation accuracy: 80.0%\n",
      "Minibatch loss at step 1100: 5.759077\n",
      "Minibatch accuracy: 84.4%\n",
      "Validation accuracy: 79.8%\n",
      "Minibatch loss at step 1200: 3.377682\n",
      "Minibatch accuracy: 81.2%\n",
      "Validation accuracy: 81.0%\n",
      "Minibatch loss at step 1300: 13.386200\n",
      "Minibatch accuracy: 75.8%\n",
      "Validation accuracy: 79.0%\n",
      "Minibatch loss at step 1400: 9.819788\n",
      "Minibatch accuracy: 80.5%\n",
      "Validation accuracy: 80.5%\n",
      "Minibatch loss at step 1500: 9.056580\n",
      "Minibatch accuracy: 81.2%\n",
      "Validation accuracy: 81.2%\n",
      "Minibatch loss at step 1600: 5.319943\n",
      "Minibatch accuracy: 76.6%\n",
      "Validation accuracy: 81.2%\n",
      "Minibatch loss at step 1700: 3.018636\n",
      "Minibatch accuracy: 88.3%\n",
      "Validation accuracy: 82.0%\n",
      "Minibatch loss at step 1800: 4.467705\n",
      "Minibatch accuracy: 85.2%\n",
      "Validation accuracy: 80.4%\n",
      "Minibatch loss at step 1900: 6.092492\n",
      "Minibatch accuracy: 84.4%\n",
      "Validation accuracy: 81.8%\n",
      "Minibatch loss at step 2000: 7.502676\n",
      "Minibatch accuracy: 85.9%\n",
      "Validation accuracy: 80.9%\n",
      "Minibatch loss at step 2100: 2.758957\n",
      "Minibatch accuracy: 86.7%\n",
      "Validation accuracy: 81.9%\n",
      "Minibatch loss at step 2200: 14.265432\n",
      "Minibatch accuracy: 77.3%\n",
      "Validation accuracy: 78.8%\n",
      "Minibatch loss at step 2300: 3.208694\n",
      "Minibatch accuracy: 83.6%\n",
      "Validation accuracy: 82.4%\n",
      "Minibatch loss at step 2400: 3.461667\n",
      "Minibatch accuracy: 81.2%\n",
      "Validation accuracy: 78.5%\n",
      "Minibatch loss at step 2500: 8.334518\n",
      "Minibatch accuracy: 79.7%\n",
      "Validation accuracy: 80.7%\n",
      "Minibatch loss at step 2600: 6.420925\n",
      "Minibatch accuracy: 83.6%\n",
      "Validation accuracy: 81.0%\n",
      "Minibatch loss at step 2700: 3.741678\n",
      "Minibatch accuracy: 79.7%\n",
      "Validation accuracy: 82.4%\n",
      "Minibatch loss at step 2800: 4.633254\n",
      "Minibatch accuracy: 81.2%\n",
      "Validation accuracy: 82.5%\n",
      "Minibatch loss at step 2900: 4.581329\n",
      "Minibatch accuracy: 85.2%\n",
      "Validation accuracy: 81.7%\n",
      "Minibatch loss at step 3000: 2.151747\n",
      "Minibatch accuracy: 84.4%\n",
      "Validation accuracy: 81.6%\n",
      "Minibatch loss at step 3100: 3.426625\n",
      "Minibatch accuracy: 81.2%\n",
      "Validation accuracy: 81.3%\n",
      "Minibatch loss at step 3200: 2.782864\n",
      "Minibatch accuracy: 89.1%\n",
      "Validation accuracy: 82.3%\n",
      "Minibatch loss at step 3300: 0.830039\n",
      "Minibatch accuracy: 88.3%\n",
      "Validation accuracy: 82.6%\n",
      "Minibatch loss at step 3400: 3.774660\n",
      "Minibatch accuracy: 79.7%\n",
      "Validation accuracy: 82.8%\n",
      "Minibatch loss at step 3500: 3.449926\n",
      "Minibatch accuracy: 83.6%\n",
      "Validation accuracy: 82.1%\n",
      "Minibatch loss at step 3600: 1.712398\n",
      "Minibatch accuracy: 86.7%\n",
      "Validation accuracy: 83.2%\n",
      "Minibatch loss at step 3700: 5.465161\n",
      "Minibatch accuracy: 84.4%\n",
      "Validation accuracy: 81.3%\n",
      "Minibatch loss at step 3800: 3.222647\n",
      "Minibatch accuracy: 83.6%\n",
      "Validation accuracy: 82.7%\n",
      "Minibatch loss at step 3900: 2.489754\n",
      "Minibatch accuracy: 89.1%\n",
      "Validation accuracy: 83.0%\n",
      "Minibatch loss at step 4000: 2.264564\n",
      "Minibatch accuracy: 83.6%\n",
      "Validation accuracy: 80.3%\n",
      "Minibatch loss at step 4100: 3.503073\n",
      "Minibatch accuracy: 84.4%\n",
      "Validation accuracy: 82.2%\n",
      "Minibatch loss at step 4200: 1.586958\n",
      "Minibatch accuracy: 86.7%\n",
      "Validation accuracy: 82.1%\n",
      "Minibatch loss at step 4300: 4.984159\n",
      "Minibatch accuracy: 82.8%\n",
      "Validation accuracy: 83.1%\n",
      "Minibatch loss at step 4400: 1.042915\n",
      "Minibatch accuracy: 82.0%\n",
      "Validation accuracy: 82.3%\n",
      "Minibatch loss at step 4500: 1.063548\n",
      "Minibatch accuracy: 84.4%\n",
      "Validation accuracy: 82.6%\n",
      "Minibatch loss at step 4600: 3.833113\n",
      "Minibatch accuracy: 78.9%\n",
      "Validation accuracy: 81.3%\n",
      "Minibatch loss at step 4700: 0.685756\n",
      "Minibatch accuracy: 89.1%\n",
      "Validation accuracy: 80.7%\n",
      "Minibatch loss at step 4800: 2.271060\n",
      "Minibatch accuracy: 85.9%\n",
      "Validation accuracy: 83.0%\n",
      "Minibatch loss at step 4900: 1.208584\n",
      "Minibatch accuracy: 89.8%\n",
      "Validation accuracy: 82.6%\n",
      "Minibatch loss at step 5000: 1.103655\n",
      "Minibatch accuracy: 91.4%\n",
      "Validation accuracy: 83.0%\n",
      "Minibatch loss at step 5100: 1.483269\n",
      "Minibatch accuracy: 86.7%\n",
      "Validation accuracy: 82.9%\n",
      "Minibatch loss at step 5200: 1.712821\n",
      "Minibatch accuracy: 85.2%\n",
      "Validation accuracy: 82.8%\n",
      "Minibatch loss at step 5300: 1.408360\n",
      "Minibatch accuracy: 87.5%\n",
      "Validation accuracy: 83.2%\n",
      "Minibatch loss at step 5400: 3.564788\n",
      "Minibatch accuracy: 85.2%\n",
      "Validation accuracy: 82.8%\n",
      "Minibatch loss at step 5500: 1.633420\n",
      "Minibatch accuracy: 78.1%\n",
      "Validation accuracy: 83.1%\n",
      "Minibatch loss at step 5600: 2.714412\n",
      "Minibatch accuracy: 81.2%\n",
      "Validation accuracy: 82.9%\n",
      "Minibatch loss at step 5700: 2.086560\n",
      "Minibatch accuracy: 86.7%\n",
      "Validation accuracy: 82.5%\n",
      "Minibatch loss at step 5800: 3.523767\n",
      "Minibatch accuracy: 83.6%\n",
      "Validation accuracy: 82.0%\n",
      "Minibatch loss at step 5900: 1.924821\n",
      "Minibatch accuracy: 89.1%\n",
      "Validation accuracy: 83.7%\n",
      "Minibatch loss at step 6000: 2.158655\n",
      "Minibatch accuracy: 78.1%\n",
      "Validation accuracy: 83.5%\n",
      "Test accuracy: 90.5%\n"
     ]
    }
   ],
   "source": [
    "num_steps = 6001\n",
    "\n",
    "with tf.Session(graph=graph) as session:\n",
    "    tf.initialize_all_variables().run()\n",
    "    print(\"Initialized\")\n",
    "    for step in range(num_steps):\n",
    "        # Pick an offset within the training data, which has been randomized.\n",
    "        # Note: we could use better randomization across epochs.\n",
    "        offset = (step * batch_size) % (train_labels.shape[0] - batch_size)\n",
    "        # Generate a minibatch.\n",
    "        batch_data = train_dataset[offset:(offset + batch_size), :]\n",
    "        batch_labels = train_labels[offset:(offset + batch_size), :]\n",
    "        # Prepare a dictionary telling the session where to feed the minibatch.\n",
    "        # The key of the dictionary is the placeholder node of the graph to be fed,\n",
    "        # and the value is the numpy array to feed to it.\n",
    "        feed_dict = {tf_train_dataset : batch_data, tf_train_labels : batch_labels}\n",
    "        _, l, predictions = session.run(\n",
    "          [optimizer, loss, train_prediction], feed_dict=feed_dict)\n",
    "        if (step % 100 == 0):\n",
    "            cost_list.append(l)\n",
    "            step_list.append(step)\n",
    "            print(\"Minibatch loss at step %d: %f\" % (step, l))\n",
    "            print(\"Minibatch accuracy: %.1f%%\" % accuracy(predictions, batch_labels))\n",
    "            valid_accuracy = accuracy(valid_prediction.eval(), valid_labels)\n",
    "            V_accur_list.append(valid_accuracy)\n",
    "            print(\"Validation accuracy: %.1f%%\" % valid_accuracy)\n",
    "    print(\"Test accuracy: %.1f%%\" % accuracy(test_prediction.eval(), test_labels))"
   ]
  },
  {
   "cell_type": "code",
   "execution_count": 15,
   "metadata": {
    "collapsed": false
   },
   "outputs": [],
   "source": [
    "#very simple plotting\n",
    "#fig = plt.figure(1)\n",
    "#ax1 = fig.add_subplot(111)\n",
    "#ax1.set_xlabel('Steps')\n",
    "#ax1.set_ylabel('Cost')\n",
    "#ax1.set_title('Cost vs Steps')\n",
    "#ax1.plot(step2_list,cost2_list,);"
   ]
  },
  {
   "cell_type": "code",
   "execution_count": 16,
   "metadata": {
    "collapsed": false
   },
   "outputs": [
    {
     "data": {
      "image/png": "[encoded data removed]",
      "text/plain": [
       "<matplotlib.figure.Figure at 0x12920d950>"
      ]
     },
     "metadata": {},
     "output_type": "display_data"
    }
   ],
   "source": [
    "fig, axes = plt.subplots(nrows = 1, ncols = 2, figsize = (15,5));\n",
    "axes[0].plot(step_list, cost_list);\n",
    "axes[0].set_title('Cost vs Steps');\n",
    "axes[0].set_xlabel('Steps', size = 12);\n",
    "axes[0].set_ylabel('Cost', size = 12);\n",
    "axes[1].plot(step_list, V_accur_list);\n",
    "axes[1].set_title('Validation Accuracy vs Steps');\n",
    "axes[1].set_xlabel('Steps', size = 12);\n",
    "axes[1].set_ylabel('Validation Accuracy', size = 12);"
   ]
  },
  {
   "cell_type": "code",
   "execution_count": null,
   "metadata": {
    "collapsed": true
   },
   "outputs": [],
   "source": []
  }
 ],
 "metadata": {
  "colab": {
   "default_view": {},
   "name": "2_fullyconnected.ipynb",
   "provenance": [],
   "version": "0.3.2",
   "views": {}
  },
  "kernelspec": {
   "display_name": "Python 2",
   "language": "python",
   "name": "python2"
  },
  "language_info": {
   "codemirror_mode": {
    "name": "ipython",
    "version": 2
   },
   "file_extension": ".py",
   "mimetype": "text/x-python",
   "name": "python",
   "nbconvert_exporter": "python",
   "pygments_lexer": "ipython2",
   "version": "2.7.12"
  }
 },
 "nbformat": 4,
 "nbformat_minor": 0
}
