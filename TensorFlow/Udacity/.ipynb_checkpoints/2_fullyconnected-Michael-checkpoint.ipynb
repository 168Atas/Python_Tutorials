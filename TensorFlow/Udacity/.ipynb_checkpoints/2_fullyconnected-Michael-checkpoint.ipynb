{
 "cells": [
  {
   "cell_type": "markdown",
   "metadata": {
    "colab_type": "text",
    "id": "kR-4eNdK6lYS"
   },
   "source": [
    "Deep Learning\n",
    "=============\n",
    "\n",
    "Assignment 2\n",
    "------------\n",
    "\n",
    "Previously in `1_notmnist.ipynb`, we created a pickle with formatted datasets for training, development and testing on the [notMNIST dataset](http://yaroslavvb.blogspot.com/2011/09/notmnist-dataset.html).\n",
    "\n",
    "The goal of this assignment is to progressively train deeper and more accurate models using TensorFlow."
   ]
  },
  {
   "cell_type": "code",
   "execution_count": 32,
   "metadata": {
    "cellView": "both",
    "colab": {
     "autoexec": {
      "startup": false,
      "wait_interval": 0
     }
    },
    "colab_type": "code",
    "collapsed": true,
    "id": "JLpLa8Jt7Vu4"
   },
   "outputs": [],
   "source": [
    "# These are all the modules we'll be using later. Make sure you can import them\n",
    "# before proceeding further.\n",
    "from __future__ import print_function\n",
    "import numpy as np\n",
    "import tensorflow as tf\n",
    "from six.moves import cPickle as pickle\n",
    "from six.moves import range"
   ]
  },
  {
   "cell_type": "markdown",
   "metadata": {
    "colab_type": "text",
    "id": "1HrCK6e17WzV"
   },
   "source": [
    "First reload the data we generated in `1_notmnist.ipynb`."
   ]
  },
  {
   "cell_type": "code",
   "execution_count": 33,
   "metadata": {
    "cellView": "both",
    "colab": {
     "autoexec": {
      "startup": false,
      "wait_interval": 0
     },
     "output_extras": [
      {
       "item_id": 1
      }
     ]
    },
    "colab_type": "code",
    "collapsed": false,
    "executionInfo": {
     "elapsed": 19456,
     "status": "ok",
     "timestamp": 1449847956073,
     "user": {
      "color": "",
      "displayName": "",
      "isAnonymous": false,
      "isMe": true,
      "permissionId": "",
      "photoUrl": "",
      "sessionId": "0",
      "userId": ""
     },
     "user_tz": 480
    },
    "id": "y3-cj1bpmuxc",
    "outputId": "0ddb1607-1fc4-4ddb-de28-6c7ab7fb0c33"
   },
   "outputs": [
    {
     "name": "stdout",
     "output_type": "stream",
     "text": [
      "Training set (200000, 28, 28) (200000,)\n",
      "Validation set (10000, 28, 28) (10000,)\n",
      "Test set (10000, 28, 28) (10000,)\n"
     ]
    }
   ],
   "source": [
    "pickle_file = 'notMNIST.pickle'\n",
    "\n",
    "with open(pickle_file, 'rb') as f:\n",
    "    save = pickle.load(f)\n",
    "    train_dataset = save['train_dataset']\n",
    "    train_labels = save['train_labels']\n",
    "    valid_dataset = save['valid_dataset']\n",
    "    valid_labels = save['valid_labels']\n",
    "    test_dataset = save['test_dataset']\n",
    "    test_labels = save['test_labels']\n",
    "    del save  # hint to help gc free up memory\n",
    "    print('Training set', train_dataset.shape, train_labels.shape)\n",
    "    print('Validation set', valid_dataset.shape, valid_labels.shape)\n",
    "    print('Test set', test_dataset.shape, test_labels.shape)"
   ]
  },
  {
   "cell_type": "markdown",
   "metadata": {
    "colab_type": "text",
    "id": "L7aHrm6nGDMB"
   },
   "source": [
    "Reformat into a shape that's more adapted to the models we're going to train:\n",
    "- data as a flat matrix,\n",
    "- labels as float 1-hot encodings."
   ]
  },
  {
   "cell_type": "code",
   "execution_count": 34,
   "metadata": {
    "cellView": "both",
    "colab": {
     "autoexec": {
      "startup": false,
      "wait_interval": 0
     },
     "output_extras": [
      {
       "item_id": 1
      }
     ]
    },
    "colab_type": "code",
    "collapsed": false,
    "executionInfo": {
     "elapsed": 19723,
     "status": "ok",
     "timestamp": 1449847956364,
     "user": {
      "color": "",
      "displayName": "",
      "isAnonymous": false,
      "isMe": true,
      "permissionId": "",
      "photoUrl": "",
      "sessionId": "0",
      "userId": ""
     },
     "user_tz": 480
    },
    "id": "IRSyYiIIGIzS",
    "outputId": "2ba0fc75-1487-4ace-a562-cf81cae82793"
   },
   "outputs": [
    {
     "name": "stdout",
     "output_type": "stream",
     "text": [
      "Training set (200000, 784) (200000, 10)\n",
      "Validation set (10000, 784) (10000, 10)\n",
      "Test set (10000, 784) (10000, 10)\n"
     ]
    }
   ],
   "source": [
    "image_size = 28\n",
    "num_labels = 10\n",
    "\n",
    "def reformat(dataset, labels):\n",
    "    dataset = dataset.reshape((-1, image_size * image_size)).astype(np.float32)\n",
    "    # Map 0 to [1.0, 0.0, 0.0 ...], 1 to [0.0, 1.0, 0.0 ...]\n",
    "    labels = (np.arange(num_labels) == labels[:,None]).astype(np.float32)\n",
    "    return dataset, labels\n",
    "train_dataset, train_labels = reformat(train_dataset, train_labels)\n",
    "valid_dataset, valid_labels = reformat(valid_dataset, valid_labels)\n",
    "test_dataset, test_labels = reformat(test_dataset, test_labels)\n",
    "print('Training set', train_dataset.shape, train_labels.shape)\n",
    "print('Validation set', valid_dataset.shape, valid_labels.shape)\n",
    "print('Test set', test_dataset.shape, test_labels.shape)"
   ]
  },
  {
   "cell_type": "markdown",
   "metadata": {
    "colab_type": "text",
    "id": "nCLVqyQ5vPPH"
   },
   "source": [
    "We're first going to train a multinomial logistic regression (sigmoid regression) using simple gradient descent.\n",
    "\n",
    "TensorFlow works like this:\n",
    "* First you describe the computation that you want to see performed: what the inputs, the variables, and the operations look like. These get created as nodes over a computation graph. This description is all contained within the block below:\n",
    "\n",
    "      with graph.as_default():\n",
    "          ...\n",
    "\n",
    "* Then you can run the operations on this graph as many times as you want by calling `session.run()`, providing it outputs to fetch from the graph that get returned. This runtime operation is all contained in the block below:\n",
    "\n",
    "      with tf.Session(graph=graph) as session:\n",
    "          ...\n",
    "\n",
    "Let's load all the data into TensorFlow and build the computation graph corresponding to our training:"
   ]
  },
  {
   "cell_type": "code",
   "execution_count": 35,
   "metadata": {
    "cellView": "both",
    "colab": {
     "autoexec": {
      "startup": false,
      "wait_interval": 0
     }
    },
    "colab_type": "code",
    "collapsed": false,
    "id": "Nfv39qvtvOl_"
   },
   "outputs": [],
   "source": [
    "# With gradient descent training, even this much data is prohibitive.\n",
    "# Subset the training data for faster turnaround.\n",
    "train_subset = 10000\n",
    "\n",
    "graph = tf.Graph()\n",
    "with graph.as_default():\n",
    "\n",
    "    # Input data.\n",
    "    # Load the training, validation and test data into constants that are\n",
    "    # attached to the graph.\n",
    "    tf_train_dataset = tf.constant(train_dataset[:train_subset, :])\n",
    "    tf_train_labels = tf.constant(train_labels[:train_subset])\n",
    "    tf_valid_dataset = tf.constant(valid_dataset)\n",
    "    tf_test_dataset = tf.constant(test_dataset)\n",
    "  \n",
    "    # Variables.\n",
    "    # These are the parameters that we are going to be training. The weight\n",
    "    # matrix will be initialized using random values following a (truncated)\n",
    "    # normal distribution. The biases get initialized to zero.\n",
    "    weights = tf.Variable(\n",
    "    tf.truncated_normal([image_size * image_size, num_labels]))\n",
    "    biases = tf.Variable(tf.zeros([num_labels]))\n",
    "  \n",
    "    # Training computation.\n",
    "    # We multiply the inputs with the weight matrix, and add biases. We compute\n",
    "    # the softmax and cross-entropy (it's one operation in TensorFlow, because\n",
    "    # it's very common, and it can be optimized). We take the average of this\n",
    "    # cross-entropy across all training examples: that's our loss.\n",
    "    logits = tf.matmul(tf_train_dataset, weights) + biases\n",
    "    loss = tf.reduce_mean(tf.nn.softmax_cross_entropy_with_logits(logits, tf_train_labels))\n",
    "  \n",
    "    # Optimizer.\n",
    "    # We are going to find the minimum of this loss using gradient descent.\n",
    "    optimizer = tf.train.GradientDescentOptimizer(0.5).minimize(loss)\n",
    "  \n",
    "    # Predictions for the training, validation, and test data.\n",
    "    # These are not part of training, but merely here so that we can report\n",
    "    # accuracy figures as we train.\n",
    "    train_prediction = tf.nn.softmax(logits)\n",
    "    valid_prediction = tf.nn.softmax(tf.matmul(tf_valid_dataset, weights) + biases)\n",
    "    test_prediction = tf.nn.softmax(tf.matmul(tf_test_dataset, weights) + biases)"
   ]
  },
  {
   "cell_type": "markdown",
   "metadata": {
    "colab_type": "text",
    "id": "KQcL4uqISHjP"
   },
   "source": [
    "Let's run this computation and iterate:"
   ]
  },
  {
   "cell_type": "code",
   "execution_count": 36,
   "metadata": {
    "collapsed": true
   },
   "outputs": [],
   "source": [
    "%matplotlib inline\n",
    "import matplotlib.pyplot as plt\n",
    "\n",
    "V_accur_list = [] #verification accuracy list\n",
    "step_list = [] # step number list\n",
    "cost_list = []"
   ]
  },
  {
   "cell_type": "code",
   "execution_count": 37,
   "metadata": {
    "cellView": "both",
    "colab": {
     "autoexec": {
      "startup": false,
      "wait_interval": 0
     },
     "output_extras": [
      {
       "item_id": 9
      }
     ]
    },
    "colab_type": "code",
    "collapsed": false,
    "executionInfo": {
     "elapsed": 57454,
     "status": "ok",
     "timestamp": 1449847994134,
     "user": {
      "color": "",
      "displayName": "",
      "isAnonymous": false,
      "isMe": true,
      "permissionId": "",
      "photoUrl": "",
      "sessionId": "0",
      "userId": ""
     },
     "user_tz": 480
    },
    "id": "z2cjdenH869W",
    "outputId": "4c037ba1-b526-4d8e-e632-91e2a0333267"
   },
   "outputs": [
    {
     "name": "stdout",
     "output_type": "stream",
     "text": [
      "Initialized\n",
      "Loss at step 0: 16.492558\n",
      "Training accuracy: 8.3%\n",
      "Validation accuracy: 10.8%\n",
      "Loss at step 20: 3.674950\n",
      "Training accuracy: 58.6%\n",
      "Validation accuracy: 58.7%\n",
      "Loss at step 40: 2.987633\n",
      "Training accuracy: 66.2%\n",
      "Validation accuracy: 66.0%\n",
      "Loss at step 60: 2.686781\n",
      "Training accuracy: 69.2%\n",
      "Validation accuracy: 68.4%\n",
      "Loss at step 80: 2.489988\n",
      "Training accuracy: 70.5%\n",
      "Validation accuracy: 69.7%\n",
      "Loss at step 100: 2.339971\n",
      "Training accuracy: 71.5%\n",
      "Validation accuracy: 70.7%\n",
      "Loss at step 120: 2.218717\n",
      "Training accuracy: 72.3%\n",
      "Validation accuracy: 71.3%\n",
      "Loss at step 140: 2.117601\n",
      "Training accuracy: 72.8%\n",
      "Validation accuracy: 71.9%\n",
      "Loss at step 160: 2.031323\n",
      "Training accuracy: 73.4%\n",
      "Validation accuracy: 72.2%\n",
      "Loss at step 180: 1.956306\n",
      "Training accuracy: 73.7%\n",
      "Validation accuracy: 72.5%\n",
      "Loss at step 200: 1.890000\n",
      "Training accuracy: 74.2%\n",
      "Validation accuracy: 72.9%\n",
      "Loss at step 220: 1.830634\n",
      "Training accuracy: 74.4%\n",
      "Validation accuracy: 73.1%\n",
      "Loss at step 240: 1.776956\n",
      "Training accuracy: 74.6%\n",
      "Validation accuracy: 73.4%\n",
      "Loss at step 260: 1.728034\n",
      "Training accuracy: 74.8%\n",
      "Validation accuracy: 73.6%\n",
      "Loss at step 280: 1.683148\n",
      "Training accuracy: 75.0%\n",
      "Validation accuracy: 73.6%\n",
      "Loss at step 300: 1.641719\n",
      "Training accuracy: 75.2%\n",
      "Validation accuracy: 73.6%\n",
      "Loss at step 320: 1.603280\n",
      "Training accuracy: 75.4%\n",
      "Validation accuracy: 73.8%\n",
      "Loss at step 340: 1.567456\n",
      "Training accuracy: 75.4%\n",
      "Validation accuracy: 73.8%\n",
      "Loss at step 360: 1.533943\n",
      "Training accuracy: 75.6%\n",
      "Validation accuracy: 73.8%\n",
      "Loss at step 380: 1.502488\n",
      "Training accuracy: 75.7%\n",
      "Validation accuracy: 73.9%\n",
      "Loss at step 400: 1.472886\n",
      "Training accuracy: 75.9%\n",
      "Validation accuracy: 74.0%\n",
      "Loss at step 420: 1.444964\n",
      "Training accuracy: 76.1%\n",
      "Validation accuracy: 74.0%\n",
      "Loss at step 440: 1.418576\n",
      "Training accuracy: 76.4%\n",
      "Validation accuracy: 74.0%\n",
      "Loss at step 460: 1.393590\n",
      "Training accuracy: 76.5%\n",
      "Validation accuracy: 74.2%\n",
      "Loss at step 480: 1.369897\n",
      "Training accuracy: 76.5%\n",
      "Validation accuracy: 74.2%\n",
      "Loss at step 500: 1.347399\n",
      "Training accuracy: 76.7%\n",
      "Validation accuracy: 74.2%\n",
      "Loss at step 520: 1.326005\n",
      "Training accuracy: 76.8%\n",
      "Validation accuracy: 74.3%\n",
      "Loss at step 540: 1.305632\n",
      "Training accuracy: 76.9%\n",
      "Validation accuracy: 74.4%\n",
      "Loss at step 560: 1.286205\n",
      "Training accuracy: 77.0%\n",
      "Validation accuracy: 74.4%\n",
      "Loss at step 580: 1.267654\n",
      "Training accuracy: 77.1%\n",
      "Validation accuracy: 74.5%\n",
      "Loss at step 600: 1.249917\n",
      "Training accuracy: 77.2%\n",
      "Validation accuracy: 74.6%\n",
      "Loss at step 620: 1.232931\n",
      "Training accuracy: 77.3%\n",
      "Validation accuracy: 74.6%\n",
      "Loss at step 640: 1.216649\n",
      "Training accuracy: 77.3%\n",
      "Validation accuracy: 74.6%\n",
      "Loss at step 660: 1.201016\n",
      "Training accuracy: 77.5%\n",
      "Validation accuracy: 74.7%\n",
      "Loss at step 680: 1.185990\n",
      "Training accuracy: 77.5%\n",
      "Validation accuracy: 74.8%\n",
      "Loss at step 700: 1.171531\n",
      "Training accuracy: 77.6%\n",
      "Validation accuracy: 74.9%\n",
      "Loss at step 720: 1.157603\n",
      "Training accuracy: 77.7%\n",
      "Validation accuracy: 74.9%\n",
      "Loss at step 740: 1.144170\n",
      "Training accuracy: 77.8%\n",
      "Validation accuracy: 74.9%\n",
      "Loss at step 760: 1.131203\n",
      "Training accuracy: 78.0%\n",
      "Validation accuracy: 75.0%\n",
      "Loss at step 780: 1.118673\n",
      "Training accuracy: 78.1%\n",
      "Validation accuracy: 75.0%\n",
      "Loss at step 800: 1.106555\n",
      "Training accuracy: 78.2%\n",
      "Validation accuracy: 75.1%\n",
      "Test accuracy: 82.6%\n"
     ]
    }
   ],
   "source": [
    "num_steps = 801\n",
    "\n",
    "def accuracy(predictions, labels):\n",
    "    return (100.0 * np.sum(np.argmax(predictions, 1) == np.argmax(labels, 1)) / predictions.shape[0])\n",
    "\n",
    "with tf.Session(graph=graph) as session:\n",
    "    # This is a one-time operation which ensures the parameters get initialized as\n",
    "    # we described in the graph: random weights for the matrix, zeros for the\n",
    "    # biases. \n",
    "    tf.initialize_all_variables().run()\n",
    "    print('Initialized')\n",
    "    for step in range(num_steps):\n",
    "        # Run the computations. We tell .run() that we want to run the optimizer,\n",
    "        # and get the loss value and the training predictions returned as numpy\n",
    "        # arrays.\n",
    "        _, l, predictions = session.run([optimizer, loss, train_prediction])\n",
    "        if (step % 20 == 0):\n",
    "            cost_list.append(l)\n",
    "            step_list.append(step)\n",
    "            print('Loss at step %d: %f' % (step, l))\n",
    "            print('Training accuracy: %.1f%%' % accuracy(\n",
    "            predictions, train_labels[:train_subset, :]))\n",
    "            # Calling .eval() on valid_prediction is basically like calling run(), but\n",
    "            # just to get that one numpy array. Note that it recomputes all its graph\n",
    "            # dependencies.\n",
    "            valid_accuracy = accuracy(valid_prediction.eval(), valid_labels)\n",
    "            V_accur_list.append(valid_accuracy)\n",
    "            print('Validation accuracy: %.1f%%' % valid_accuracy)\n",
    "    print('Test accuracy: %.1f%%' % accuracy(test_prediction.eval(), test_labels))\n",
    "    #This line below allows for taking the predictions to a pandas dataframe and eventually a heatmap/confusion matrix\n",
    "    pred = test_prediction.eval()"
   ]
  },
  {
   "cell_type": "code",
   "execution_count": 54,
   "metadata": {
    "collapsed": false
   },
   "outputs": [
    {
     "data": {
      "image/png": "[encoded data removed]",
      "text/plain": [
       "<matplotlib.figure.Figure at 0x1555e6f90>"
      ]
     },
     "metadata": {},
     "output_type": "display_data"
    }
   ],
   "source": [
    "from sklearn import metrics\n",
    "import pandas as pd\n",
    "import seaborn as sns\n",
    "\n",
    "fig, axes = plt.subplots(nrows = 1, ncols = 3, figsize = (30,9));\n",
    "fig.subplots_adjust(wspace=0.15, hspace=0)\n",
    "#plt.tight_layout() # bring plots closer together\n",
    "axes[0].plot(step_list, cost_list);\n",
    "axes[0].set_figure\n",
    "axes[0].set_title('Cost vs Steps', size = 20);\n",
    "axes[0].set_xlabel('Steps', size = 15);\n",
    "axes[0].set_ylabel('Cost', size = 15);\n",
    "axes[1].plot(step_list, V_accur_list);\n",
    "axes[1].set_title('Validation Accuracy vs Steps', size = 20);\n",
    "axes[1].set_xlabel('Steps', size = 15);\n",
    "axes[1].set_ylabel('Validation Accuracy', size = 15);\n",
    "\n",
    "# predictions\n",
    "predicted = [np.argmax(pred[i,:], 0) for i in xrange(0,pred.shape[0])]\n",
    "#actual\n",
    "t_labels = [np.where(test_labels[i] == 1)[0][0] for i in xrange(0,pred.shape[0])]\n",
    "\n",
    "cm = metrics.confusion_matrix(t_labels, predicted)\n",
    "cm_normalized = cm.astype('float') / cm.sum(axis=1)[:, np.newaxis]\n",
    "confusion_matrix = pd.DataFrame(data = cm_normalized)\n",
    "sns.heatmap(confusion_matrix, annot=True, fmt=\".3f\", linewidths=.5, square = True,ax = axes[2], cmap = 'Blues_r', cbar = False);\n",
    "axes[2].set_ylabel('Actual label', size = 15);\n",
    "axes[2].set_xlabel('Predicted label', size = 15);\n",
    "axes[2].set_title('Confusion Matrix', size = 20);"
   ]
  },
  {
   "cell_type": "markdown",
   "metadata": {
    "colab_type": "text",
    "id": "x68f-hxRGm3H"
   },
   "source": [
    "Let's now switch to stochastic gradient descent training instead, which is much faster.\n",
    "\n",
    "The graph will be similar, except that instead of holding all the training data into a constant node, we create a `Placeholder` node which will be fed actual data at every call of `session.run()`."
   ]
  },
  {
   "cell_type": "code",
   "execution_count": 9,
   "metadata": {
    "cellView": "both",
    "colab": {
     "autoexec": {
      "startup": false,
      "wait_interval": 0
     }
    },
    "colab_type": "code",
    "collapsed": true,
    "id": "qhPMzWYRGrzM"
   },
   "outputs": [],
   "source": [
    "batch_size = 128\n",
    "\n",
    "graph = tf.Graph()\n",
    "with graph.as_default():\n",
    "\n",
    "    # Input data. For the training data, we use a placeholder that will be fed\n",
    "    # at run time with a training minibatch.\n",
    "    tf_train_dataset = tf.placeholder(tf.float32,\n",
    "                                    shape=(batch_size, image_size * image_size))\n",
    "    tf_train_labels = tf.placeholder(tf.float32, shape=(batch_size, num_labels))\n",
    "    tf_valid_dataset = tf.constant(valid_dataset)\n",
    "    tf_test_dataset = tf.constant(test_dataset)\n",
    "  \n",
    "    # Variables.\n",
    "    weights = tf.Variable(tf.truncated_normal([image_size * image_size, num_labels]))\n",
    "    biases = tf.Variable(tf.zeros([num_labels]))\n",
    "  \n",
    "    # Training computation.\n",
    "    logits = tf.matmul(tf_train_dataset, weights) + biases\n",
    "    loss = tf.reduce_mean(tf.nn.softmax_cross_entropy_with_logits(logits, tf_train_labels))\n",
    "  \n",
    "    # Optimizer.\n",
    "    optimizer = tf.train.GradientDescentOptimizer(0.5).minimize(loss)\n",
    "  \n",
    "    # Predictions for the training, validation, and test data.\n",
    "    train_prediction = tf.nn.softmax(logits)\n",
    "    valid_prediction = tf.nn.softmax(tf.matmul(tf_valid_dataset, weights) + biases)\n",
    "    test_prediction = tf.nn.softmax(tf.matmul(tf_test_dataset, weights) + biases)"
   ]
  },
  {
   "cell_type": "markdown",
   "metadata": {
    "colab_type": "text",
    "id": "XmVZESmtG4JH"
   },
   "source": [
    "Let's run it:"
   ]
  },
  {
   "cell_type": "code",
   "execution_count": 10,
   "metadata": {
    "cellView": "both",
    "colab": {
     "autoexec": {
      "startup": false,
      "wait_interval": 0
     },
     "output_extras": [
      {
       "item_id": 6
      }
     ]
    },
    "colab_type": "code",
    "collapsed": false,
    "executionInfo": {
     "elapsed": 66292,
     "status": "ok",
     "timestamp": 1449848003013,
     "user": {
      "color": "",
      "displayName": "",
      "isAnonymous": false,
      "isMe": true,
      "permissionId": "",
      "photoUrl": "",
      "sessionId": "0",
      "userId": ""
     },
     "user_tz": 480
    },
    "id": "FoF91pknG_YW",
    "outputId": "d255c80e-954d-4183-ca1c-c7333ce91d0a"
   },
   "outputs": [
    {
     "name": "stdout",
     "output_type": "stream",
     "text": [
      "Initialized\n",
      "Minibatch loss at step 0: 18.714567\n",
      "Minibatch accuracy: 8.6%\n",
      "Validation accuracy: 11.5%\n",
      "Minibatch loss at step 500: 2.405727\n",
      "Minibatch accuracy: 69.5%\n",
      "Validation accuracy: 75.1%\n",
      "Minibatch loss at step 1000: 1.266161\n",
      "Minibatch accuracy: 75.8%\n",
      "Validation accuracy: 76.2%\n",
      "Minibatch loss at step 1500: 1.495987\n",
      "Minibatch accuracy: 76.6%\n",
      "Validation accuracy: 77.3%\n",
      "Minibatch loss at step 2000: 1.225528\n",
      "Minibatch accuracy: 75.0%\n",
      "Validation accuracy: 75.9%\n",
      "Minibatch loss at step 2500: 1.309538\n",
      "Minibatch accuracy: 72.7%\n",
      "Validation accuracy: 78.2%\n",
      "Minibatch loss at step 3000: 0.776127\n",
      "Minibatch accuracy: 79.7%\n",
      "Validation accuracy: 78.9%\n",
      "Minibatch loss at step 3500: 0.670562\n",
      "Minibatch accuracy: 83.6%\n",
      "Validation accuracy: 78.8%\n",
      "Minibatch loss at step 4000: 1.061335\n",
      "Minibatch accuracy: 77.3%\n",
      "Validation accuracy: 79.4%\n",
      "Minibatch loss at step 4500: 0.649720\n",
      "Minibatch accuracy: 84.4%\n",
      "Validation accuracy: 79.4%\n",
      "Minibatch loss at step 5000: 0.725635\n",
      "Minibatch accuracy: 85.2%\n",
      "Validation accuracy: 79.9%\n",
      "Test accuracy: 87.1%\n"
     ]
    }
   ],
   "source": [
    "num_steps = 5001\n",
    "\n",
    "with tf.Session(graph=graph) as session:\n",
    "    tf.initialize_all_variables().run()\n",
    "    print(\"Initialized\")\n",
    "    for step in range(num_steps):\n",
    "        # Pick an offset within the training data, which has been randomized.\n",
    "        # Note: we could use better randomization across epochs.\n",
    "        offset = (step * batch_size) % (train_labels.shape[0] - batch_size)\n",
    "        # Generate a minibatch.\n",
    "        batch_data = train_dataset[offset:(offset + batch_size), :]\n",
    "        batch_labels = train_labels[offset:(offset + batch_size), :]\n",
    "        # Prepare a dictionary telling the session where to feed the minibatch.\n",
    "        # The key of the dictionary is the placeholder node of the graph to be fed,\n",
    "        # and the value is the numpy array to feed to it.\n",
    "        feed_dict = {tf_train_dataset : batch_data, tf_train_labels : batch_labels}\n",
    "        _, l, predictions = session.run(\n",
    "          [optimizer, loss, train_prediction], feed_dict=feed_dict)\n",
    "        if (step % 500 == 0):\n",
    "            print(\"Minibatch loss at step %d: %f\" % (step, l))\n",
    "            print(\"Minibatch accuracy: %.1f%%\" % accuracy(predictions, batch_labels))\n",
    "            print(\"Validation accuracy: %.1f%%\" % accuracy(valid_prediction.eval(), valid_labels))\n",
    "    print(\"Test accuracy: %.1f%%\" % accuracy(test_prediction.eval(), test_labels))"
   ]
  },
  {
   "cell_type": "markdown",
   "metadata": {
    "colab_type": "text",
    "id": "7omWxtvLLxik"
   },
   "source": [
    "---\n",
    "Problem\n",
    "-------\n",
    "\n",
    "Turn the logistic regression example with SGD into a 1-hidden layer neural network with rectified linear units [nn.relu()](https://www.tensorflow.org/versions/r0.7/api_docs/python/nn.html#relu) and 1024 hidden nodes. This model should improve your validation / test accuracy.\n",
    "\n",
    "---"
   ]
  },
  {
   "cell_type": "code",
   "execution_count": 11,
   "metadata": {
    "collapsed": true
   },
   "outputs": [],
   "source": [
    "%matplotlib inline\n",
    "import matplotlib.pyplot as plt\n",
    "\n",
    "V_accur_list = [] #verification accuracy list\n",
    "step_list = [] # step number list\n",
    "cost_list = []"
   ]
  },
  {
   "cell_type": "code",
   "execution_count": 12,
   "metadata": {
    "collapsed": true
   },
   "outputs": [],
   "source": [
    "# Setting up the graph always comes first\n",
    "\n",
    "batch_size = 128\n",
    "n_hidden_nodes = 1024\n",
    "image_size = 28\n",
    "\n",
    "graph = tf.Graph()\n",
    "with graph.as_default():\n",
    "    \n",
    "    # Input data. For the training data, we use a placeholder that will be \n",
    "    # fed at runtime with a training minibatch\n",
    "    tf_train_dataset = tf.placeholder(tf.float32,\n",
    "                                    shape=(batch_size, image_size * image_size))\n",
    "    tf_train_labels = tf.placeholder(tf.float32, shape=(batch_size, num_labels))\n",
    "    tf_valid_dataset = tf.constant(valid_dataset)\n",
    "    tf_test_dataset = tf.constant(test_dataset)\n",
    "    \n",
    "    # Variables.\n",
    "    weights_01 = tf.Variable(\n",
    "    tf.truncated_normal([image_size * image_size, n_hidden_nodes]))\n",
    "    weights_12 = tf.Variable(tf.truncated_normal([n_hidden_nodes, num_labels]))\n",
    "    biases_01 = tf.Variable(tf.zeros([n_hidden_nodes]))\n",
    "    biases_12 = tf.Variable(tf.zeros([num_labels]))\n",
    "\n",
    "    # Training computation.\n",
    "    z_01= tf.matmul(tf_train_dataset, weights_01) + biases_01\n",
    "    h1 = tf.nn.relu(z_01)\n",
    "    z_12 = tf.matmul(h1, weights_12) + biases_12\n",
    "    loss = tf.reduce_mean(\n",
    "    tf.nn.softmax_cross_entropy_with_logits(z_12, tf_train_labels))\n",
    "\n",
    "    # Optimizer.\n",
    "    optimizer = tf.train.GradientDescentOptimizer(0.5).minimize(loss)\n",
    "\n",
    "    # Predictions for the training, validation, and test data.\n",
    "    train_prediction = tf.nn.softmax(z_12)\n",
    "    valid_prediction = tf.nn.softmax(\n",
    "    tf.matmul(tf.nn.relu(tf.matmul(tf_valid_dataset, weights_01) + biases_01), weights_12) + biases_12)\n",
    "    test_prediction = tf.nn.softmax(tf.matmul(tf.nn.relu(tf.matmul(tf_test_dataset, weights_01) + biases_01), weights_12) + biases_12) "
   ]
  },
  {
   "cell_type": "code",
   "execution_count": 13,
   "metadata": {
    "collapsed": false
   },
   "outputs": [
    {
     "name": "stdout",
     "output_type": "stream",
     "text": [
      "Initialized\n",
      "Minibatch loss at step 0: 444.681152\n",
      "Minibatch accuracy: 10.2%\n",
      "Validation accuracy: 36.9%\n",
      "Minibatch loss at step 100: 36.415806\n",
      "Minibatch accuracy: 73.4%\n",
      "Validation accuracy: 77.2%\n",
      "Minibatch loss at step 200: 38.130356\n",
      "Minibatch accuracy: 74.2%\n",
      "Validation accuracy: 80.0%\n",
      "Minibatch loss at step 300: 29.490616\n",
      "Minibatch accuracy: 82.8%\n",
      "Validation accuracy: 77.7%\n",
      "Minibatch loss at step 400: 12.955725\n",
      "Minibatch accuracy: 85.2%\n",
      "Validation accuracy: 78.5%\n",
      "Minibatch loss at step 500: 17.918772\n",
      "Minibatch accuracy: 74.2%\n",
      "Validation accuracy: 80.6%\n",
      "Minibatch loss at step 600: 6.855410\n",
      "Minibatch accuracy: 82.0%\n",
      "Validation accuracy: 81.0%\n",
      "Minibatch loss at step 700: 8.169886\n",
      "Minibatch accuracy: 82.8%\n",
      "Validation accuracy: 80.3%\n",
      "Minibatch loss at step 800: 4.156032\n",
      "Minibatch accuracy: 85.2%\n",
      "Validation accuracy: 80.0%\n",
      "Minibatch loss at step 900: 5.367977\n",
      "Minibatch accuracy: 78.9%\n",
      "Validation accuracy: 79.1%\n",
      "Minibatch loss at step 1000: 11.159548\n",
      "Minibatch accuracy: 78.1%\n",
      "Validation accuracy: 81.0%\n",
      "Minibatch loss at step 1100: 10.177933\n",
      "Minibatch accuracy: 75.8%\n",
      "Validation accuracy: 79.8%\n",
      "Minibatch loss at step 1200: 3.916237\n",
      "Minibatch accuracy: 83.6%\n",
      "Validation accuracy: 81.2%\n",
      "Minibatch loss at step 1300: 12.438515\n",
      "Minibatch accuracy: 77.3%\n",
      "Validation accuracy: 80.5%\n",
      "Minibatch loss at step 1400: 5.608695\n",
      "Minibatch accuracy: 82.8%\n",
      "Validation accuracy: 79.3%\n",
      "Minibatch loss at step 1500: 8.409327\n",
      "Minibatch accuracy: 78.1%\n",
      "Validation accuracy: 82.0%\n",
      "Minibatch loss at step 1600: 6.315694\n",
      "Minibatch accuracy: 74.2%\n",
      "Validation accuracy: 81.5%\n",
      "Minibatch loss at step 1700: 3.327850\n",
      "Minibatch accuracy: 84.4%\n",
      "Validation accuracy: 82.1%\n",
      "Minibatch loss at step 1800: 5.958349\n",
      "Minibatch accuracy: 79.7%\n",
      "Validation accuracy: 82.0%\n",
      "Minibatch loss at step 1900: 5.908082\n",
      "Minibatch accuracy: 86.7%\n",
      "Validation accuracy: 81.6%\n",
      "Minibatch loss at step 2000: 3.467490\n",
      "Minibatch accuracy: 82.0%\n",
      "Validation accuracy: 82.1%\n",
      "Minibatch loss at step 2100: 4.653754\n",
      "Minibatch accuracy: 83.6%\n",
      "Validation accuracy: 81.0%\n",
      "Minibatch loss at step 2200: 9.594477\n",
      "Minibatch accuracy: 77.3%\n",
      "Validation accuracy: 79.9%\n",
      "Minibatch loss at step 2300: 4.154534\n",
      "Minibatch accuracy: 80.5%\n",
      "Validation accuracy: 82.4%\n",
      "Minibatch loss at step 2400: 4.630022\n",
      "Minibatch accuracy: 80.5%\n",
      "Validation accuracy: 81.4%\n",
      "Minibatch loss at step 2500: 7.299415\n",
      "Minibatch accuracy: 78.9%\n",
      "Validation accuracy: 79.4%\n",
      "Minibatch loss at step 2600: 5.925409\n",
      "Minibatch accuracy: 81.2%\n",
      "Validation accuracy: 81.7%\n",
      "Minibatch loss at step 2700: 3.158071\n",
      "Minibatch accuracy: 78.9%\n",
      "Validation accuracy: 81.9%\n",
      "Minibatch loss at step 2800: 4.812911\n",
      "Minibatch accuracy: 80.5%\n",
      "Validation accuracy: 82.4%\n",
      "Minibatch loss at step 2900: 9.726975\n",
      "Minibatch accuracy: 79.7%\n",
      "Validation accuracy: 78.7%\n",
      "Minibatch loss at step 3000: 3.640488\n",
      "Minibatch accuracy: 80.5%\n",
      "Validation accuracy: 81.4%\n",
      "Minibatch loss at step 3100: 2.976574\n",
      "Minibatch accuracy: 81.2%\n",
      "Validation accuracy: 81.5%\n",
      "Minibatch loss at step 3200: 1.310953\n",
      "Minibatch accuracy: 89.8%\n",
      "Validation accuracy: 82.4%\n",
      "Minibatch loss at step 3300: 1.669720\n",
      "Minibatch accuracy: 91.4%\n",
      "Validation accuracy: 82.6%\n",
      "Minibatch loss at step 3400: 3.530846\n",
      "Minibatch accuracy: 80.5%\n",
      "Validation accuracy: 83.0%\n",
      "Minibatch loss at step 3500: 3.429080\n",
      "Minibatch accuracy: 85.2%\n",
      "Validation accuracy: 82.4%\n",
      "Minibatch loss at step 3600: 1.413285\n",
      "Minibatch accuracy: 89.1%\n",
      "Validation accuracy: 83.2%\n",
      "Minibatch loss at step 3700: 6.614187\n",
      "Minibatch accuracy: 85.9%\n",
      "Validation accuracy: 82.4%\n",
      "Minibatch loss at step 3800: 2.908063\n",
      "Minibatch accuracy: 82.8%\n",
      "Validation accuracy: 83.0%\n",
      "Minibatch loss at step 3900: 2.093771\n",
      "Minibatch accuracy: 82.8%\n",
      "Validation accuracy: 82.7%\n",
      "Minibatch loss at step 4000: 1.694850\n",
      "Minibatch accuracy: 80.5%\n",
      "Validation accuracy: 82.7%\n",
      "Minibatch loss at step 4100: 2.383817\n",
      "Minibatch accuracy: 78.9%\n",
      "Validation accuracy: 82.8%\n",
      "Minibatch loss at step 4200: 1.397258\n",
      "Minibatch accuracy: 89.8%\n",
      "Validation accuracy: 82.0%\n",
      "Minibatch loss at step 4300: 5.263176\n",
      "Minibatch accuracy: 83.6%\n",
      "Validation accuracy: 83.0%\n",
      "Minibatch loss at step 4400: 2.501479\n",
      "Minibatch accuracy: 86.7%\n",
      "Validation accuracy: 82.5%\n",
      "Minibatch loss at step 4500: 1.053754\n",
      "Minibatch accuracy: 82.8%\n",
      "Validation accuracy: 83.5%\n",
      "Minibatch loss at step 4600: 4.249228\n",
      "Minibatch accuracy: 84.4%\n",
      "Validation accuracy: 82.8%\n",
      "Minibatch loss at step 4700: 2.121276\n",
      "Minibatch accuracy: 87.5%\n",
      "Validation accuracy: 82.3%\n",
      "Minibatch loss at step 4800: 1.210506\n",
      "Minibatch accuracy: 87.5%\n",
      "Validation accuracy: 82.8%\n",
      "Minibatch loss at step 4900: 1.973321\n",
      "Minibatch accuracy: 88.3%\n",
      "Validation accuracy: 83.5%\n",
      "Minibatch loss at step 5000: 1.436030\n",
      "Minibatch accuracy: 89.1%\n",
      "Validation accuracy: 83.3%\n",
      "Minibatch loss at step 5100: 1.579193\n",
      "Minibatch accuracy: 82.8%\n",
      "Validation accuracy: 83.5%\n",
      "Minibatch loss at step 5200: 2.373704\n",
      "Minibatch accuracy: 81.2%\n",
      "Validation accuracy: 83.4%\n",
      "Minibatch loss at step 5300: 2.064992\n",
      "Minibatch accuracy: 88.3%\n",
      "Validation accuracy: 83.2%\n",
      "Minibatch loss at step 5400: 2.920435\n",
      "Minibatch accuracy: 87.5%\n",
      "Validation accuracy: 82.7%\n",
      "Minibatch loss at step 5500: 2.315694\n",
      "Minibatch accuracy: 78.1%\n",
      "Validation accuracy: 82.9%\n",
      "Minibatch loss at step 5600: 2.390215\n",
      "Minibatch accuracy: 80.5%\n",
      "Validation accuracy: 82.8%\n",
      "Minibatch loss at step 5700: 1.699023\n",
      "Minibatch accuracy: 86.7%\n",
      "Validation accuracy: 83.1%\n",
      "Minibatch loss at step 5800: 4.764718\n",
      "Minibatch accuracy: 82.0%\n",
      "Validation accuracy: 83.2%\n",
      "Minibatch loss at step 5900: 2.354473\n",
      "Minibatch accuracy: 87.5%\n",
      "Validation accuracy: 83.7%\n",
      "Minibatch loss at step 6000: 0.740349\n",
      "Minibatch accuracy: 89.8%\n",
      "Validation accuracy: 83.5%\n",
      "Test accuracy: 89.9%\n"
     ]
    }
   ],
   "source": [
    "num_steps = 6001\n",
    "\n",
    "with tf.Session(graph=graph) as session:\n",
    "    tf.initialize_all_variables().run()\n",
    "    print(\"Initialized\")\n",
    "    for step in range(num_steps):\n",
    "        # Pick an offset within the training data, which has been randomized.\n",
    "        # Note: we could use better randomization across epochs.\n",
    "        offset = (step * batch_size) % (train_labels.shape[0] - batch_size)\n",
    "        # Generate a minibatch.\n",
    "        batch_data = train_dataset[offset:(offset + batch_size), :]\n",
    "        batch_labels = train_labels[offset:(offset + batch_size), :]\n",
    "        # Prepare a dictionary telling the session where to feed the minibatch.\n",
    "        # The key of the dictionary is the placeholder node of the graph to be fed,\n",
    "        # and the value is the numpy array to feed to it.\n",
    "        feed_dict = {tf_train_dataset : batch_data, tf_train_labels : batch_labels}\n",
    "        _, l, predictions = session.run(\n",
    "          [optimizer, loss, train_prediction], feed_dict=feed_dict)\n",
    "        if (step % 100 == 0):\n",
    "            cost_list.append(l)\n",
    "            step_list.append(step)\n",
    "            print(\"Minibatch loss at step %d: %f\" % (step, l))\n",
    "            print(\"Minibatch accuracy: %.1f%%\" % accuracy(predictions, batch_labels))\n",
    "            valid_accuracy = accuracy(valid_prediction.eval(), valid_labels)\n",
    "            V_accur_list.append(valid_accuracy)\n",
    "            print(\"Validation accuracy: %.1f%%\" % valid_accuracy)\n",
    "    print(\"Test accuracy: %.1f%%\" % accuracy(test_prediction.eval(), test_labels))\n",
    "    lama = weights_01.eval()\n",
    "    lama2 = weights_12.eval()"
   ]
  },
  {
   "cell_type": "code",
   "execution_count": 15,
   "metadata": {
    "collapsed": false
   },
   "outputs": [
    {
     "data": {
      "image/png": "[encoded data removed]",
      "text/plain": [
       "<matplotlib.figure.Figure at 0x155564990>"
      ]
     },
     "metadata": {},
     "output_type": "display_data"
    }
   ],
   "source": [
    "fig, axes = plt.subplots(nrows = 1, ncols = 2, figsize = (15,5));\n",
    "axes[0].plot(step_list, cost_list);\n",
    "axes[0].set_title('Cost vs Steps');\n",
    "axes[0].set_xlabel('Steps', size = 12);\n",
    "axes[0].set_ylabel('Cost', size = 12);\n",
    "axes[1].plot(step_list, V_accur_list);\n",
    "axes[1].set_title('Validation Accuracy vs Steps');\n",
    "axes[1].set_xlabel('Steps', size = 12);\n",
    "axes[1].set_ylabel('Validation Accuracy', size = 12);"
   ]
  },
  {
   "cell_type": "code",
   "execution_count": null,
   "metadata": {
    "collapsed": true
   },
   "outputs": [],
   "source": []
  }
 ],
 "metadata": {
  "colab": {
   "default_view": {},
   "name": "2_fullyconnected.ipynb",
   "provenance": [],
   "version": "0.3.2",
   "views": {}
  },
  "kernelspec": {
   "display_name": "Python 2",
   "language": "python",
   "name": "python2"
  },
  "language_info": {
   "codemirror_mode": {
    "name": "ipython",
    "version": 2
   },
   "file_extension": ".py",
   "mimetype": "text/x-python",
   "name": "python",
   "nbconvert_exporter": "python",
   "pygments_lexer": "ipython2",
   "version": "2.7.12"
  }
 },
 "nbformat": 4,
 "nbformat_minor": 0
}
