{
 "cells": [
  {
   "cell_type": "code",
   "execution_count": 1,
   "metadata": {
    "collapsed": true
   },
   "outputs": [],
   "source": [
    "%matplotlib inline\n",
    "\n",
    "import pandas as pd\n",
    "import numpy as np\n",
    "import matplotlib.pyplot as plt\n",
    "\n",
    "# This is for custom colormap\n",
    "# https://matplotlib.org/tutorials/colors/colorbar_only.html\n",
    "import matplotlib as mpl\n",
    "\n",
    "from sklearn.model_selection import train_test_split\n",
    "from sklearn import tree\n",
    "from IPython.display import Image"
   ]
  },
  {
   "cell_type": "markdown",
   "metadata": {},
   "source": [
    "### Load Data"
   ]
  },
  {
   "cell_type": "code",
   "execution_count": 2,
   "metadata": {
    "collapsed": true
   },
   "outputs": [],
   "source": [
    "import pandas as pd\n",
    "from sklearn.datasets import load_iris\n",
    "data = load_iris()\n",
    "\n",
    "df = pd.DataFrame(data.data, columns=data.feature_names)\n",
    "df['target'] = data.target"
   ]
  },
  {
   "cell_type": "code",
   "execution_count": 3,
   "metadata": {
    "collapsed": false
   },
   "outputs": [
    {
     "data": {
      "text/html": [
       "<div>\n",
       "<style scoped>\n",
       "    .dataframe tbody tr th:only-of-type {\n",
       "        vertical-align: middle;\n",
       "    }\n",
       "\n",
       "    .dataframe tbody tr th {\n",
       "        vertical-align: top;\n",
       "    }\n",
       "\n",
       "    .dataframe thead th {\n",
       "        text-align: right;\n",
       "    }\n",
       "</style>\n",
       "<table border=\"1\" class=\"dataframe\">\n",
       "  <thead>\n",
       "    <tr style=\"text-align: right;\">\n",
       "      <th></th>\n",
       "      <th>sepal length (cm)</th>\n",
       "      <th>sepal width (cm)</th>\n",
       "      <th>petal length (cm)</th>\n",
       "      <th>petal width (cm)</th>\n",
       "      <th>target</th>\n",
       "    </tr>\n",
       "  </thead>\n",
       "  <tbody>\n",
       "    <tr>\n",
       "      <th>0</th>\n",
       "      <td>5.1</td>\n",
       "      <td>3.5</td>\n",
       "      <td>1.4</td>\n",
       "      <td>0.2</td>\n",
       "      <td>0</td>\n",
       "    </tr>\n",
       "    <tr>\n",
       "      <th>1</th>\n",
       "      <td>4.9</td>\n",
       "      <td>3.0</td>\n",
       "      <td>1.4</td>\n",
       "      <td>0.2</td>\n",
       "      <td>0</td>\n",
       "    </tr>\n",
       "  </tbody>\n",
       "</table>\n",
       "</div>"
      ],
      "text/plain": [
       "   sepal length (cm)  sepal width (cm)  petal length (cm)  petal width (cm)  \\\n",
       "0                5.1               3.5                1.4               0.2   \n",
       "1                4.9               3.0                1.4               0.2   \n",
       "\n",
       "   target  \n",
       "0       0  \n",
       "1       0  "
      ]
     },
     "execution_count": 3,
     "metadata": {},
     "output_type": "execute_result"
    }
   ],
   "source": [
    "df.head(2)"
   ]
  },
  {
   "cell_type": "markdown",
   "metadata": {},
   "source": [
    "### Split Data into Training and Test Sets"
   ]
  },
  {
   "cell_type": "code",
   "execution_count": 4,
   "metadata": {
    "collapsed": true
   },
   "outputs": [],
   "source": [
    "# test_size: what proportion of original data is used for test set\n",
    "X_train, X_test, y_train, y_test = train_test_split(df[data.feature_names],df['target'],random_state=0)"
   ]
  },
  {
   "cell_type": "markdown",
   "metadata": {},
   "source": [
    "One of the benefits of Decision Trees is that you don't have to standardize your data unlike PCA and logistic regression which are [sensitive to effects of not standardizing your data](http://scikit-learn.org/stable/auto_examples/preprocessing/plot_scaling_importance.html#sphx-glr-auto-examples-preprocessing-plot-scaling-importance-py)."
   ]
  },
  {
   "cell_type": "markdown",
   "metadata": {},
   "source": [
    "## Classification Tree"
   ]
  },
  {
   "cell_type": "markdown",
   "metadata": {},
   "source": [
    "<b>Step 1</b>: Import the model you want to use"
   ]
  },
  {
   "cell_type": "code",
   "execution_count": 5,
   "metadata": {
    "collapsed": true
   },
   "outputs": [],
   "source": [
    "from sklearn.tree import DecisionTreeClassifier"
   ]
  },
  {
   "cell_type": "markdown",
   "metadata": {},
   "source": [
    "<b>Step 2</b>: Make an instance of the Model"
   ]
  },
  {
   "cell_type": "code",
   "execution_count": 6,
   "metadata": {
    "collapsed": true
   },
   "outputs": [],
   "source": [
    "clf = DecisionTreeClassifier(max_depth=2)"
   ]
  },
  {
   "cell_type": "markdown",
   "metadata": {},
   "source": [
    "<b>Step 3</b>: Training the model on the data, storing the information learned from the data"
   ]
  },
  {
   "cell_type": "markdown",
   "metadata": {},
   "source": [
    "Model is learning the relationship between x (features sepal width, sepal height etc) and y (labels-which species of iris)"
   ]
  },
  {
   "cell_type": "code",
   "execution_count": 7,
   "metadata": {
    "collapsed": false
   },
   "outputs": [
    {
     "data": {
      "text/plain": [
       "DecisionTreeClassifier(class_weight=None, criterion='gini', max_depth=2,\n",
       "            max_features=None, max_leaf_nodes=None,\n",
       "            min_impurity_decrease=0.0, min_impurity_split=None,\n",
       "            min_samples_leaf=1, min_samples_split=2,\n",
       "            min_weight_fraction_leaf=0.0, presort=False, random_state=None,\n",
       "            splitter='best')"
      ]
     },
     "execution_count": 7,
     "metadata": {},
     "output_type": "execute_result"
    }
   ],
   "source": [
    "clf.fit(X_train, y_train )"
   ]
  },
  {
   "cell_type": "markdown",
   "metadata": {},
   "source": [
    "<b>Step 4</b>: Predict the labels of new data (new images)"
   ]
  },
  {
   "cell_type": "markdown",
   "metadata": {},
   "source": [
    "To predict a class of a new instance given its feature measurements using the decision tree, start at the root of the decision tree and take the decision at the each level based on the appropriate feature measurement until you get to the leaf node. The prediction is just the majority class of the instances in that leaf node."
   ]
  },
  {
   "cell_type": "markdown",
   "metadata": {},
   "source": [
    "Uses the information the model learned during the model training process"
   ]
  },
  {
   "cell_type": "code",
   "execution_count": 8,
   "metadata": {
    "collapsed": false
   },
   "outputs": [
    {
     "data": {
      "text/plain": [
       "array([2])"
      ]
     },
     "execution_count": 8,
     "metadata": {},
     "output_type": "execute_result"
    }
   ],
   "source": [
    "# Predict for 1 observation \n",
    "clf.predict(X_test.iloc[0].values.reshape(1, -1))"
   ]
  },
  {
   "cell_type": "markdown",
   "metadata": {},
   "source": [
    "Predict for Multiple Observations (images) at Once"
   ]
  },
  {
   "cell_type": "code",
   "execution_count": 9,
   "metadata": {
    "collapsed": false
   },
   "outputs": [
    {
     "data": {
      "text/plain": [
       "array([2, 1, 0, 2, 0, 2, 0, 1, 1, 1])"
      ]
     },
     "execution_count": 9,
     "metadata": {},
     "output_type": "execute_result"
    }
   ],
   "source": [
    "clf.predict(X_test[0:10])"
   ]
  },
  {
   "cell_type": "markdown",
   "metadata": {},
   "source": [
    "### Visualize Decision Tree"
   ]
  },
  {
   "cell_type": "markdown",
   "metadata": {},
   "source": [
    "You can create a dot file easily with .export_graphviz. Converting it to png can be a hassle without [homebrew](https://hackernoon.com/how-to-install-and-use-homebrew-80eeb55f73e9) or conda. If you don't want to install graphviz, you can use an [online converter](http://webgraphviz.com). "
   ]
  },
  {
   "cell_type": "code",
   "execution_count": 10,
   "metadata": {
    "collapsed": true
   },
   "outputs": [],
   "source": [
    "tree.export_graphviz(clf,\n",
    "                     out_file=\"dotfiles/iris_depth2_decisionTree.dot\",\n",
    "                     feature_names=data.feature_names,\n",
    "                     class_names=data.target_names, \n",
    "                     filled = False)"
   ]
  },
  {
   "cell_type": "code",
   "execution_count": 11,
   "metadata": {
    "collapsed": false
   },
   "outputs": [],
   "source": [
    "!dot -Tpng dotfiles/iris_depth2_decisionTree.dot -o dotfiles/iris_depth2_decisionTree.png"
   ]
  },
  {
   "cell_type": "code",
   "execution_count": 12,
   "metadata": {
    "collapsed": false
   },
   "outputs": [
    {
     "data": {
      "image/png": "[encoded data removed]",
      "text/plain": [
       "<IPython.core.display.Image object>"
      ]
     },
     "execution_count": 12,
     "metadata": {},
     "output_type": "execute_result"
    }
   ],
   "source": [
    "PATH = !pwd\n",
    "Image(filename =  PATH[0] + \"/dotfiles/iris_depth2_decisionTree.png\")"
   ]
  },
  {
   "cell_type": "markdown",
   "metadata": {},
   "source": [
    "For the purpose of making something pretty for a blog, I decided to edit dot file using nano. The final product is below. "
   ]
  },
  {
   "cell_type": "code",
   "execution_count": 13,
   "metadata": {
    "collapsed": false
   },
   "outputs": [
    {
     "data": {
      "image/png": "[encoded data removed]",
      "text/plain": [
       "<IPython.core.display.Image object>"
      ]
     },
     "execution_count": 13,
     "metadata": {},
     "output_type": "execute_result"
    }
   ],
   "source": [
    "PATH = !pwd\n",
    "Image(filename =  PATH[0] + \"/dotfiles/iris_depth2_decisionTreeQuestion.png\")"
   ]
  },
  {
   "cell_type": "markdown",
   "metadata": {
    "collapsed": true
   },
   "source": [
    "## Misclassification"
   ]
  },
  {
   "cell_type": "code",
   "execution_count": 14,
   "metadata": {
    "collapsed": false
   },
   "outputs": [
    {
     "data": {
      "text/html": [
       "<div>\n",
       "<style scoped>\n",
       "    .dataframe tbody tr th:only-of-type {\n",
       "        vertical-align: middle;\n",
       "    }\n",
       "\n",
       "    .dataframe tbody tr th {\n",
       "        vertical-align: top;\n",
       "    }\n",
       "\n",
       "    .dataframe thead th {\n",
       "        text-align: right;\n",
       "    }\n",
       "</style>\n",
       "<table border=\"1\" class=\"dataframe\">\n",
       "  <thead>\n",
       "    <tr style=\"text-align: right;\">\n",
       "      <th></th>\n",
       "      <th>sepal length (cm)</th>\n",
       "      <th>sepal width (cm)</th>\n",
       "      <th>petal length (cm)</th>\n",
       "      <th>petal width (cm)</th>\n",
       "    </tr>\n",
       "  </thead>\n",
       "  <tbody>\n",
       "    <tr>\n",
       "      <th>61</th>\n",
       "      <td>5.9</td>\n",
       "      <td>3.0</td>\n",
       "      <td>4.2</td>\n",
       "      <td>1.5</td>\n",
       "    </tr>\n",
       "  </tbody>\n",
       "</table>\n",
       "</div>"
      ],
      "text/plain": [
       "    sepal length (cm)  sepal width (cm)  petal length (cm)  petal width (cm)\n",
       "61                5.9               3.0                4.2               1.5"
      ]
     },
     "execution_count": 14,
     "metadata": {},
     "output_type": "execute_result"
    }
   ],
   "source": [
    "X_train.head(1)"
   ]
  },
  {
   "cell_type": "code",
   "execution_count": 15,
   "metadata": {
    "collapsed": false
   },
   "outputs": [],
   "source": [
    "trainData = pd.concat([X_train, pd.DataFrame(y_train)], axis = 1)"
   ]
  },
  {
   "cell_type": "code",
   "execution_count": 16,
   "metadata": {
    "collapsed": true
   },
   "outputs": [],
   "source": [
    "trainData['Nothing'] = 0"
   ]
  },
  {
   "cell_type": "code",
   "execution_count": 17,
   "metadata": {
    "collapsed": false
   },
   "outputs": [
    {
     "data": {
      "text/html": [
       "<div>\n",
       "<style scoped>\n",
       "    .dataframe tbody tr th:only-of-type {\n",
       "        vertical-align: middle;\n",
       "    }\n",
       "\n",
       "    .dataframe tbody tr th {\n",
       "        vertical-align: top;\n",
       "    }\n",
       "\n",
       "    .dataframe thead th {\n",
       "        text-align: right;\n",
       "    }\n",
       "</style>\n",
       "<table border=\"1\" class=\"dataframe\">\n",
       "  <thead>\n",
       "    <tr style=\"text-align: right;\">\n",
       "      <th></th>\n",
       "      <th>sepal length (cm)</th>\n",
       "      <th>sepal width (cm)</th>\n",
       "      <th>petal length (cm)</th>\n",
       "      <th>petal width (cm)</th>\n",
       "      <th>target</th>\n",
       "      <th>Nothing</th>\n",
       "    </tr>\n",
       "  </thead>\n",
       "  <tbody>\n",
       "    <tr>\n",
       "      <th>61</th>\n",
       "      <td>5.9</td>\n",
       "      <td>3.0</td>\n",
       "      <td>4.2</td>\n",
       "      <td>1.5</td>\n",
       "      <td>1</td>\n",
       "      <td>0</td>\n",
       "    </tr>\n",
       "  </tbody>\n",
       "</table>\n",
       "</div>"
      ],
      "text/plain": [
       "    sepal length (cm)  sepal width (cm)  petal length (cm)  petal width (cm)  \\\n",
       "61                5.9               3.0                4.2               1.5   \n",
       "\n",
       "    target  Nothing  \n",
       "61       1        0  "
      ]
     },
     "execution_count": 17,
     "metadata": {},
     "output_type": "execute_result"
    }
   ],
   "source": [
    "trainData.head(1)"
   ]
  },
  {
   "cell_type": "markdown",
   "metadata": {},
   "source": [
    "### petal width (cm) <= 0.8"
   ]
  },
  {
   "cell_type": "code",
   "execution_count": 18,
   "metadata": {
    "collapsed": true
   },
   "outputs": [],
   "source": [
    "decisionNode1 = trainData.copy()"
   ]
  },
  {
   "cell_type": "code",
   "execution_count": 19,
   "metadata": {
    "collapsed": false
   },
   "outputs": [],
   "source": [
    "indicesToKeep = (decisionNode1['target'] == 1)\n",
    "\n",
    "decisionNode1.loc[indicesToKeep, 'target'] = 2"
   ]
  },
  {
   "cell_type": "code",
   "execution_count": 20,
   "metadata": {
    "collapsed": false
   },
   "outputs": [
    {
     "data": {
      "text/plain": [
       "2    75\n",
       "0    37\n",
       "Name: target, dtype: int64"
      ]
     },
     "execution_count": 20,
     "metadata": {},
     "output_type": "execute_result"
    }
   ],
   "source": [
    "decisionNode1.target.value_counts(dropna = True)"
   ]
  },
  {
   "cell_type": "code",
   "execution_count": 27,
   "metadata": {
    "collapsed": false
   },
   "outputs": [
    {
     "data": {
      "text/plain": [
       "<matplotlib.legend.Legend at 0x1a0e039c90>"
      ]
     },
     "execution_count": 27,
     "metadata": {},
     "output_type": "execute_result"
    },
    {
     "data": {
      "image/png": "[encoded data removed]",
      "text/plain": [
       "<matplotlib.figure.Figure at 0x1a0e039890>"
      ]
     },
     "metadata": {},
     "output_type": "display_data"
    }
   ],
   "source": [
    "fig = plt.figure(figsize = (8,3))\n",
    "\n",
    "ax = fig.add_subplot(1,1,1) \n",
    "ax.set_xlabel('')\n",
    "# targets = ['Iris-setosa', 'Iris-versicolor', 'Iris-virginica']\n",
    "# colors = ['r', 'cyan', 'cyan']\n",
    "ax.set_ylim(-0.01,0.01)\n",
    "\n",
    "for index, target, color in zip([0, 2], ['Iris-setosa','Iris-virginica'], ['r', 'cyan']):\n",
    "    indicesToKeep = trainData['target'] == index\n",
    "    \n",
    "    if index == 1: \n",
    "        z_order = 10\n",
    "    if index == 2:\n",
    "        z_order = 20\n",
    "    if index == 0:\n",
    "        z_order = 1\n",
    "\n",
    "    ax.scatter(trainData.loc[indicesToKeep, 'petal length (cm)']\n",
    "               , trainData.loc[indicesToKeep, 'Nothing']\n",
    "               , c = color\n",
    "               , s = 120\n",
    "               , zorder = z_order\n",
    "               , edgecolors = 'k'\n",
    "               , linewidth = 1.5)\n",
    "    \n",
    "ax.legend(['Iris-setosa', 'Iris-virginica'], markerscale = .95)    \n",
    "\n"
   ]
  },
  {
   "cell_type": "code",
   "execution_count": null,
   "metadata": {
    "collapsed": true
   },
   "outputs": [],
   "source": [
    "fig = plt.figure(figsize = (8,3))\n",
    "\n",
    "ax = fig.add_subplot(1,1,1) \n",
    "ax.set_xlabel('')\n",
    "targets = ['Iris-setosa', 'Iris-versicolor', 'Iris-virginica']\n",
    "colors = ['r', 'pink', 'cyan']\n",
    "ax.set_ylim(-0.01,0.01)\n",
    "for index,(target, color) in enumerate(zip(targets,colors)):\n",
    "    indicesToKeep = trainData['target'] == index\n",
    "    \n",
    "    if index == 1: \n",
    "        z_order = 10\n",
    "    if index == 2:\n",
    "        z_order = 20\n",
    "    if index == 0:\n",
    "        z_order = 1\n",
    "\n",
    "    ax.scatter(trainData.loc[:, 'petal length (cm)']\n",
    "               , trainData.loc[:, 'Nothing']\n",
    "               , c = color\n",
    "               , s = 120\n",
    "               , zorder = z_order\n",
    "               , edgecolors = 'k'\n",
    "               , linewidth = 1.5)\n",
    "\n",
    "#ax.legend(['Iris-versicolor', 'Iris-virginica'], markerscale = .95)    \n",
    "\n",
    "\n",
    "minimum = trainData.loc[:, 'petal length (cm)'].min() - .1  \n",
    "maximum = trainData.loc[:, 'petal length (cm)'].max() + .1 \n",
    "xlist = np.linspace(minimum, maximum, 100)\n",
    "\n",
    "# ylist could be anything in this case\n",
    "ylist = np.linspace(-3.0, 3.0, 100)\n",
    "xx, yy = np.meshgrid(xlist, ylist)\n",
    "\n",
    "# Making an array of the same shape as input \n",
    "# This is an array to mimic a decision boundary \n",
    "Z = xx.copy()\n",
    "\n",
    "# https://docs.scipy.org/doc/numpy/reference/generated/numpy.vectorize.html\n",
    "# my decision boundary \n",
    "def boundary(array):\n",
    "    if array <= 0.8:\n",
    "        return(0)\n",
    "    if array > 0.8:\n",
    "        return(2)\n",
    "    else:\n",
    "        return()\n",
    "\n",
    "vfunc = np.vectorize(boundary)\n",
    "Z = vfunc(Z)\n",
    "\n",
    "# Put the result into a color plot \n",
    "n_classes = 2 \n",
    "\n",
    "custom_map = mpl.colors.ListedColormap(['pink', 'cyan'])\n",
    "\n",
    "contours = plt.contourf(xx, yy, Z, alpha=0.3,\n",
    "                       cmap=custom_map,\n",
    "                       zorder=1)\n",
    "\n",
    "ax.axvline(x = 4.95, c = 'k')\n",
    "ax.set_yticks([])\n",
    "ax.set_yticklabels([])\n",
    "ax.set_xlabel('petal length (cm)', fontsize = 14)\n",
    "ax.set_title('Is the petal length (cm) <= 4.95', fontsize = 17)\n",
    "# plt.tight_layout()\n",
    "\n",
    "\n",
    "ax.annotate('Misclassified', xy=(4.515,-0.0005), xytext=(4.1,-0.006), fontsize = 13,\n",
    "            arrowprops={'arrowstyle': '->', 'color': 'black', 'lw': 2},\n",
    "            va='center');\n",
    "\n",
    "ax.annotate('', xy=(4.85,-0.0009), xytext=(4.5,-0.0048), fontsize = 13,\n",
    "            arrowprops={'arrowstyle': '->', 'color': 'black', 'lw': 2},\n",
    "            va='center');\n",
    "\n",
    "plt.gcf().subplots_adjust(bottom=0.20)\n",
    "plt.savefig('dotfiles/notperfectClass.png', dpi = 400)"
   ]
  },
  {
   "cell_type": "code",
   "execution_count": null,
   "metadata": {
    "collapsed": true
   },
   "outputs": [],
   "source": []
  },
  {
   "cell_type": "code",
   "execution_count": null,
   "metadata": {
    "collapsed": true
   },
   "outputs": [],
   "source": []
  },
  {
   "cell_type": "code",
   "execution_count": null,
   "metadata": {
    "collapsed": true
   },
   "outputs": [],
   "source": []
  },
  {
   "cell_type": "code",
   "execution_count": null,
   "metadata": {
    "collapsed": true
   },
   "outputs": [],
   "source": []
  },
  {
   "cell_type": "code",
   "execution_count": null,
   "metadata": {
    "collapsed": true
   },
   "outputs": [],
   "source": []
  },
  {
   "cell_type": "markdown",
   "metadata": {},
   "source": [
    "### petal length (cm) <= 4.95"
   ]
  },
  {
   "cell_type": "code",
   "execution_count": 18,
   "metadata": {
    "collapsed": true
   },
   "outputs": [],
   "source": [
    "def visualize_tree(estimator, X, y, boundaries=True,\n",
    "                   xlim=None, ylim=None, ax=None):\n",
    "    ax = ax or plt.gca()\n",
    "    \n",
    "    # Plot the training points\n",
    "    ax.scatter(X[:, 0], X[:, 1], c=y, s=30, cmap='viridis',\n",
    "               clim=(y.min(), y.max()), zorder=3)\n",
    "    ax.axis('tight')\n",
    "    ax.axis('off')\n",
    "    if xlim is None:\n",
    "        xlim = ax.get_xlim()\n",
    "    if ylim is None:\n",
    "        ylim = ax.get_ylim()\n",
    "    \n",
    "    # fit the estimator\n",
    "    estimator.fit(X, y)\n",
    "    xx, yy = np.meshgrid(np.linspace(*xlim, num=200),\n",
    "                         np.linspace(*ylim, num=200))\n",
    "    Z = estimator.predict(np.c_[xx.ravel(), yy.ravel()])\n",
    "\n",
    "    # Put the result into a color plot\n",
    "    n_classes = len(np.unique(y))\n",
    "    Z = Z.reshape(xx.shape)\n",
    "    contours = ax.contourf(xx, yy, Z, alpha=0.3,\n",
    "                           levels=np.arange(n_classes + 1) - 0.5,\n",
    "                           cmap='viridis', clim=(y.min(), y.max()),\n",
    "                           zorder=1)\n",
    "\n",
    "    ax.set(xlim=xlim, ylim=ylim)"
   ]
  },
  {
   "cell_type": "code",
   "execution_count": 19,
   "metadata": {
    "collapsed": false
   },
   "outputs": [],
   "source": [
    "indicesToKeep = (trainData['target'] == 1) | (trainData['target'] == 2)\n",
    "\n",
    "minimum = trainData.loc[indicesToKeep, 'petal length (cm)'].min() - .1  \n",
    "maximum = trainData.loc[indicesToKeep, 'petal length (cm)'].max() + .1 \n",
    "xlist = np.linspace(minimum, maximum, 100)\n",
    "\n",
    "# ylist could be anything in this case\n",
    "ylist = np.linspace(-3.0, 3.0, 100)\n",
    "xx, yy = np.meshgrid(xlist, ylist)"
   ]
  },
  {
   "cell_type": "code",
   "execution_count": 20,
   "metadata": {
    "collapsed": false
   },
   "outputs": [],
   "source": [
    "newData = trainData[(trainData['target'] == 1) | (trainData['target'] == 2)]"
   ]
  },
  {
   "cell_type": "code",
   "execution_count": 21,
   "metadata": {
    "collapsed": false
   },
   "outputs": [
    {
     "data": {
      "image/png": "[encoded data removed]",
      "text/plain": [
       "<matplotlib.figure.Figure at 0x1a0d442710>"
      ]
     },
     "metadata": {},
     "output_type": "display_data"
    }
   ],
   "source": [
    "fig = plt.figure(figsize = (8,3))\n",
    "\n",
    "ax = fig.add_subplot(1,1,1) \n",
    "ax.set_xlabel('')\n",
    "targets = ['Iris-setosa', 'Iris-versicolor', 'Iris-virginica']\n",
    "colors = ['r', 'pink', 'cyan']\n",
    "ax.set_ylim(-0.01,0.01)\n",
    "for index,(target, color) in enumerate(zip(targets,colors)):\n",
    "    indicesToKeep = trainData['target'] == index\n",
    "    \n",
    "    if index == 1: \n",
    "        z_order = 10\n",
    "    if index == 2:\n",
    "        z_order = 20\n",
    "    if index == 0:\n",
    "        z_order = 10\n",
    "        continue\n",
    "    ax.scatter(trainData.loc[indicesToKeep, 'petal length (cm)']\n",
    "               , trainData.loc[indicesToKeep, 'Nothing']\n",
    "               , c = color\n",
    "               , s = 120\n",
    "               , zorder = z_order\n",
    "               , edgecolors = 'k'\n",
    "               , linewidth = 1.5)\n",
    "\n",
    "ax.legend(['Iris-versicolor', 'Iris-virginica'], markerscale = .95)    \n",
    "\n",
    "indicesToKeep = (trainData['target'] == 1) | (trainData['target'] == 2)\n",
    "\n",
    "minimum = trainData.loc[indicesToKeep, 'petal length (cm)'].min() - .1  \n",
    "maximum = trainData.loc[indicesToKeep, 'petal length (cm)'].max() + .1 \n",
    "xlist = np.linspace(minimum, maximum, 100)\n",
    "\n",
    "# ylist could be anything in this case\n",
    "ylist = np.linspace(-3.0, 3.0, 100)\n",
    "xx, yy = np.meshgrid(xlist, ylist)\n",
    "\n",
    "\n",
    "# Making an array of the same shape as input \n",
    "# This is an array to mimic a decision boundary \n",
    "Z = xx.copy()\n",
    "\n",
    "# https://docs.scipy.org/doc/numpy/reference/generated/numpy.vectorize.html\n",
    "# my decision boundary \n",
    "def boundary(array):\n",
    "    if array <= 4.95:\n",
    "        return(1)\n",
    "    if array > 4.95:\n",
    "        return(2)\n",
    "    else:\n",
    "        return()\n",
    "\n",
    "vfunc = np.vectorize(boundary)\n",
    "Z = vfunc(Z)\n",
    "\n",
    "# Put the result into a color plot \n",
    "n_classes = 2 \n",
    "\n",
    "custom_map = mpl.colors.ListedColormap(['pink', 'cyan'])\n",
    "\n",
    "contours = plt.contourf(xx, yy, Z, alpha=0.3,\n",
    "                       cmap=custom_map,\n",
    "                       zorder=1)\n",
    "\n",
    "ax.axvline(x = 4.95, c = 'k')\n",
    "ax.set_yticks([])\n",
    "ax.set_yticklabels([])\n",
    "ax.set_xlabel('petal length (cm)', fontsize = 14)\n",
    "ax.set_title('Is the petal length (cm) <= 4.95', fontsize = 17)\n",
    "# plt.tight_layout()\n",
    "\n",
    "\n",
    "ax.annotate('Misclassified', xy=(4.515,-0.0005), xytext=(4.1,-0.006), fontsize = 13,\n",
    "            arrowprops={'arrowstyle': '->', 'color': 'black', 'lw': 2},\n",
    "            va='center');\n",
    "\n",
    "ax.annotate('', xy=(4.85,-0.0009), xytext=(4.5,-0.0048), fontsize = 13,\n",
    "            arrowprops={'arrowstyle': '->', 'color': 'black', 'lw': 2},\n",
    "            va='center');\n",
    "\n",
    "plt.gcf().subplots_adjust(bottom=0.20)\n",
    "plt.savefig('dotfiles/notperfectClass.png', dpi = 400)"
   ]
  },
  {
   "cell_type": "code",
   "execution_count": null,
   "metadata": {
    "collapsed": true
   },
   "outputs": [],
   "source": []
  },
  {
   "cell_type": "code",
   "execution_count": null,
   "metadata": {
    "collapsed": true
   },
   "outputs": [],
   "source": []
  },
  {
   "cell_type": "code",
   "execution_count": null,
   "metadata": {
    "collapsed": true
   },
   "outputs": [],
   "source": []
  },
  {
   "cell_type": "code",
   "execution_count": null,
   "metadata": {
    "collapsed": true
   },
   "outputs": [],
   "source": []
  },
  {
   "cell_type": "code",
   "execution_count": null,
   "metadata": {
    "collapsed": true
   },
   "outputs": [],
   "source": []
  },
  {
   "cell_type": "code",
   "execution_count": null,
   "metadata": {
    "collapsed": true
   },
   "outputs": [],
   "source": []
  }
 ],
 "metadata": {
  "anaconda-cloud": {},
  "kernelspec": {
   "display_name": "Python [conda root]",
   "language": "python",
   "name": "conda-root-py"
  },
  "language_info": {
   "codemirror_mode": {
    "name": "ipython",
    "version": 2
   },
   "file_extension": ".py",
   "mimetype": "text/x-python",
   "name": "python",
   "nbconvert_exporter": "python",
   "pygments_lexer": "ipython2",
   "version": "2.7.12"
  }
 },
 "nbformat": 4,
 "nbformat_minor": 1
}
