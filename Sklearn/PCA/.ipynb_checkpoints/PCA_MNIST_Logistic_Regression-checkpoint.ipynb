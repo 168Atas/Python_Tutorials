{
 "cells": [
  {
   "cell_type": "markdown",
   "metadata": {},
   "source": [
    "<h1 align=\"center\"> PCA + Logistic Regression (MNIST) </h1>"
   ]
  },
  {
   "cell_type": "markdown",
   "metadata": {},
   "source": [
    "## To Do\n",
    "1. Make function to plot x principal components\n",
    "2. Explained Variance curve near plot of 5 images with x principal components\n",
    "3. PCA with machine learning (logisitic regression)"
   ]
  },
  {
   "cell_type": "markdown",
   "metadata": {},
   "source": [
    "The MNIST database of handwritten digits, available from this page, has a training set of 60,000 examples, and a test set of 10,000 examples. It is a subset of a larger set available from NIST. The digits have been size-normalized and centered in a fixed-size image.\n",
    "<br>\n",
    "It is a good database for people who want to try learning techniques and pattern recognition methods on real-world data while spending minimal efforts on preprocessing and formatting. "
   ]
  },
  {
   "cell_type": "markdown",
   "metadata": {},
   "source": [
    "The MNIST database of handwritten digits is available on the following website: [MNIST Dataset](http://yann.lecun.com/exdb/mnist/)"
   ]
  },
  {
   "cell_type": "markdown",
   "metadata": {},
   "source": [
    "Four Files are available on this site:"
   ]
  },
  {
   "cell_type": "markdown",
   "metadata": {},
   "source": [
    "[train-images-idx3-ubyte.gz:  training set images (9912422 bytes)](http://yann.lecun.com/exdb/mnist/train-images-idx3-ubyte.gz) \n",
    "<br>\n",
    "[train-labels-idx1-ubyte.gz:  training set labels (28881 bytes)](http://yann.lecun.com/exdb/mnist/train-labels-idx1-ubyte.gz)\n",
    "<br>\n",
    "[t10k-images-idx3-ubyte.gz:   test set images (1648877 bytes)](http://yann.lecun.com/exdb/mnist/t10k-images-idx3-ubyte.gz) \n",
    "<br>\n",
    "[t10k-labels-idx1-ubyte.gz:   test set labels (4542 bytes)](http://yann.lecun.com/exdb/mnist/t10k-labels-idx1-ubyte.gz)"
   ]
  },
  {
   "cell_type": "markdown",
   "metadata": {},
   "source": [
    "Include Table here of dimensionality"
   ]
  },
  {
   "cell_type": "code",
   "execution_count": 2,
   "metadata": {
    "collapsed": true
   },
   "outputs": [],
   "source": [
    "import pandas as pd\n",
    "import numpy as np \n",
    "# Suppress scientific notation\n",
    "np.set_printoptions(suppress=True)\n",
    "import matplotlib.pyplot as plt\n",
    "from sklearn.decomposition import PCA\n",
    "from sklearn.preprocessing import StandardScaler\n",
    "\n",
    "# Used for Loading MNIST\n",
    "from struct import unpack\n",
    "\n",
    "%matplotlib inline"
   ]
  },
  {
   "cell_type": "markdown",
   "metadata": {},
   "source": [
    "You can download the data via command line (you can see this on the youtube video) or you can get them from the website or my github. "
   ]
  },
  {
   "cell_type": "markdown",
   "metadata": {},
   "source": [
    "## Downloading MNIST Dataset"
   ]
  },
  {
   "cell_type": "markdown",
   "metadata": {},
   "source": [
    "<b>If you cant unzip the file, you can try gzip or download it from [my github](https://github.com/mGalarnyk/Python_Tutorials/tree/master/Sklearn/Logistic_Regression/data)</b>"
   ]
  },
  {
   "cell_type": "code",
   "execution_count": 3,
   "metadata": {
    "collapsed": true
   },
   "outputs": [],
   "source": [
    "# decompress gzipped file\n",
    "# !info gzip\n",
    "# !gzip -d data/*.gz"
   ]
  },
  {
   "cell_type": "markdown",
   "metadata": {},
   "source": [
    "## Loading MNIST Dataset"
   ]
  },
  {
   "cell_type": "code",
   "execution_count": 4,
   "metadata": {
    "collapsed": true
   },
   "outputs": [],
   "source": [
    "def loadmnist(imagefile, labelfile):\n",
    "\n",
    "    # Open the images with gzip in read binary mode\n",
    "    images = open(imagefile, 'rb')\n",
    "    labels = open(labelfile, 'rb')\n",
    "\n",
    "    # Get metadata for images\n",
    "    images.read(4)  # skip the magic_number\n",
    "    number_of_images = images.read(4)\n",
    "    number_of_images = unpack('>I', number_of_images)[0]\n",
    "    rows = images.read(4)\n",
    "    rows = unpack('>I', rows)[0]\n",
    "    cols = images.read(4)\n",
    "    cols = unpack('>I', cols)[0]\n",
    "\n",
    "    # Get metadata for labels\n",
    "    labels.read(4)\n",
    "    N = labels.read(4)\n",
    "    N = unpack('>I', N)[0]\n",
    "\n",
    "    # Get data\n",
    "    x = np.zeros((N, rows*cols), dtype=np.uint8)  # Initialize numpy array\n",
    "    y = np.zeros(N, dtype=np.uint8)  # Initialize numpy array\n",
    "    for i in range(N):\n",
    "        for j in range(rows*cols):\n",
    "            tmp_pixel = images.read(1)  # Just a single byte\n",
    "            tmp_pixel = unpack('>B', tmp_pixel)[0]\n",
    "            x[i][j] = tmp_pixel\n",
    "        tmp_label = labels.read(1)\n",
    "        y[i] = unpack('>B', tmp_label)[0]\n",
    "\n",
    "    images.close()\n",
    "    labels.close()\n",
    "    return (x, y)"
   ]
  },
  {
   "cell_type": "code",
   "execution_count": 5,
   "metadata": {
    "collapsed": true
   },
   "outputs": [],
   "source": [
    "train_img, train_lbl = loadmnist('data/train-images-idx3-ubyte'\n",
    "                                 , 'data/train-labels-idx1-ubyte')\n",
    "test_img, test_lbl = loadmnist('data/t10k-images-idx3-ubyte'\n",
    "                               , 'data/t10k-labels-idx1-ubyte')"
   ]
  },
  {
   "cell_type": "code",
   "execution_count": 6,
   "metadata": {},
   "outputs": [
    {
     "name": "stdout",
     "output_type": "stream",
     "text": [
      "(60000, 784)\n"
     ]
    }
   ],
   "source": [
    "print(train_img.shape)"
   ]
  },
  {
   "cell_type": "code",
   "execution_count": 7,
   "metadata": {},
   "outputs": [
    {
     "name": "stdout",
     "output_type": "stream",
     "text": [
      "(60000,)\n"
     ]
    }
   ],
   "source": [
    "print(train_lbl.shape)"
   ]
  },
  {
   "cell_type": "code",
   "execution_count": 8,
   "metadata": {},
   "outputs": [
    {
     "name": "stdout",
     "output_type": "stream",
     "text": [
      "(10000, 784)\n"
     ]
    }
   ],
   "source": [
    "print(test_img.shape)"
   ]
  },
  {
   "cell_type": "code",
   "execution_count": 9,
   "metadata": {},
   "outputs": [
    {
     "name": "stdout",
     "output_type": "stream",
     "text": [
      "(10000,)\n"
     ]
    }
   ],
   "source": [
    "print(test_lbl.shape)"
   ]
  },
  {
   "cell_type": "markdown",
   "metadata": {},
   "source": [
    "## Showing Training Digits and Labels"
   ]
  },
  {
   "cell_type": "code",
   "execution_count": 10,
   "metadata": {},
   "outputs": [
    {
     "data": {
      "image/png": "[encoded data removed]",
      "text/plain": [
       "<matplotlib.figure.Figure at 0x115eb5350>"
      ]
     },
     "metadata": {},
     "output_type": "display_data"
    }
   ],
   "source": [
    "plt.figure(figsize=(20,4))\n",
    "for index, (image, label) in enumerate(zip(train_img[0:5], train_lbl[0:5])):\n",
    "    plt.subplot(1, 5, index + 1)\n",
    "    plt.imshow(np.reshape(image, (28,28)), cmap=plt.cm.gray)\n",
    "    plt.title('Training: %i\\n' % label, fontsize = 20)"
   ]
  },
  {
   "cell_type": "code",
   "execution_count": 11,
   "metadata": {},
   "outputs": [
    {
     "name": "stdout",
     "output_type": "stream",
     "text": [
      "[  0   0   0   0   0   0   0   0   0   0   0   0   0   0   0   0   0   0\n",
      "   0   0   0   0   0   0   0   0   0   0   0   0   0   0   0   0   0   0\n",
      "   0   0   0   0   0   0   0   0   0   0   0   0   0   0   0   0   0   0\n",
      "   0   0   0   0   0   0   0   0   0   0   0   0   0   0   0   0   0   0\n",
      "   0   0   0   0   0   0   0   0   0   0   0   0   0   0   0   0   0   0\n",
      "   0   0   0   0   0   0   0   0   0   0   0   0   0   0   0   0   0   0\n",
      "   0   0   0   0   0   0   0   0   0   0   0   0   0   0   0   0   0   0\n",
      "   0   0   0   0   0   0   0   0   0   0   0   0   0   0   0   0   0   0\n",
      "   0   0   0   0   0   0   0   0   3  18  18  18 126 136 175  26 166 255\n",
      " 247 127   0   0   0   0   0   0   0   0   0   0   0   0  30  36  94 154\n",
      " 170 253 253 253 253 253 225 172 253 242 195  64   0   0   0   0   0   0\n",
      "   0   0   0   0   0  49 238 253 253 253 253 253 253 253 253 251  93  82\n",
      "  82  56  39   0   0   0   0   0   0   0   0   0   0   0   0  18 219 253\n",
      " 253 253 253 253 198 182 247 241   0   0   0   0   0   0   0   0   0   0\n",
      "   0   0   0   0   0   0   0   0  80 156 107 253 253 205  11   0  43 154\n",
      "   0   0   0   0   0   0   0   0   0   0   0   0   0   0   0   0   0   0\n",
      "   0  14   1 154 253  90   0   0   0   0   0   0   0   0   0   0   0   0\n",
      "   0   0   0   0   0   0   0   0   0   0   0   0   0 139 253 190   2   0\n",
      "   0   0   0   0   0   0   0   0   0   0   0   0   0   0   0   0   0   0\n",
      "   0   0   0   0   0  11 190 253  70   0   0   0   0   0   0   0   0   0\n",
      "   0   0   0   0   0   0   0   0   0   0   0   0   0   0   0   0  35 241\n",
      " 225 160 108   1   0   0   0   0   0   0   0   0   0   0   0   0   0   0\n",
      "   0   0   0   0   0   0   0   0   0  81 240 253 253 119  25   0   0   0\n",
      "   0   0   0   0   0   0   0   0   0   0   0   0   0   0   0   0   0   0\n",
      "   0   0  45 186 253 253 150  27   0   0   0   0   0   0   0   0   0   0\n",
      "   0   0   0   0   0   0   0   0   0   0   0   0   0  16  93 252 253 187\n",
      "   0   0   0   0   0   0   0   0   0   0   0   0   0   0   0   0   0   0\n",
      "   0   0   0   0   0   0   0 249 253 249  64   0   0   0   0   0   0   0\n",
      "   0   0   0   0   0   0   0   0   0   0   0   0   0   0  46 130 183 253\n",
      " 253 207   2   0   0   0   0   0   0   0   0   0   0   0   0   0   0   0\n",
      "   0   0   0   0  39 148 229 253 253 253 250 182   0   0   0   0   0   0\n",
      "   0   0   0   0   0   0   0   0   0   0   0   0  24 114 221 253 253 253\n",
      " 253 201  78   0   0   0   0   0   0   0   0   0   0   0   0   0   0   0\n",
      "   0   0  23  66 213 253 253 253 253 198  81   2   0   0   0   0   0   0\n",
      "   0   0   0   0   0   0   0   0   0   0  18 171 219 253 253 253 253 195\n",
      "  80   9   0   0   0   0   0   0   0   0   0   0   0   0   0   0   0   0\n",
      "  55 172 226 253 253 253 253 244 133  11   0   0   0   0   0   0   0   0\n",
      "   0   0   0   0   0   0   0   0   0   0 136 253 253 253 212 135 132  16\n",
      "   0   0   0   0   0   0   0   0   0   0   0   0   0   0   0   0   0   0\n",
      "   0   0   0   0   0   0   0   0   0   0   0   0   0   0   0   0   0   0\n",
      "   0   0   0   0   0   0   0   0   0   0   0   0   0   0   0   0   0   0\n",
      "   0   0   0   0   0   0   0   0   0   0   0   0   0   0   0   0   0   0\n",
      "   0   0   0   0   0   0   0   0   0   0   0   0   0   0   0   0   0   0\n",
      "   0   0   0   0   0   0   0   0   0   0]\n"
     ]
    }
   ],
   "source": [
    "# This is how the computer sees the number 5\n",
    "print(train_img[0])"
   ]
  },
  {
   "cell_type": "markdown",
   "metadata": {},
   "source": [
    "## Find Number of Principal Components with 95% of Explained Variance"
   ]
  },
  {
   "cell_type": "markdown",
   "metadata": {},
   "source": [
    "Train PCA by requesting the projection preserve 95% of the variance. "
   ]
  },
  {
   "cell_type": "code",
   "execution_count": 12,
   "metadata": {},
   "outputs": [],
   "source": [
    "pca = PCA(.95)"
   ]
  },
  {
   "cell_type": "code",
   "execution_count": 15,
   "metadata": {},
   "outputs": [
    {
     "data": {
      "text/plain": [
       "PCA(copy=True, iterated_power='auto', n_components=0.95, random_state=None,\n",
       "  svd_solver='auto', tol=0.0, whiten=False)"
      ]
     },
     "execution_count": 15,
     "metadata": {},
     "output_type": "execute_result"
    }
   ],
   "source": [
    "pca.fit(train_img)"
   ]
  },
  {
   "cell_type": "code",
   "execution_count": 16,
   "metadata": {},
   "outputs": [
    {
     "data": {
      "text/plain": [
       "154"
      ]
     },
     "execution_count": 16,
     "metadata": {},
     "output_type": "execute_result"
    }
   ],
   "source": [
    "# 95% of the variance amounts to 154 principal components\n",
    "pca.n_components_"
   ]
  },
  {
   "cell_type": "code",
   "execution_count": 17,
   "metadata": {
    "collapsed": true
   },
   "outputs": [],
   "source": [
    "components = pca.transform(train_img)\n",
    "filtered = pca.inverse_transform(components)"
   ]
  },
  {
   "cell_type": "code",
   "execution_count": 20,
   "metadata": {},
   "outputs": [
    {
     "data": {
      "text/plain": [
       "array([   0.        ,    0.        ,    0.        ,    0.        ,\n",
       "         -0.        ,   -0.        ,    0.        ,   -0.        ,\n",
       "         -0.        ,    0.        ,   -0.        ,    0.        ,\n",
       "         -0.00187008,   -0.02444973,   -0.0226511 ,   -0.0009438 ,\n",
       "         -0.        ,    0.        ,   -0.        ,    0.        ,\n",
       "          0.        ,   -0.        ,   -0.        ,   -0.        ,\n",
       "         -0.        ,   -0.        ,    0.        ,   -0.        ,\n",
       "          0.        ,   -0.        ,    0.        ,   -0.        ,\n",
       "          0.00075206,    0.00293489,    0.09061723,    0.21590005,\n",
       "          0.27424232,    0.30680635,    0.51905231,    0.97353416,\n",
       "          1.07407577,    1.23265832,    0.8057943 ,    0.18828223,\n",
       "          0.34330333,    0.75862365,    0.77745695,    0.47644965,\n",
       "          0.22917455,   -0.14556318,   -0.09036462,    0.01436608,\n",
       "         -0.        ,   -0.        ,   -0.        ,    0.        ,\n",
       "         -0.        ,   -0.        ,   -0.0064555 ,   -0.00844203,\n",
       "          0.059531  ,    0.02458001,    0.14110166,    0.60009561,\n",
       "          0.78789339,    1.14109966,    1.6759035 ,    2.88853997,\n",
       "          4.41106218,    6.15698943,    4.04926017,    1.58266514,\n",
       "          8.56117276,   20.5526407 ,   21.84712809,   12.47548492,\n",
       "          2.39738637,   -0.02271416,    0.38001933,    0.6269139 ,\n",
       "          0.20102115,    0.00705042,    0.        ,   -0.        ,\n",
       "         -0.        ,   -0.        ,   -0.01406336,   -0.03926159,\n",
       "         -0.00397305,   -0.09861242,    0.04781418,    1.39236116,\n",
       "          2.52726029,    3.12306973,    4.56187781,    6.79582221,\n",
       "          7.58894693,    6.03838088,   -2.63932147,   -8.6912882 ,\n",
       "          4.32052654,   17.61432774,    8.74537865,   -5.10237203,\n",
       "         -5.42189547,    3.87567835,    7.67876517,    5.49416953,\n",
       "          2.66299624,    0.37983454,    0.05161538,    0.        ,\n",
       "         -0.        ,   -0.00381505,    0.00197542,   -0.01404619,\n",
       "         -0.17598512,   -0.94721082,   -0.50768065,    0.60947233,\n",
       "         -0.34212468,   -1.60082185,   -4.22791359,   -2.21985302,\n",
       "         14.63205304,   17.47682857,   -9.04040959,  -18.88824119,\n",
       "         10.13152351,   20.77364561,  -23.65351122,  -44.64969127,\n",
       "          5.80545584,   63.32096648,   66.71264425,   38.49734967,\n",
       "         15.03700015,    3.05439411,    0.32834689,   -0.00458626,\n",
       "          0.        ,    0.        ,    0.01868222,    0.08635894,\n",
       "         -0.97833193,   -3.15678531,   -3.71861881,   -0.8042782 ,\n",
       "         -1.54422571,   -6.15421385,  -18.61953252,  -21.13479172,\n",
       "          4.59207638,   25.60656602,   23.5411084 ,   34.80312542,\n",
       "        100.17704564,  166.80969447,  140.8443645 ,  100.13320323,\n",
       "        163.25868096,  222.78688578,  183.07107141,   97.32252532,\n",
       "         35.98582887,    7.90940257,    0.93539027,   -0.02554563,\n",
       "          0.        ,    0.00063524,   -0.06274309,   -0.09218083,\n",
       "         -1.49992424,   -2.38665189,   -1.24969218,   10.59858104,\n",
       "         44.6063035 ,   88.86737871,  108.14283448,  130.85876499,\n",
       "        190.03711532,  239.99972547,  261.45123874,  244.32566807,\n",
       "        247.50232215,  262.48153468,  215.14265665,  176.6623043 ,\n",
       "        227.18638582,  250.3049159 ,  184.40227441,   91.30251099,\n",
       "         25.77569885,    2.79039467,   -1.3775316 ,   -0.34931487,\n",
       "         -0.00982366,   -0.13692562,   -0.27722815,   -0.16976085,\n",
       "         -0.92049359,   -1.81901519,    5.18850871,   52.96265053,\n",
       "        159.88746805,  257.24291449,  267.8784018 ,  246.50080101,\n",
       "        248.94601581,  250.25705416,  253.4540757 ,  260.30272087,\n",
       "        273.64534813,  241.84455574,  112.60584557,   52.1164699 ,\n",
       "         96.25467556,   93.98810838,   56.49084643,   17.3469326 ,\n",
       "        -11.2443005 ,  -11.56916339,   -3.11331439,   -0.35423886,\n",
       "         -0.05707574,   -0.40678382,   -1.43169069,   -1.83466574,\n",
       "         -1.36861001,   -6.13507233,    0.77455253,   62.22447374,\n",
       "        190.40724728,  270.65291806,  250.35148162,  256.43460011,\n",
       "        279.32295069,  252.34596651,  190.62620016,  181.88277294,\n",
       "        234.48244222,  211.77559853,   48.93806293,  -23.07702278,\n",
       "         10.25548727,  -15.89172756,  -24.06638639,  -11.23144037,\n",
       "        -14.25235827,  -11.23160049,   -1.98924742,   -0.10710029,\n",
       "         -0.03576658,   -0.38866682,   -1.1938022 ,   -1.89443811,\n",
       "         -0.59780667,   -7.68622078,  -11.60816363,   26.46657294,\n",
       "        101.96465024,  123.65065817,  124.8713439 ,  211.96882631,\n",
       "        273.31436861,  177.39129782,   29.48420948,    5.50608776,\n",
       "         93.50447316,  110.78082409,    7.82207156,   -3.44207197,\n",
       "         19.34165673,   -9.05085279,   -3.74024696,   14.07858654,\n",
       "          5.68113998,   -1.43040824,   -0.11227857,   -0.06681897,\n",
       "         -0.03874882,   -0.10115283,    0.03780454,    1.12027364,\n",
       "          5.1599295 ,    0.84401222,  -15.52242922,  -10.36159702,\n",
       "         11.38224638,    3.3531924 ,   27.16268675,  160.97082735,\n",
       "        241.46595869,  128.28658151,  -21.14566617,  -47.23638285,\n",
       "         21.77312161,   27.76538177,   -9.28662365,    6.95830206,\n",
       "         11.52477975,    5.5949897 ,   14.25898433,   17.75825635,\n",
       "          6.23867011,   -0.19141911,    0.3133471 ,   -0.04833961,\n",
       "          0.02211957,    0.1088822 ,    1.20830407,    2.74208485,\n",
       "          9.15485911,    6.90124021,  -10.32309976,   -9.72205597,\n",
       "          2.62913789,  -13.48921816,    0.48469997,  129.10896755,\n",
       "        241.08094264,  186.40696401,   44.93046784,  -23.06884279,\n",
       "         -9.21260724,   -5.15602294,    0.64211153,   -9.16609883,\n",
       "        -13.91727623,   -0.78513898,    4.81692344,    4.71948065,\n",
       "          0.97845233,   -2.04603372,   -0.46267199,    0.02008942,\n",
       "          0.02945423,    0.08947397,    0.86129359,    2.20255721,\n",
       "          7.74602059,    6.32123705,   -5.01436583,    2.87281412,\n",
       "         12.53118561,    1.99579222,  -11.62272868,   48.78653856,\n",
       "        181.20894399,  211.38516193,  112.45906665,   13.74101784,\n",
       "         -6.28219276,   -0.88145834,   12.0343028 ,    5.22984545,\n",
       "         -1.90990269,   -0.55189881,   -4.29866115,   -5.54472296,\n",
       "         -3.63161121,   -1.94850019,   -0.68553655,   -0.00759211,\n",
       "         -0.00357195,    0.01066857,    0.25541991,    0.97504327,\n",
       "          4.92393494,    3.04674968,   -2.16964465,    5.20978105,\n",
       "         -5.98558865,    6.61549107,  -13.83349424,  -27.82810235,\n",
       "         83.95687683,  204.84291542,  211.64489369,  165.11459993,\n",
       "         97.72584393,   13.48337309,   -7.89583233,    4.71975213,\n",
       "         10.66938603,    5.25267576,   -6.84410588,  -11.6401511 ,\n",
       "         -7.55542249,   -1.86210972,   -0.5598091 ,    0.00292089,\n",
       "          0.00982063,    0.02229243,    0.10709963,    0.45059868,\n",
       "          3.35169447,   -1.77008834,   -0.21887485,    4.76418928,\n",
       "        -18.21880543,    7.14036998,   17.23618025,  -23.38302648,\n",
       "         10.70606876,  120.22584477,  205.94877469,  282.62382866,\n",
       "        251.21314319,  116.42353945,   20.55526218,  -10.27985177,\n",
       "         -5.33020943,    4.54739939,    0.60994656,   -7.44164857,\n",
       "         -6.879271  ,   -1.73194738,   -0.18097259,    0.0173537 ,\n",
       "          0.00350842,    0.05026625,    0.13502604,    0.64171137,\n",
       "          2.42176932,   -5.4917946 ,   -2.29010523,    8.85626634,\n",
       "         -7.40851533,   -2.36284892,   17.5252335 ,   -1.93153913,\n",
       "        -24.41568759,  -12.17732484,   57.37778021,  174.79368655,\n",
       "        253.30126881,  243.79913255,  161.39282645,   46.20210695,\n",
       "        -10.11561412,   -3.93884251,    8.22459293,    3.28872494,\n",
       "         -0.48902738,    0.15662155,    0.56127979,    0.02798409,\n",
       "          0.00167323,    0.05779056,    0.14218629,    0.33138691,\n",
       "          3.4682041 ,   -2.75120856,  -10.38598748,    6.03976093,\n",
       "          8.71604563,  -15.68099904,  -15.04998251,    9.72991318,\n",
       "         20.47920737,    0.94832402,   -1.20109964,    6.3887689 ,\n",
       "        107.32140687,  244.25182539,  268.61208639,  157.17824887,\n",
       "         28.40976427,   -8.33917937,    8.41576593,   13.78135166,\n",
       "          4.82667375,    1.79178312,    0.94912994,    0.06698148,\n",
       "          0.        ,   -0.06525052,   -0.19948256,   -1.61967182,\n",
       "          4.56233614,    9.52401126,  -12.04163012,  -10.51008052,\n",
       "         12.70075789,    6.78956063,   -9.58018515,   -2.84025443,\n",
       "         -3.27171652,   -1.34677361,    4.93363675,  -30.28018842,\n",
       "         53.89864465,  198.27436366,  281.20164616,  221.20785363,\n",
       "         61.10781411,  -15.85439685,   -1.530247  ,    8.70434382,\n",
       "          3.72357313,    1.39270471,    0.75251015,   -0.01018268,\n",
       "         -0.01235802,   -0.10126802,   -1.11137373,   -6.97150926,\n",
       "         -0.56909833,   20.9808495 ,    3.267069  ,  -12.30778953,\n",
       "         -0.07501382,    8.79020547,    7.19090869,   -7.64966046,\n",
       "        -30.47593472,   11.85057583,   78.99196119,  106.93773202,\n",
       "        175.14509507,  240.58065062,  277.9327039 ,  211.61321379,\n",
       "         50.25654775,  -18.3862765 ,   -6.3090585 ,    1.56729579,\n",
       "          0.24216649,    0.83215572,    0.88413649,   -0.03747937,\n",
       "          0.00296489,    0.01563263,   -2.77093428,  -15.85714026,\n",
       "        -15.94260331,    8.32815266,   10.02075173,    0.84492203,\n",
       "        -10.50003265,  -25.60109192,   -1.03835119,   28.46275602,\n",
       "         48.2809268 ,  128.68054364,  212.35370131,  256.10679746,\n",
       "        277.96549713,  268.59812318,  234.74833276,  130.10757943,\n",
       "         14.11454598,  -11.62244806,   -1.34460955,    0.18563013,\n",
       "         -0.93743492,    0.09019615,    0.4036644 ,   -0.06443305,\n",
       "          0.        ,    0.14826155,   -3.06276653,  -18.96463421,\n",
       "        -28.73749978,  -22.50944267,  -20.99859789,    0.10760511,\n",
       "          9.28619831,   -9.0756298 ,   31.30913765,  117.40038177,\n",
       "        195.49282976,  247.14413912,  271.72960319,  258.92425293,\n",
       "        228.4027994 ,  179.24972499,  102.33019554,   22.54978192,\n",
       "         -6.38813095,    3.64477573,    5.46094619,    0.3740642 ,\n",
       "         -1.89530815,   -0.83336832,    0.1421436 ,   -0.00387696,\n",
       "         -0.00184624,    0.07959299,   -0.82817128,   -7.16717669,\n",
       "        -10.82611614,   -9.90834905,  -18.82228001,    4.2671202 ,\n",
       "         60.26957267,  107.56336148,  157.34748326,  239.62980483,\n",
       "        282.02475764,  264.64424806,  243.45788121,  168.7105809 ,\n",
       "         90.00666234,   31.42044224,  -10.74843324,  -13.90241565,\n",
       "          2.49518775,    6.17738779,   -1.10611776,   -2.66865802,\n",
       "         -2.55311783,   -0.57198288,   -0.0007266 ,   -0.00676633,\n",
       "         -0.00178854,    0.01282982,    2.48139914,    9.67094256,\n",
       "         31.79058698,   69.21316838,   96.20756777,  118.57536039,\n",
       "        163.7551464 ,  227.60598054,  269.33203708,  288.22250756,\n",
       "        234.06141039,  156.77876756,  108.59243434,   34.71923519,\n",
       "        -15.44036426,  -18.48869357,   -7.8854267 ,    5.03244927,\n",
       "          1.65077856,   -4.13732905,   -5.09177891,   -2.84589581,\n",
       "         -1.74079418,   -0.00671684,   -0.01623574,   -0.01249168,\n",
       "          0.        ,    0.        ,    2.27316261,   12.45140345,\n",
       "         46.43732894,  113.85967506,  215.77109338,  289.6130568 ,\n",
       "        286.12501779,  253.5172602 ,  248.69196886,  230.53274052,\n",
       "        130.50783095,   23.75365776,   -7.08840206,  -13.81709538,\n",
       "         -4.58088125,   13.99042864,   12.24391821,    2.33207743,\n",
       "         -6.68195096,   -6.56567831,   -4.34030011,   -2.12376453,\n",
       "         -0.5932703 ,   -0.01296823,    0.04316361,    0.        ,\n",
       "          0.        ,    0.        ,    0.75158701,    5.92592462,\n",
       "         23.98610144,   65.55527259,  144.58048319,  222.68110127,\n",
       "        224.81791824,  145.60819933,   79.32947464,   55.54856826,\n",
       "         14.65469345,  -24.38619312,   -7.88024266,    9.55665515,\n",
       "          2.6911881 ,   -1.78996888,   -3.43525136,   -6.02640512,\n",
       "         -5.35385954,   -3.29245954,   -1.42227994,   -0.63414965,\n",
       "         -0.04537211,    0.13502087,    0.00400671,    0.        ,\n",
       "          0.        ,    0.        ,    0.02506496,    0.55751659,\n",
       "          3.95208906,   16.561385  ,   40.9144929 ,   56.16835744,\n",
       "         36.12967897,   -7.65991894,  -21.52703769,   -1.7890114 ,\n",
       "          1.00276045,   -3.92304382,    5.10297082,    8.63720922,\n",
       "         -6.25000554,  -12.89294786,   -9.69749469,   -5.09134521,\n",
       "         -1.5773874 ,    0.36096833,    0.14534421,    0.25994969,\n",
       "          0.19810889,    0.04173598,    0.00172215,    0.        ,\n",
       "          0.        ,    0.        ,    0.        ,    0.01659601,\n",
       "          0.91937613,    4.51157248,   11.41914335,   10.97592772,\n",
       "         -4.98301934,  -20.49739924,  -14.97454554,   -1.2897678 ,\n",
       "         -4.09526188,  -12.48420135,  -10.09359731,   -8.6553289 ,\n",
       "        -12.11342467,  -13.17380577,  -10.0666964 ,   -5.52151538,\n",
       "         -2.16391433,   -0.40778988,   -0.33389792,   -0.09108145,\n",
       "         -0.00540113,    0.0268259 ,    0.        ,    0.        ,\n",
       "          0.        ,    0.        ,    0.        ,    0.        ,\n",
       "          0.09084932,    0.44361684,    0.59378618,   -0.02061638,\n",
       "         -0.54089882,   -0.60773201,    0.15582404,    0.96822123,\n",
       "          0.13358589,   -1.03634233,   -1.00067954,   -1.05122794,\n",
       "         -0.87620534,   -0.71542947,   -0.59040918,   -0.18500123,\n",
       "         -0.04905199,   -0.0115753 ,   -0.10937502,   -0.03325723,\n",
       "          0.        ,    0.        ,    0.        ,    0.        ])"
      ]
     },
     "execution_count": 20,
     "metadata": {},
     "output_type": "execute_result"
    }
   ],
   "source": [
    "# Show to stress importance of clim\n",
    "filtered[0, :]"
   ]
  },
  {
   "cell_type": "code",
   "execution_count": 26,
   "metadata": {},
   "outputs": [
    {
     "data": {
      "text/plain": [
       "<matplotlib.image.AxesImage at 0x116b043d0>"
      ]
     },
     "execution_count": 26,
     "metadata": {},
     "output_type": "execute_result"
    },
    {
     "data": {
      "image/png": "[encoded data removed]",
      "text/plain": [
       "<matplotlib.figure.Figure at 0x116b5afd0>"
      ]
     },
     "metadata": {},
     "output_type": "display_data"
    }
   ],
   "source": [
    "k_list = [784, 200, 150, 100, 50, 25]\n",
    "plt.imshow(filtered[0].reshape(28, 28),\n",
    "                  cmap = plt.cm.gray, interpolation='nearest',\n",
    "                  clim=(0, 255))"
   ]
  },
  {
   "cell_type": "code",
   "execution_count": null,
   "metadata": {
    "collapsed": true
   },
   "outputs": [],
   "source": [
    "k_list = [784, 200, 150, 100, 50, 25]\n",
    "plt.figure(figsize=(20,4))\n",
    "for index, (image, label) in enumerate(zip(train_img[0:5], train_lbl[0:5])):\n",
    "    plt.subplot(1, 5, index + 1)\n",
    "    plt.imshow(np.reshape(image, (28,28)), cmap=plt.cm.gray)\n",
    "    plt.title('Training: %i\\n' % label, fontsize = 20)"
   ]
  },
  {
   "cell_type": "markdown",
   "metadata": {},
   "source": [
    "This gives us an object we can use to transform our data by calling transform."
   ]
  },
  {
   "cell_type": "code",
   "execution_count": 13,
   "metadata": {
    "collapsed": true
   },
   "outputs": [],
   "source": [
    "# pca.transform(train_img)"
   ]
  },
  {
   "cell_type": "code",
   "execution_count": 14,
   "metadata": {},
   "outputs": [
    {
     "data": {
      "text/plain": [
       "3428502.5747802043"
      ]
     },
     "execution_count": 14,
     "metadata": {},
     "output_type": "execute_result"
    }
   ],
   "source": [
    "tot = sum(pca.explained_variance_)\n",
    "tot"
   ]
  },
  {
   "cell_type": "code",
   "execution_count": 15,
   "metadata": {},
   "outputs": [
    {
     "name": "stdout",
     "output_type": "stream",
     "text": [
      "[9.7046643597139379, 7.0959240590944637, 6.1690887623681423, 5.389419486553364, 4.8687970234748263]\n"
     ]
    }
   ],
   "source": [
    "var_exp = [(i/tot)*100 for i in sorted(pca.explained_variance_, reverse=True)] \n",
    "print(var_exp[0:5])"
   ]
  },
  {
   "cell_type": "code",
   "execution_count": 20,
   "metadata": {
    "collapsed": true
   },
   "outputs": [],
   "source": [
    "# Cumulative explained variance\n",
    "cum_var_exp = np.cumsum(var_exp) "
   ]
  },
  {
   "cell_type": "code",
   "execution_count": 21,
   "metadata": {},
   "outputs": [
    {
     "data": {
      "text/plain": [
       "153"
      ]
     },
     "execution_count": 21,
     "metadata": {},
     "output_type": "execute_result"
    }
   ],
   "source": [
    "np.argmax(cum_var_exp > 95)"
   ]
  },
  {
   "cell_type": "code",
   "execution_count": 19,
   "metadata": {},
   "outputs": [
    {
     "data": {
      "image/png": "[encoded data removed]",
      "text/plain": [
       "<matplotlib.figure.Figure at 0x11939d450>"
      ]
     },
     "metadata": {},
     "output_type": "display_data"
    }
   ],
   "source": [
    "# PLOT OUT THE EXPLAINED VARIANCES SUPERIMPOSED \n",
    "plt.figure(figsize=(10, 5))\n",
    "plt.bar(range(0, 784), var_exp, alpha=0.3333, align='center', label='individual explained variance', color = 'g')\n",
    "plt.step(range(0, 784), cum_var_exp, where='mid',label='cumulative explained variance')\n",
    "plt.ylabel('Explained variance ratio')\n",
    "plt.xlabel('Principal components')\n",
    "plt.axhline(y = 95, color='k', linestyle='--', label = '95% Explained Variance')\n",
    "plt.legend(loc='best')\n",
    "plt.show()"
   ]
  },
  {
   "cell_type": "code",
   "execution_count": null,
   "metadata": {
    "collapsed": true
   },
   "outputs": [],
   "source": [
    "pca = PCA(n_components=153)"
   ]
  },
  {
   "cell_type": "code",
   "execution_count": null,
   "metadata": {
    "collapsed": true
   },
   "outputs": [],
   "source": [
    "pca.fit(train_img)"
   ]
  },
  {
   "cell_type": "code",
   "execution_count": null,
   "metadata": {
    "collapsed": true
   },
   "outputs": [],
   "source": [
    "pcStuff = pca.transform(train_img)"
   ]
  },
  {
   "cell_type": "code",
   "execution_count": null,
   "metadata": {
    "collapsed": true
   },
   "outputs": [],
   "source": [
    "pca.components_.shape"
   ]
  },
  {
   "cell_type": "code",
   "execution_count": null,
   "metadata": {
    "collapsed": true
   },
   "outputs": [],
   "source": [
    "https://stats.stackexchange.com/questions/229092/how-to-reverse-pca-and-reconstruct-original-variables-from-several-principal-com"
   ]
  },
  {
   "cell_type": "markdown",
   "metadata": {},
   "source": [
    "# Normalised [0,255] as integer\n",
    "pd.DataFrame(data = (255*(pcStuff - np.max(pcStuff))/-np.ptp(pcStuff)).astype(int))"
   ]
  },
  {
   "cell_type": "markdown",
   "metadata": {},
   "source": [
    "## Using Logistic Regression on Entire Dataset "
   ]
  },
  {
   "cell_type": "markdown",
   "metadata": {},
   "source": [
    "[Logistic Regression Sklearn Documentation](http://scikit-learn.org/stable/modules/generated/sklearn.linear_model.LogisticRegression.html) <br>\n",
    "One thing I like to mention is the importance of parameter tuning. While it may not have mattered much for the toy digits dataset, it can make a major difference on larger and more complex datasets you have. <b>Please see the parameter: solver</b>"
   ]
  },
  {
   "cell_type": "markdown",
   "metadata": {},
   "source": [
    "<b>Step 1: </b> Import the model you want to use"
   ]
  },
  {
   "cell_type": "markdown",
   "metadata": {},
   "source": [
    "In sklearn, all machine learning models are implemented as Python classes"
   ]
  },
  {
   "cell_type": "code",
   "execution_count": null,
   "metadata": {
    "collapsed": true
   },
   "outputs": [],
   "source": [
    "from sklearn.linear_model import LogisticRegression "
   ]
  },
  {
   "cell_type": "markdown",
   "metadata": {},
   "source": [
    "<b>Step 2:</b> Make an instance of the Model"
   ]
  },
  {
   "cell_type": "code",
   "execution_count": null,
   "metadata": {
    "collapsed": true
   },
   "outputs": [],
   "source": [
    "# all parameters not specified are set to their defaults\n",
    "# default solver is incredibly slow thats why we change it\n",
    "logisticRegr = LogisticRegression(solver = 'lbfgs')"
   ]
  },
  {
   "cell_type": "markdown",
   "metadata": {},
   "source": [
    "<b>Step 3:</b> Training the model on the data, storing the information learned from the data"
   ]
  },
  {
   "cell_type": "markdown",
   "metadata": {},
   "source": [
    "Model is learning the relationship between x (digits) and y (labels)"
   ]
  },
  {
   "cell_type": "code",
   "execution_count": null,
   "metadata": {
    "collapsed": true
   },
   "outputs": [],
   "source": [
    "logisticRegr.fit(train_img, train_lbl)"
   ]
  },
  {
   "cell_type": "markdown",
   "metadata": {},
   "source": [
    "<b>Step 4:</b> Predict the labels of new data (new images)"
   ]
  },
  {
   "cell_type": "markdown",
   "metadata": {},
   "source": [
    "Uses the information the model learned during the model training process"
   ]
  },
  {
   "cell_type": "code",
   "execution_count": null,
   "metadata": {
    "collapsed": true
   },
   "outputs": [],
   "source": [
    "# Returns a NumPy Array\n",
    "# Predict for One Observation (image)\n",
    "logisticRegr.predict(test_img[0].reshape(1,-1))"
   ]
  },
  {
   "cell_type": "code",
   "execution_count": null,
   "metadata": {
    "collapsed": true
   },
   "outputs": [],
   "source": [
    "# Predict for Multiple Observations (images) at Once\n",
    "logisticRegr.predict(test_img[0:10])"
   ]
  },
  {
   "cell_type": "markdown",
   "metadata": {},
   "source": [
    "## Measuring Model Performance"
   ]
  },
  {
   "cell_type": "markdown",
   "metadata": {},
   "source": [
    "accuracy (fraction of correct predictions): correct predictions / total number of data points"
   ]
  },
  {
   "cell_type": "markdown",
   "metadata": {},
   "source": [
    "Basically, how the model performs on new data (test set)"
   ]
  },
  {
   "cell_type": "code",
   "execution_count": null,
   "metadata": {
    "collapsed": true
   },
   "outputs": [],
   "source": [
    "score = logisticRegr.score(test_img, test_lbl)\n",
    "print(score)"
   ]
  },
  {
   "cell_type": "markdown",
   "metadata": {},
   "source": [
    "## Confusion Matrix"
   ]
  },
  {
   "cell_type": "markdown",
   "metadata": {},
   "source": [
    "A confusion matrix is a table that is often used to describe the performance of a classification model (or \"classifier\") on a set of test data for which the true values are known. "
   ]
  },
  {
   "cell_type": "markdown",
   "metadata": {},
   "source": [
    "<b>Note: Seaborn needs to be installed for this portion </b>"
   ]
  },
  {
   "cell_type": "code",
   "execution_count": null,
   "metadata": {
    "collapsed": true
   },
   "outputs": [],
   "source": [
    "# !conda install seaborn -y"
   ]
  },
  {
   "cell_type": "code",
   "execution_count": null,
   "metadata": {
    "collapsed": true
   },
   "outputs": [],
   "source": [
    "# Make predictions on test data\n",
    "predictions = logisticRegr.predict(test_img)"
   ]
  },
  {
   "cell_type": "code",
   "execution_count": null,
   "metadata": {
    "collapsed": true
   },
   "outputs": [],
   "source": [
    "cm = metrics.confusion_matrix(test_lbl, predictions)\n",
    "cm_normalized = cm.astype('float') / cm.sum(axis=1)[:, np.newaxis]"
   ]
  },
  {
   "cell_type": "code",
   "execution_count": null,
   "metadata": {
    "collapsed": true
   },
   "outputs": [],
   "source": [
    "plt.figure(figsize=(9,9))\n",
    "sns.heatmap(cm_normalized, annot=True, fmt=\".3f\", linewidths=.5, square = True, cmap = 'Blues_r');\n",
    "plt.ylabel('Actual label');\n",
    "plt.xlabel('Predicted label');\n",
    "all_sample_title = 'Accuracy Score: {:.3f}'.format(score) \n",
    "plt.title(all_sample_title, size = 15);"
   ]
  },
  {
   "cell_type": "markdown",
   "metadata": {},
   "source": [
    "## Display Misclassified images with Predicted Labels"
   ]
  },
  {
   "cell_type": "code",
   "execution_count": null,
   "metadata": {
    "collapsed": true
   },
   "outputs": [],
   "source": [
    "index = 0\n",
    "misclassifiedIndexes = []\n",
    "for label, predict in zip(test_lbl, predictions):\n",
    "    if label != predict: \n",
    "        misclassifiedIndexes.append(index)\n",
    "    index +=1"
   ]
  },
  {
   "cell_type": "code",
   "execution_count": null,
   "metadata": {
    "collapsed": true
   },
   "outputs": [],
   "source": [
    "plt.figure(figsize=(20,4))\n",
    "for plotIndex, badIndex in enumerate(misclassifiedIndexes[0:5]):\n",
    "    plt.subplot(1, 5, plotIndex + 1)\n",
    "    plt.imshow(np.reshape(test_img[badIndex], (28,28)), cmap=plt.cm.gray)\n",
    "    plt.title('Predicted: {}, Actual: {}'.format(predictions[badIndex], test_lbl[badIndex]), fontsize = 20)"
   ]
  },
  {
   "cell_type": "markdown",
   "metadata": {},
   "source": [
    "## Checking Performance Based on Training Set Size"
   ]
  },
  {
   "cell_type": "markdown",
   "metadata": {},
   "source": [
    "A confusion matrix is a table that is often used to describe the performance of a classification model (or \"classifier\") on a set of test data for which the true values are known. "
   ]
  },
  {
   "cell_type": "code",
   "execution_count": null,
   "metadata": {
    "collapsed": true
   },
   "outputs": [],
   "source": [
    "regr = LogisticRegression(solver = 'lbfgs')"
   ]
  },
  {
   "cell_type": "code",
   "execution_count": null,
   "metadata": {
    "collapsed": true
   },
   "outputs": [],
   "source": [
    "fig, axes = plt.subplots(nrows = 1, ncols = 3, figsize = (24,8));\n",
    "plt.tight_layout()\n",
    "\n",
    "for plotIndex, sample_size in enumerate([100, 1000, 60000]):\n",
    "    X_train = train_img[:sample_size].reshape(sample_size, 784)\n",
    "    y_train = train_lbl[:sample_size]\n",
    "    regr.fit(X_train, y_train)\n",
    "    predicted = regr.predict(test_img)\n",
    "    cm = metrics.confusion_matrix(test_lbl, predicted)\n",
    "    cm_normalized = cm.astype('float') / cm.sum(axis=1)[:, np.newaxis]\n",
    "    sns.heatmap(cm_normalized, annot=True, fmt=\".3f\", linewidths=.5, square = True, cmap = 'Blues_r', ax = axes[plotIndex], cbar = False);\n",
    "    accuracyString = '{:g} Training Samples Score: {:.3f}'.format(sample_size, regr.score(test_img, test_lbl)) \n",
    "    axes[plotIndex].set_title(accuracyString, size = 25);\n",
    "\n",
    "axes[0].set_ylabel('Actual label', fontsize = 30);\n",
    "axes[1].set_xlabel('Predicted label', fontsize = 30);"
   ]
  },
  {
   "cell_type": "code",
   "execution_count": null,
   "metadata": {
    "collapsed": true
   },
   "outputs": [],
   "source": []
  }
 ],
 "metadata": {
  "anaconda-cloud": {},
  "kernelspec": {
   "display_name": "Python [conda root]",
   "language": "python",
   "name": "conda-root-py"
  },
  "language_info": {
   "codemirror_mode": {
    "name": "ipython",
    "version": 2
   },
   "file_extension": ".py",
   "mimetype": "text/x-python",
   "name": "python",
   "nbconvert_exporter": "python",
   "pygments_lexer": "ipython2",
   "version": "2.7.13"
  }
 },
 "nbformat": 4,
 "nbformat_minor": 1
}
