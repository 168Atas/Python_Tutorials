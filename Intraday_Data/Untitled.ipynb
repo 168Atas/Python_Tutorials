{
 "cells": [
  {
   "cell_type": "code",
   "execution_count": 1,
   "metadata": {
    "collapsed": false
   },
   "outputs": [
    {
     "name": "stdout",
     "output_type": "stream",
     "text": [
      "onpick3 scatter: [82] [ 0.33294312] [ 0.31902288]\n",
      "onpick3 scatter: [82] [ 0.33294312] [ 0.31902288]\n",
      "onpick3 scatter: [82] [ 0.33294312] [ 0.31902288]\n",
      "onpick3 scatter: [90] [ 0.35423336] [ 0.41833634]\n",
      "onpick3 scatter: [50] [ 0.46184718] [ 0.51496488]\n",
      "onpick3 scatter: [50] [ 0.46184718] [ 0.51496488]\n",
      "onpick3 scatter: [18] [ 0.60267488] [ 0.74724295]\n",
      "onpick3 scatter: [74] [ 0.73681633] [ 0.68555214]\n",
      "onpick3 scatter: [ 0 33] [ 0.77416253  0.76382656] [ 0.51266152  0.50923329]\n",
      "onpick3 scatter: [ 0 33] [ 0.77416253  0.76382656] [ 0.51266152  0.50923329]\n"
     ]
    }
   ],
   "source": [
    "from matplotlib.pyplot import figure, show\n",
    "import numpy as npy\n",
    "from numpy.random import rand\n",
    "\n",
    "\n",
    "if 1: # picking on a scatter plot (matplotlib.collections.RegularPolyCollection)\n",
    "\n",
    "    x, y, c, s = rand(4, 100)\n",
    "    def onpick3(event):\n",
    "        ind = event.ind\n",
    "        print 'onpick3 scatter:', ind, npy.take(x, ind), npy.take(y, ind)\n",
    "\n",
    "    fig = figure()\n",
    "    ax1 = fig.add_subplot(111)\n",
    "    col = ax1.scatter(x, y, 100*s, c, picker=True)\n",
    "    #fig.savefig('pscoll.eps')\n",
    "    fig.canvas.mpl_connect('pick_event', onpick3)\n",
    "\n",
    "show()"
   ]
  },
  {
   "cell_type": "code",
   "execution_count": 2,
   "metadata": {
    "collapsed": false
   },
   "outputs": [
    {
     "name": "stdout",
     "output_type": "stream",
     "text": [
      "over 1\n",
      "over 1\n",
      "over 1\n",
      "over 1\n",
      "over 1\n",
      "over 1\n"
     ]
    }
   ],
   "source": [
    "import matplotlib.pyplot as plt\n",
    "\n",
    "fig = plt.figure()\n",
    "plot = fig.add_subplot(111)\n",
    "\n",
    "# create some curves\n",
    "for i in range(4):\n",
    "    plot.plot(\n",
    "        [i*1,i*2,i*3,i*4],\n",
    "        gid=i)\n",
    "\n",
    "def on_plot_hover(event):\n",
    "    for curve in plot.get_lines():\n",
    "        if curve.contains(event)[0]:\n",
    "            print \"over %s\" % curve.get_gid()\n",
    "\n",
    "fig.canvas.mpl_connect('motion_notify_event', on_plot_hover)           \n",
    "plt.show()\n"
   ]
  },
  {
   "cell_type": "code",
   "execution_count": null,
   "metadata": {
    "collapsed": true
   },
   "outputs": [],
   "source": []
  }
 ],
 "metadata": {
  "kernelspec": {
   "display_name": "Python 2",
   "language": "python",
   "name": "python2"
  },
  "language_info": {
   "codemirror_mode": {
    "name": "ipython",
    "version": 2
   },
   "file_extension": ".py",
   "mimetype": "text/x-python",
   "name": "python",
   "nbconvert_exporter": "python",
   "pygments_lexer": "ipython2",
   "version": "2.7.12"
  }
 },
 "nbformat": 4,
 "nbformat_minor": 0
}
