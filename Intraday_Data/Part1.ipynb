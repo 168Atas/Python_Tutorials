{
 "cells": [
  {
   "cell_type": "code",
   "execution_count": 3,
   "metadata": {
    "collapsed": true
   },
   "outputs": [],
   "source": [
    "import pandas as pd\n",
    "import numpy as np\n",
    "import urllib2\n",
    "import datetime as dt\n",
    "import matplotlib.pyplot as plt\n",
    " \n",
    "def get_google_data(symbol, period, window):\n",
    "    url_root = 'http://www.google.com/finance/getprices?i='\n",
    "    url_root += str(period) + '&p=' + str(window)\n",
    "    url_root += 'd&f=d,o,h,l,c,v&df=cpct&q=' + symbol\n",
    "    response = urllib2.urlopen(url_root)\n",
    "    data = response.read().split('\\n')\n",
    "    #actual data starts at index = 7\n",
    "    #first line contains full timestamp,\n",
    "    #every other line is offset of period from timestamp\n",
    "    parsed_data = []\n",
    "    anchor_stamp = ''\n",
    "    end = len(data)\n",
    "    for i in range(7, end):\n",
    "        cdata = data[i].split(',')\n",
    "        if 'a' in cdata[0]:\n",
    "            #first one record anchor timestamp\n",
    "            anchor_stamp = cdata[0].replace('a', '')\n",
    "            cts = int(anchor_stamp)\n",
    "        else:\n",
    "            try:\n",
    "                coffset = int(cdata[0])\n",
    "                cts = int(anchor_stamp) + (coffset * period)\n",
    "                parsed_data.append((dt.datetime.fromtimestamp(float(cts)), float(cdata[1]), float(cdata[2]), float(cdata[3]), float(cdata[4]), float(cdata[5])))\n",
    "            except:\n",
    "                pass # for time zone offsets thrown into data\n",
    "    df = pd.DataFrame(parsed_data)\n",
    "    df.columns = ['ts', 'o', 'h', 'l', 'c', 'v']\n",
    "    df.index = df.ts\n",
    "    del df['ts']\n",
    "    return df"
   ]
  },
  {
   "cell_type": "code",
   "execution_count": 5,
   "metadata": {
    "collapsed": false
   },
   "outputs": [],
   "source": [
    "spy = get_google_data('SPY', 300, 10)"
   ]
  },
  {
   "cell_type": "code",
   "execution_count": 6,
   "metadata": {
    "collapsed": false
   },
   "outputs": [
    {
     "data": {
      "text/html": [
       "<div>\n",
       "<table border=\"1\" class=\"dataframe\">\n",
       "  <thead>\n",
       "    <tr style=\"text-align: right;\">\n",
       "      <th></th>\n",
       "      <th>o</th>\n",
       "      <th>h</th>\n",
       "      <th>l</th>\n",
       "      <th>c</th>\n",
       "      <th>v</th>\n",
       "    </tr>\n",
       "    <tr>\n",
       "      <th>ts</th>\n",
       "      <th></th>\n",
       "      <th></th>\n",
       "      <th></th>\n",
       "      <th></th>\n",
       "      <th></th>\n",
       "    </tr>\n",
       "  </thead>\n",
       "  <tbody>\n",
       "    <tr>\n",
       "      <th>2016-07-11 08:35:00</th>\n",
       "      <td>213.49</td>\n",
       "      <td>213.50</td>\n",
       "      <td>213.150</td>\n",
       "      <td>213.21</td>\n",
       "      <td>761721.0</td>\n",
       "    </tr>\n",
       "    <tr>\n",
       "      <th>2016-07-11 08:40:00</th>\n",
       "      <td>213.52</td>\n",
       "      <td>213.59</td>\n",
       "      <td>213.420</td>\n",
       "      <td>213.49</td>\n",
       "      <td>473852.0</td>\n",
       "    </tr>\n",
       "    <tr>\n",
       "      <th>2016-07-11 08:45:00</th>\n",
       "      <td>213.57</td>\n",
       "      <td>213.66</td>\n",
       "      <td>213.430</td>\n",
       "      <td>213.53</td>\n",
       "      <td>471931.0</td>\n",
       "    </tr>\n",
       "    <tr>\n",
       "      <th>2016-07-11 08:50:00</th>\n",
       "      <td>213.46</td>\n",
       "      <td>213.67</td>\n",
       "      <td>213.435</td>\n",
       "      <td>213.58</td>\n",
       "      <td>453161.0</td>\n",
       "    </tr>\n",
       "    <tr>\n",
       "      <th>2016-07-11 08:55:00</th>\n",
       "      <td>213.39</td>\n",
       "      <td>213.49</td>\n",
       "      <td>213.360</td>\n",
       "      <td>213.47</td>\n",
       "      <td>323097.0</td>\n",
       "    </tr>\n",
       "  </tbody>\n",
       "</table>\n",
       "</div>"
      ],
      "text/plain": [
       "                          o       h        l       c         v\n",
       "ts                                                            \n",
       "2016-07-11 08:35:00  213.49  213.50  213.150  213.21  761721.0\n",
       "2016-07-11 08:40:00  213.52  213.59  213.420  213.49  473852.0\n",
       "2016-07-11 08:45:00  213.57  213.66  213.430  213.53  471931.0\n",
       "2016-07-11 08:50:00  213.46  213.67  213.435  213.58  453161.0\n",
       "2016-07-11 08:55:00  213.39  213.49  213.360  213.47  323097.0"
      ]
     },
     "execution_count": 6,
     "metadata": {},
     "output_type": "execute_result"
    }
   ],
   "source": [
    "spy.head()"
   ]
  },
  {
   "cell_type": "code",
   "execution_count": null,
   "metadata": {
    "collapsed": true
   },
   "outputs": [],
   "source": []
  }
 ],
 "metadata": {
  "kernelspec": {
   "display_name": "Python 2",
   "language": "python",
   "name": "python2"
  },
  "language_info": {
   "codemirror_mode": {
    "name": "ipython",
    "version": 2
   },
   "file_extension": ".py",
   "mimetype": "text/x-python",
   "name": "python",
   "nbconvert_exporter": "python",
   "pygments_lexer": "ipython2",
   "version": "2.7.11"
  }
 },
 "nbformat": 4,
 "nbformat_minor": 0
}
