{
 "cells": [
  {
   "cell_type": "markdown",
   "metadata": {},
   "source": [
    "<h1 align=\"center\"> Part 1: Getting Time Series Data and Basic Plotting</h1>"
   ]
  },
  {
   "cell_type": "markdown",
   "metadata": {},
   "source": [
    "<h3 align='Left'> Importing Libraries</h3>"
   ]
  },
  {
   "cell_type": "code",
   "execution_count": 7,
   "metadata": {
    "collapsed": false
   },
   "outputs": [],
   "source": [
    "import pandas as pd\n",
    "import pandas_datareader.data as web\n",
    "import numpy as np\n",
    "import matplotlib.pyplot as plt\n",
    "from sklearn.linear_model import LinearRegression"
   ]
  },
  {
   "cell_type": "markdown",
   "metadata": {},
   "source": [
    "<h3 align='Left'> Getting Data and Viewing with Pandas </h3>"
   ]
  },
  {
   "cell_type": "code",
   "execution_count": 5,
   "metadata": {
    "collapsed": false
   },
   "outputs": [
    {
     "data": {
      "text/html": [
       "<div>\n",
       "<table border=\"1\" class=\"dataframe\">\n",
       "  <thead>\n",
       "    <tr style=\"text-align: right;\">\n",
       "      <th></th>\n",
       "      <th>Open</th>\n",
       "      <th>High</th>\n",
       "      <th>Low</th>\n",
       "      <th>Close</th>\n",
       "    </tr>\n",
       "    <tr>\n",
       "      <th>Date</th>\n",
       "      <th></th>\n",
       "      <th></th>\n",
       "      <th></th>\n",
       "      <th></th>\n",
       "    </tr>\n",
       "  </thead>\n",
       "  <tbody>\n",
       "    <tr>\n",
       "      <th>2009-03-16</th>\n",
       "      <td>162.83</td>\n",
       "      <td>164.70</td>\n",
       "      <td>159.14</td>\n",
       "      <td>159.69</td>\n",
       "    </tr>\n",
       "    <tr>\n",
       "      <th>2009-03-17</th>\n",
       "      <td>159.93</td>\n",
       "      <td>167.50</td>\n",
       "      <td>159.39</td>\n",
       "      <td>167.50</td>\n",
       "    </tr>\n",
       "    <tr>\n",
       "      <th>2009-03-18</th>\n",
       "      <td>167.24</td>\n",
       "      <td>169.83</td>\n",
       "      <td>163.86</td>\n",
       "      <td>166.38</td>\n",
       "    </tr>\n",
       "    <tr>\n",
       "      <th>2009-03-19</th>\n",
       "      <td>165.67</td>\n",
       "      <td>167.83</td>\n",
       "      <td>163.53</td>\n",
       "      <td>164.81</td>\n",
       "    </tr>\n",
       "    <tr>\n",
       "      <th>2009-03-20</th>\n",
       "      <td>164.98</td>\n",
       "      <td>166.33</td>\n",
       "      <td>163.01</td>\n",
       "      <td>164.91</td>\n",
       "    </tr>\n",
       "  </tbody>\n",
       "</table>\n",
       "</div>"
      ],
      "text/plain": [
       "              Open    High     Low   Close\n",
       "Date                                      \n",
       "2009-03-16  162.83  164.70  159.14  159.69\n",
       "2009-03-17  159.93  167.50  159.39  167.50\n",
       "2009-03-18  167.24  169.83  163.86  166.38\n",
       "2009-03-19  165.67  167.83  163.53  164.81\n",
       "2009-03-20  164.98  166.33  163.01  164.91"
      ]
     },
     "execution_count": 5,
     "metadata": {},
     "output_type": "execute_result"
    }
   ],
   "source": [
    "# https://pandas-datareader.readthedocs.io/en/latest/remote_data.html\n",
    "google = web.DataReader('GOOG', data_source = 'google',start = '3/14/2009', end = '4/14/2016')\n",
    "google = google.drop('Volume', axis = 1 )\n",
    "google.head()"
   ]
  },
  {
   "cell_type": "markdown",
   "metadata": {
    "collapsed": true
   },
   "source": [
    "<h3 align='Left'> Plotting </h3>"
   ]
  },
  {
   "cell_type": "code",
   "execution_count": null,
   "metadata": {
    "collapsed": true
   },
   "outputs": [],
   "source": []
  }
 ],
 "metadata": {
  "kernelspec": {
   "display_name": "Python 2",
   "language": "python",
   "name": "python2"
  },
  "language_info": {
   "codemirror_mode": {
    "name": "ipython",
    "version": 2
   },
   "file_extension": ".py",
   "mimetype": "text/x-python",
   "name": "python",
   "nbconvert_exporter": "python",
   "pygments_lexer": "ipython2",
   "version": "2.7.11"
  }
 },
 "nbformat": 4,
 "nbformat_minor": 0
}
