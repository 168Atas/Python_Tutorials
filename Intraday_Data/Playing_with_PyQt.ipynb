{
 "cells": [
  {
   "cell_type": "markdown",
   "metadata": {},
   "source": [
    "<h1 align=\"center\"> Part 1: Getting Time Series Data and Basic Plotting</h1>"
   ]
  },
  {
   "cell_type": "markdown",
   "metadata": {},
   "source": [
    "<h3 align='Left'> Importing Libraries</h3>"
   ]
  },
  {
   "cell_type": "code",
   "execution_count": 19,
   "metadata": {
    "collapsed": false
   },
   "outputs": [],
   "source": [
    "import pandas as pd\n",
    "import pandas_datareader.data as web\n",
    "import numpy as np\n",
    "import matplotlib.pyplot as plt\n",
    "from sklearn.linear_model import LinearRegression\n",
    "%matplotlib inline"
   ]
  },
  {
   "cell_type": "markdown",
   "metadata": {},
   "source": [
    "<h3 align='Left'> Getting Data and Viewing with Pandas </h3>"
   ]
  },
  {
   "cell_type": "code",
   "execution_count": 20,
   "metadata": {
    "collapsed": false
   },
   "outputs": [
    {
     "data": {
      "text/html": [
       "<div>\n",
       "<table border=\"1\" class=\"dataframe\">\n",
       "  <thead>\n",
       "    <tr style=\"text-align: right;\">\n",
       "      <th></th>\n",
       "      <th>Open</th>\n",
       "      <th>High</th>\n",
       "      <th>Low</th>\n",
       "      <th>Close</th>\n",
       "    </tr>\n",
       "    <tr>\n",
       "      <th>Date</th>\n",
       "      <th></th>\n",
       "      <th></th>\n",
       "      <th></th>\n",
       "      <th></th>\n",
       "    </tr>\n",
       "  </thead>\n",
       "  <tbody>\n",
       "    <tr>\n",
       "      <th>2009-03-16</th>\n",
       "      <td>162.83</td>\n",
       "      <td>164.70</td>\n",
       "      <td>159.14</td>\n",
       "      <td>159.69</td>\n",
       "    </tr>\n",
       "    <tr>\n",
       "      <th>2009-03-17</th>\n",
       "      <td>159.93</td>\n",
       "      <td>167.50</td>\n",
       "      <td>159.39</td>\n",
       "      <td>167.50</td>\n",
       "    </tr>\n",
       "    <tr>\n",
       "      <th>2009-03-18</th>\n",
       "      <td>167.24</td>\n",
       "      <td>169.83</td>\n",
       "      <td>163.86</td>\n",
       "      <td>166.38</td>\n",
       "    </tr>\n",
       "    <tr>\n",
       "      <th>2009-03-19</th>\n",
       "      <td>165.67</td>\n",
       "      <td>167.83</td>\n",
       "      <td>163.53</td>\n",
       "      <td>164.81</td>\n",
       "    </tr>\n",
       "    <tr>\n",
       "      <th>2009-03-20</th>\n",
       "      <td>164.98</td>\n",
       "      <td>166.33</td>\n",
       "      <td>163.01</td>\n",
       "      <td>164.91</td>\n",
       "    </tr>\n",
       "  </tbody>\n",
       "</table>\n",
       "</div>"
      ],
      "text/plain": [
       "              Open    High     Low   Close\n",
       "Date                                      \n",
       "2009-03-16  162.83  164.70  159.14  159.69\n",
       "2009-03-17  159.93  167.50  159.39  167.50\n",
       "2009-03-18  167.24  169.83  163.86  166.38\n",
       "2009-03-19  165.67  167.83  163.53  164.81\n",
       "2009-03-20  164.98  166.33  163.01  164.91"
      ]
     },
     "execution_count": 20,
     "metadata": {},
     "output_type": "execute_result"
    }
   ],
   "source": [
    "# https://pandas-datareader.readthedocs.io/en/latest/remote_data.html\n",
    "google = web.DataReader('GOOG', data_source = 'google',start = '3/14/2009', end = '4/14/2016')\n",
    "google = google.drop('Volume', axis = 1 )\n",
    "google.head()"
   ]
  },
  {
   "cell_type": "markdown",
   "metadata": {
    "collapsed": true
   },
   "source": [
    "<h3 align='Left'> Adding Column </h3>"
   ]
  },
  {
   "cell_type": "code",
   "execution_count": 21,
   "metadata": {
    "collapsed": false
   },
   "outputs": [],
   "source": [
    "google['Ticks'] = range(0,len(google.index.values))"
   ]
  },
  {
   "cell_type": "code",
   "execution_count": 22,
   "metadata": {
    "collapsed": false
   },
   "outputs": [
    {
     "data": {
      "text/html": [
       "<div>\n",
       "<table border=\"1\" class=\"dataframe\">\n",
       "  <thead>\n",
       "    <tr style=\"text-align: right;\">\n",
       "      <th></th>\n",
       "      <th>Open</th>\n",
       "      <th>High</th>\n",
       "      <th>Low</th>\n",
       "      <th>Close</th>\n",
       "      <th>Ticks</th>\n",
       "    </tr>\n",
       "    <tr>\n",
       "      <th>Date</th>\n",
       "      <th></th>\n",
       "      <th></th>\n",
       "      <th></th>\n",
       "      <th></th>\n",
       "      <th></th>\n",
       "    </tr>\n",
       "  </thead>\n",
       "  <tbody>\n",
       "    <tr>\n",
       "      <th>2009-03-16</th>\n",
       "      <td>162.83</td>\n",
       "      <td>164.70</td>\n",
       "      <td>159.14</td>\n",
       "      <td>159.69</td>\n",
       "      <td>0</td>\n",
       "    </tr>\n",
       "    <tr>\n",
       "      <th>2009-03-17</th>\n",
       "      <td>159.93</td>\n",
       "      <td>167.50</td>\n",
       "      <td>159.39</td>\n",
       "      <td>167.50</td>\n",
       "      <td>1</td>\n",
       "    </tr>\n",
       "    <tr>\n",
       "      <th>2009-03-18</th>\n",
       "      <td>167.24</td>\n",
       "      <td>169.83</td>\n",
       "      <td>163.86</td>\n",
       "      <td>166.38</td>\n",
       "      <td>2</td>\n",
       "    </tr>\n",
       "    <tr>\n",
       "      <th>2009-03-19</th>\n",
       "      <td>165.67</td>\n",
       "      <td>167.83</td>\n",
       "      <td>163.53</td>\n",
       "      <td>164.81</td>\n",
       "      <td>3</td>\n",
       "    </tr>\n",
       "    <tr>\n",
       "      <th>2009-03-20</th>\n",
       "      <td>164.98</td>\n",
       "      <td>166.33</td>\n",
       "      <td>163.01</td>\n",
       "      <td>164.91</td>\n",
       "      <td>4</td>\n",
       "    </tr>\n",
       "  </tbody>\n",
       "</table>\n",
       "</div>"
      ],
      "text/plain": [
       "              Open    High     Low   Close  Ticks\n",
       "Date                                             \n",
       "2009-03-16  162.83  164.70  159.14  159.69      0\n",
       "2009-03-17  159.93  167.50  159.39  167.50      1\n",
       "2009-03-18  167.24  169.83  163.86  166.38      2\n",
       "2009-03-19  165.67  167.83  163.53  164.81      3\n",
       "2009-03-20  164.98  166.33  163.01  164.91      4"
      ]
     },
     "execution_count": 22,
     "metadata": {},
     "output_type": "execute_result"
    }
   ],
   "source": [
    "google.head()"
   ]
  },
  {
   "cell_type": "markdown",
   "metadata": {},
   "source": [
    "<h3 align='Left'> Plotting Ticks vs Open </h3>"
   ]
  },
  {
   "cell_type": "code",
   "execution_count": 40,
   "metadata": {
    "collapsed": false
   },
   "outputs": [
    {
     "data": {
      "image/png": "[encoded data removed]",
      "text/plain": [
       "<matplotlib.figure.Figure at 0x127183190>"
      ]
     },
     "metadata": {},
     "output_type": "display_data"
    }
   ],
   "source": [
    "#very simple plotting\n",
    "fig = plt.figure(1)\n",
    "ax1 = fig.add_subplot(111)\n",
    "ax1.set_xlabel('Ticks')\n",
    "ax1.set_ylabel('Price')\n",
    "ax1.plot('Ticks', 'Open', data = google);"
   ]
  },
  {
   "cell_type": "markdown",
   "metadata": {},
   "source": [
    "<h3 align='Left'> Sampling 1/10th </h3>"
   ]
  },
  {
   "cell_type": "code",
   "execution_count": 42,
   "metadata": {
    "collapsed": false
   },
   "outputs": [],
   "source": [
    "one_tenth = google.sample(frac = .1, random_state=np.random.randint(10))"
   ]
  },
  {
   "cell_type": "code",
   "execution_count": 47,
   "metadata": {
    "collapsed": false
   },
   "outputs": [
    {
     "data": {
      "text/plain": [
       "<bound method DataFrame.sort_index of               Open    High     Low   Close  Ticks\n",
       "Date                                             \n",
       "2014-04-07  540.74  548.48  527.15  538.15   1273\n",
       "2009-09-22  250.21  250.74  248.66  249.28    132\n",
       "2011-08-26  259.74  264.96  256.31  263.17    618\n",
       "2015-01-26  538.53  539.00  529.67  535.21   1475\n",
       "2010-10-22  305.65  307.10  304.72  305.96    405\n",
       "2014-11-06  545.50  546.88  540.97  542.04   1422\n",
       "2010-12-21  298.99  302.06  298.51  301.23    446\n",
       "2009-10-13  261.93  263.47  260.43  262.79    147\n",
       "2014-10-23  539.32  547.22  535.85  543.98   1412\n",
       "2010-02-11  265.86  269.97  264.49  267.93    230\n",
       "2012-02-13  304.94  306.61  304.70  305.79    734\n",
       "2013-02-06  379.16  386.09  378.87  384.70    980\n",
       "2011-10-12  273.79  277.34  272.04  273.98    650\n",
       "2010-03-24  272.48  279.64  269.58  278.39    258\n",
       "2010-10-21  305.45  307.69  302.70  305.69    404\n",
       "2016-01-20  688.61  706.85  673.26  698.45   1723\n",
       "2009-06-24  204.17  205.91  203.08  204.44     70\n",
       "2009-10-21  274.68  279.40  274.23  275.27    153\n",
       "2015-10-28  707.33  712.98  703.08  712.95   1667\n",
       "2011-05-17  257.46  265.34  257.26  264.96    547\n",
       "2016-02-05  703.87  703.99  680.15  683.57   1735\n",
       "2011-04-29  269.73  271.78  268.99  271.78    535\n",
       "2015-04-13  538.41  544.06  537.31  539.17   1528\n",
       "2012-07-13  285.79  289.28  283.99  287.97    839\n",
       "2016-04-11  743.02  745.00  736.05  736.10   1779\n",
       "2009-07-21  215.25  215.73  212.65  213.74     88\n",
       "2013-08-28  424.70  427.28  423.46  423.85   1121\n",
       "2012-07-10  294.80  295.92  289.08  290.56    836\n",
       "2016-03-02  719.00  720.00  712.00  718.85   1752\n",
       "2013-03-07  416.61  417.89  414.38  415.88   1000\n",
       "...            ...     ...     ...     ...    ...\n",
       "2012-04-23  296.15  298.93  294.80  298.50    782\n",
       "2014-12-26  528.77  534.25  527.31  534.03   1456\n",
       "2012-04-19  302.54  307.82  299.20  299.35    780\n",
       "2010-07-16  234.32  235.04  229.53  229.57    336\n",
       "2013-11-20  514.46  516.16  509.67  510.64   1180\n",
       "2010-08-23  230.52  233.89  228.64  231.80    362\n",
       "2011-08-12  284.47  284.96  279.92  281.60    608\n",
       "2010-05-18  254.74  255.23  248.29  248.94    295\n",
       "2012-08-22  333.36  339.96  333.02  338.25    867\n",
       "2009-04-22  190.68  194.80  189.32  191.74     26\n",
       "2015-08-06  645.00  645.38  632.25  642.68   1609\n",
       "2013-03-27  402.94  403.10  400.26  400.93   1014\n",
       "2013-09-12  448.25  448.50  444.56  446.08   1131\n",
       "2011-08-17  269.74  271.57  265.12  266.31    611\n",
       "2013-09-20  448.75  451.61  447.36  451.10   1137\n",
       "2015-12-11  741.16  745.71  736.75  738.87   1698\n",
       "2012-12-13  357.60  357.88  349.42  351.00    944\n",
       "2013-04-08  388.99  389.39  383.82  387.04   1021\n",
       "2012-08-15  334.80  336.79  331.72  333.44    862\n",
       "2014-09-11  580.36  581.81  576.26  581.35   1382\n",
       "2014-11-14  546.68  546.68  542.15  544.40   1428\n",
       "2014-06-04  541.50  548.61  538.75  544.66   1313\n",
       "2009-05-13  196.85  198.00  193.98  194.58     41\n",
       "2015-07-07  523.13  526.18  515.18  525.02   1587\n",
       "2010-12-27  301.07  301.59  299.45  300.89    449\n",
       "2015-12-17  762.42  762.68  749.00  749.43   1702\n",
       "2010-04-30  265.30  268.57  262.46  262.58    283\n",
       "2015-04-15  528.70  534.73  523.22  532.53   1530\n",
       "2011-06-21  243.35  246.72  242.12  246.25    571\n",
       "2009-05-04  198.89  201.00  197.20  200.79     34\n",
       "\n",
       "[178 rows x 5 columns]>"
      ]
     },
     "execution_count": 47,
     "metadata": {},
     "output_type": "execute_result"
    }
   ],
   "source": [
    "#one_tenth.plot('Ticks', 'Open', kind = 'scatter')\n",
    "one_tenth.sort_index"
   ]
  },
  {
   "cell_type": "code",
   "execution_count": null,
   "metadata": {
    "collapsed": true
   },
   "outputs": [],
   "source": []
  }
 ],
 "metadata": {
  "kernelspec": {
   "display_name": "Python 2",
   "language": "python",
   "name": "python2"
  },
  "language_info": {
   "codemirror_mode": {
    "name": "ipython",
    "version": 2
   },
   "file_extension": ".py",
   "mimetype": "text/x-python",
   "name": "python",
   "nbconvert_exporter": "python",
   "pygments_lexer": "ipython2",
   "version": "2.7.11"
  }
 },
 "nbformat": 4,
 "nbformat_minor": 0
}
