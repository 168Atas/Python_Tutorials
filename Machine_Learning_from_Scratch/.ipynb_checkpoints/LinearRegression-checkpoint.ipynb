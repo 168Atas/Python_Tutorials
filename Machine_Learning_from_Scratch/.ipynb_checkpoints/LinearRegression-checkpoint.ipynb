{
 "cells": [
  {
   "cell_type": "markdown",
   "metadata": {},
   "source": [
    "<h1 align=\"center\"> Linear Regression </h1>"
   ]
  },
  {
   "cell_type": "code",
   "execution_count": 2,
   "metadata": {
    "collapsed": false
   },
   "outputs": [],
   "source": [
    "import numpy as np \n",
    "import matplotlib.pyplot as plt\n",
    "from mpl_toolkits.mplot3d import Axes3D\n",
    "from matplotlib import cm\n",
    "# import warmUpExercise as wue\n",
    "#import computeCost as cc\n",
    "#import gradientDescent as gd"
   ]
  },
  {
   "cell_type": "code",
   "execution_count": 14,
   "metadata": {
    "collapsed": true
   },
   "outputs": [],
   "source": [
    "data = np.loadtxt('ex1data1.txt', delimiter=\",\")\n",
    "X = data[:,0]\n",
    "y = data[:,1]\n",
    "m = len(y) # number of training examples"
   ]
  },
  {
   "cell_type": "code",
   "execution_count": 15,
   "metadata": {
    "collapsed": false
   },
   "outputs": [
    {
     "data": {
      "text/plain": [
       "(97L,)"
      ]
     },
     "execution_count": 15,
     "metadata": {},
     "output_type": "execute_result"
    }
   ],
   "source": [
    "X.shape"
   ]
  },
  {
   "cell_type": "code",
   "execution_count": 16,
   "metadata": {
    "collapsed": false
   },
   "outputs": [
    {
     "data": {
      "text/plain": [
       "(97L, 2L)"
      ]
     },
     "execution_count": 16,
     "metadata": {},
     "output_type": "execute_result"
    }
   ],
   "source": [
    "np.column_stack((np.ones((m,1)), X)).shape"
   ]
  },
  {
   "cell_type": "markdown",
   "metadata": {},
   "source": [
    "Add a column of ones to x (theta<sub>0</sub>)"
   ]
  },
  {
   "cell_type": "code",
   "execution_count": 17,
   "metadata": {
    "collapsed": false
   },
   "outputs": [],
   "source": [
    "X_padded = np.column_stack((np.ones((m,1)), X)) \n",
    "\n",
    "theta = np.zeros((2, 1)) # initialize fitting parameters"
   ]
  },
  {
   "cell_type": "code",
   "execution_count": 26,
   "metadata": {
    "collapsed": false
   },
   "outputs": [
    {
     "data": {
      "text/plain": [
       "(97L,)"
      ]
     },
     "execution_count": 26,
     "metadata": {},
     "output_type": "execute_result"
    }
   ],
   "source": [
    "np.transpose(y).shape"
   ]
  },
  {
   "cell_type": "code",
   "execution_count": 36,
   "metadata": {
    "collapsed": false
   },
   "outputs": [
    {
     "data": {
      "text/plain": [
       "(97L, 1L)"
      ]
     },
     "execution_count": 36,
     "metadata": {},
     "output_type": "execute_result"
    }
   ],
   "source": [
    "# (97L, 1L)\n",
    "np.power(( X_padded.dot(theta) - np.transpose([y]) ), 2)"
   ]
  },
  {
   "cell_type": "code",
   "execution_count": 37,
   "metadata": {
    "collapsed": true
   },
   "outputs": [],
   "source": [
    "?np.sum()"
   ]
  },
  {
   "cell_type": "code",
   "execution_count": null,
   "metadata": {
    "collapsed": true
   },
   "outputs": [],
   "source": [
    "def computeCost(X, y, theta):\n",
    "\n",
    "    #COMPUTECOST Compute cost for linear regression\n",
    "    #   J = COMPUTECOST(X, y, theta) computes the cost of using theta as the\n",
    "    #   parameter for linear regression to fit the data points in X and y\n",
    "\n",
    "    # Initialize some useful values\n",
    "\n",
    "    m = len(y) # number of training examples\n",
    "\n",
    "    # You need to return the following variables correctly \n",
    "    J = 0\n",
    "\n",
    "    # note that \n",
    "\n",
    "    # theta is an (n+1)-dimensional vector \n",
    "\n",
    "    # X is an m x (n+1)-dimensional matrix\n",
    "\n",
    "    # y is an m-dimensional vector\n",
    "\n",
    "    s = np.power(( X.dot(theta) - np.transpose([y]) ), 2)\n",
    "\n",
    "    J = (1.0/(2*m)) * s.sum( axis = 0 )\n",
    "\n",
    "    return J"
   ]
  },
  {
   "cell_type": "code",
   "execution_count": null,
   "metadata": {
    "collapsed": true
   },
   "outputs": [],
   "source": [
    "def gradientDescent(X, y, theta, alpha, num_iters):\n",
    "\n",
    "    # GRADIENTDESCENT Performs gradient descent to learn theta\n",
    "\n",
    "    # theta = GRADIENTDESENT(X, y, theta, alpha, num_iters) updates theta by \n",
    "\n",
    "    # taking num_iters gradient steps with learning rate alpha\n",
    "\n",
    "\n",
    "\n",
    "    # Initialize some useful values\n",
    "\n",
    "    m = len(y) # number of training examples\n",
    "\n",
    "    J_history = np.zeros((num_iters, 1))\n",
    "\n",
    "\n",
    "\n",
    "    for i in xrange(num_iters):\n",
    "\n",
    "\n",
    "\n",
    "        # ====================== YOUR CODE HERE ======================\n",
    "\n",
    "        # Instructions: Perform a single gradient step on the parameter vector\n",
    "\n",
    "        #               theta. \n",
    "\n",
    "        #\n",
    "\n",
    "        # Hint: While debugging, it can be useful to print out the values\n",
    "\n",
    "        #       of the cost function (computeCost) and gradient here.\n",
    "\n",
    "        #\n",
    "\n",
    "        theta = theta - alpha*(1.0/m) * np.transpose(X).dot(X.dot(theta) - np.transpose([y]))\n",
    "\n",
    "        # Save the cost J in every iteration    \n",
    "\n",
    "        import computeCost as cc\n",
    "\n",
    "        J_history[i] = cc.computeCost(X, y, theta)\n",
    "\n",
    "    return theta, J_history"
   ]
  }
 ],
 "metadata": {
  "anaconda-cloud": {},
  "kernelspec": {
   "display_name": "Python [conda root]",
   "language": "python",
   "name": "conda-root-py"
  },
  "language_info": {
   "codemirror_mode": {
    "name": "ipython",
    "version": 2
   },
   "file_extension": ".py",
   "mimetype": "text/x-python",
   "name": "python",
   "nbconvert_exporter": "python",
   "pygments_lexer": "ipython2",
   "version": "2.7.12"
  }
 },
 "nbformat": 4,
 "nbformat_minor": 1
}
