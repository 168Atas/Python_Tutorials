{
 "cells": [
  {
   "cell_type": "markdown",
   "metadata": {},
   "source": [
    "<h1 align=\"center\"> Linear Regression </h1>"
   ]
  },
  {
   "cell_type": "code",
   "execution_count": 1,
   "metadata": {
    "collapsed": false
   },
   "outputs": [],
   "source": [
    "import numpy as np \n",
    "import matplotlib.pyplot as plt\n",
    "from mpl_toolkits.mplot3d import Axes3D\n",
    "from matplotlib import cm\n",
    "# import warmUpExercise as wue\n",
    "#import computeCost as cc\n",
    "#import gradientDescent as gd\n",
    "%matplotlib inline"
   ]
  },
  {
   "cell_type": "code",
   "execution_count": 2,
   "metadata": {
    "collapsed": false
   },
   "outputs": [],
   "source": [
    "data = np.loadtxt('ex1data1.txt', delimiter=\",\")\n",
    "X = data[:,0]\n",
    "y = data[:,1]\n",
    "m = len(y) # number of training examples"
   ]
  },
  {
   "cell_type": "code",
   "execution_count": 3,
   "metadata": {
    "collapsed": false
   },
   "outputs": [
    {
     "data": {
      "text/plain": [
       "array([  6.1101,   5.5277,   8.5186,   7.0032,   5.8598,   8.3829,\n",
       "         7.4764,   8.5781,   6.4862,   5.0546,   5.7107,  14.164 ,\n",
       "         5.734 ,   8.4084,   5.6407,   5.3794,   6.3654,   5.1301,\n",
       "         6.4296,   7.0708,   6.1891,  20.27  ,   5.4901,   6.3261,\n",
       "         5.5649,  18.945 ,  12.828 ,  10.957 ,  13.176 ,  22.203 ,\n",
       "         5.2524,   6.5894,   9.2482,   5.8918,   8.2111,   7.9334,\n",
       "         8.0959,   5.6063,  12.836 ,   6.3534,   5.4069,   6.8825,\n",
       "        11.708 ,   5.7737,   7.8247,   7.0931,   5.0702,   5.8014,\n",
       "        11.7   ,   5.5416,   7.5402,   5.3077,   7.4239,   7.6031,\n",
       "         6.3328,   6.3589,   6.2742,   5.6397,   9.3102,   9.4536,\n",
       "         8.8254,   5.1793,  21.279 ,  14.908 ,  18.959 ,   7.2182,\n",
       "         8.2951,  10.236 ,   5.4994,  20.341 ,  10.136 ,   7.3345,\n",
       "         6.0062,   7.2259,   5.0269,   6.5479,   7.5386,   5.0365,\n",
       "        10.274 ,   5.1077,   5.7292,   5.1884,   6.3557,   9.7687,\n",
       "         6.5159,   8.5172,   9.1802,   6.002 ,   5.5204,   5.0594,\n",
       "         5.7077,   7.6366,   5.8707,   5.3054,   8.2934,  13.394 ,   5.4369])"
      ]
     },
     "execution_count": 3,
     "metadata": {},
     "output_type": "execute_result"
    }
   ],
   "source": [
    "X"
   ]
  },
  {
   "cell_type": "markdown",
   "metadata": {},
   "source": [
    "## Objective of Linear Regression"
   ]
  },
  {
   "cell_type": "markdown",
   "metadata": {},
   "source": [
    "The objective of linear regression is to minimize the cost function "
   ]
  },
  {
   "cell_type": "markdown",
   "metadata": {},
   "source": [
    "<img src=\"images/meanSquaredError.png\" alt=\"Mean Squared Error\">"
   ]
  },
  {
   "cell_type": "markdown",
   "metadata": {},
   "source": [
    "where h<sub>θ</sub>(x) = θ<sup>T</sup>x = θ<sub>0</sub> + θ<sub>1</sub>x<sub>1</sub> (you can see more down below) "
   ]
  },
  {
   "cell_type": "markdown",
   "metadata": {},
   "source": [
    "## Hypothesis for Linear Model "
   ]
  },
  {
   "cell_type": "markdown",
   "metadata": {},
   "source": [
    "<img src=\"images/hypothesis.png\" alt=\"hypothesis\">"
   ]
  },
  {
   "cell_type": "markdown",
   "metadata": {},
   "source": [
    "Add a column of ones to x to account for θ<sub>0</sub>"
   ]
  },
  {
   "cell_type": "markdown",
   "metadata": {},
   "source": [
    "## Minimizing Cost Function using Gradient Descent"
   ]
  },
  {
   "cell_type": "markdown",
   "metadata": {},
   "source": [
    "<img src=\"images/gradientDescent.png\" alt=\"hypothesis\">"
   ]
  },
  {
   "cell_type": "code",
   "execution_count": 4,
   "metadata": {
    "collapsed": true
   },
   "outputs": [],
   "source": [
    "def computeCost(X, y, theta):\n",
    "\n",
    "    #COMPUTECOST Compute cost for linear regression\n",
    "    #   J = COMPUTECOST(X, y, theta) computes the cost of using theta as the\n",
    "    #   parameter for linear regression to fit the data points in X and y\n",
    "\n",
    "    # Initialize some useful values\n",
    "\n",
    "    m = len(y) # number of training examples\n",
    "\n",
    "    # You need to return the following variables correctly \n",
    "    J = 0\n",
    "\n",
    "    # note that \n",
    "\n",
    "    # theta is an (n+1)-dimensional vector \n",
    "\n",
    "    # X is an m x (n+1)-dimensional matrix\n",
    "\n",
    "    # y is an m-dimensional vector\n",
    "\n",
    "    s = np.power(( X.dot(theta) - np.transpose([y]) ), 2)\n",
    "\n",
    "    J = (1.0/(2*m)) * s.sum( axis = 0 )\n",
    "\n",
    "    return J"
   ]
  },
  {
   "cell_type": "code",
   "execution_count": 5,
   "metadata": {
    "collapsed": true
   },
   "outputs": [],
   "source": [
    "def gradientDescent(X, y, theta, alpha, num_iters):\n",
    "\n",
    "    # GRADIENTDESCENT Performs gradient descent to learn theta\n",
    "\n",
    "    # theta = GRADIENTDESENT(X, y, theta, alpha, num_iters) updates theta by \n",
    "\n",
    "    # taking num_iters gradient steps with learning rate alpha\n",
    "\n",
    "    # Initialize some useful values\n",
    "\n",
    "    m = len(y) # number of training examples\n",
    "\n",
    "    J_history = np.zeros((num_iters, 1))\n",
    "\n",
    "    for i in xrange(num_iters):\n",
    "\n",
    "\n",
    "        theta = theta - alpha*(1.0/m) * np.transpose(X).dot(X.dot(theta) - np.transpose([y]))\n",
    "\n",
    "        # Save the cost J in every iteration    \n",
    "        J_history[i] = computeCost(X, y, theta)\n",
    "\n",
    "    return theta, J_history"
   ]
  },
  {
   "cell_type": "markdown",
   "metadata": {},
   "source": [
    "## Minimizing Cost Function using Gradient Descent"
   ]
  },
  {
   "cell_type": "code",
   "execution_count": 6,
   "metadata": {
    "collapsed": true
   },
   "outputs": [],
   "source": [
    "X_padded = np.column_stack((np.ones((m,1)), X)) \n",
    "\n",
    "theta = np.zeros((2, 1)) # initialize fitting parameters"
   ]
  },
  {
   "cell_type": "code",
   "execution_count": 7,
   "metadata": {
    "collapsed": false
   },
   "outputs": [
    {
     "name": "stdout",
     "output_type": "stream",
     "text": [
      "[ 32.07273388]\n"
     ]
    }
   ],
   "source": [
    "# Some gradient descent settings\n",
    "\n",
    "iterations = 1500\n",
    "alpha = 0.01\n",
    "\n",
    "# compute and display initial cost\n",
    "print(computeCost(X_padded, y, theta))"
   ]
  },
  {
   "cell_type": "code",
   "execution_count": 8,
   "metadata": {
    "collapsed": false
   },
   "outputs": [
    {
     "name": "stdout",
     "output_type": "stream",
     "text": [
      "Theta found by gradient descent: \n",
      "-3.630291, 1.166362\n"
     ]
    }
   ],
   "source": [
    "# run gradient descent\n",
    "theta, J_history = gradientDescent(X_padded, y, theta, alpha, iterations)\n",
    "\n",
    "# print theta to screen\n",
    "print('Theta found by gradient descent: ')\n",
    "print(\"{:f}, {:f}\".format(theta[0,0], theta[1,0]))"
   ]
  },
  {
   "cell_type": "code",
   "execution_count": 13,
   "metadata": {
    "collapsed": false
   },
   "outputs": [
    {
     "data": {
      "image/png": "[encoded data removed]",
      "text/plain": [
       "<matplotlib.figure.Figure at 0x7fa8b38>"
      ]
     },
     "metadata": {},
     "output_type": "display_data"
    }
   ],
   "source": [
    "fig = plt.figure();\n",
    "ax = fig.add_subplot(111);\n",
    "ax.plot(X,X_padded.dot(theta),'-', label='Linear regression');\n",
    "ax.plot(X, y, 'x', label= 'Raw Data');\n",
    "ax.legend(loc = 'lower right');"
   ]
  },
  {
   "cell_type": "code",
   "execution_count": 10,
   "metadata": {
    "collapsed": false
   },
   "outputs": [
    {
     "name": "stdout",
     "output_type": "stream",
     "text": [
      "For population = 35,000, we predict a profit of 4519.767868\n",
      "For population = 70,000, we predict a profit of 45342.450129\n"
     ]
    }
   ],
   "source": [
    "predict1 = np.array([1, 3.5]).dot(theta)\n",
    "print(\"For population = 35,000, we predict a profit of {:f}\".format( float(predict1*10000) ))\n",
    "predict2 = np.array([1, 7]).dot(theta)\n",
    "print('For population = 70,000, we predict a profit of {:f}'.format( float(predict2*10000) ))"
   ]
  }
 ],
 "metadata": {
  "anaconda-cloud": {},
  "kernelspec": {
   "display_name": "Python [conda root]",
   "language": "python",
   "name": "conda-root-py"
  },
  "language_info": {
   "codemirror_mode": {
    "name": "ipython",
    "version": 2
   },
   "file_extension": ".py",
   "mimetype": "text/x-python",
   "name": "python",
   "nbconvert_exporter": "python",
   "pygments_lexer": "ipython2",
   "version": "2.7.12"
  }
 },
 "nbformat": 4,
 "nbformat_minor": 1
}
