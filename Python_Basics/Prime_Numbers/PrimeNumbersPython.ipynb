{
 "cells": [
  {
   "cell_type": "markdown",
   "metadata": {},
   "source": [
    "<h1 align=\"center\"> Prime Numbers using Python </h1>"
   ]
  },
  {
   "cell_type": "markdown",
   "metadata": {},
   "source": [
    "## What is a prime number?"
   ]
  },
  {
   "cell_type": "markdown",
   "metadata": {},
   "source": [
    "1. Has to be a natural number (postive integer) \n",
    "2. Divisible by exactly 2 natural numbers.\n",
    "3. 1 is not a prime number"
   ]
  },
  {
   "cell_type": "markdown",
   "metadata": {},
   "source": [
    "Task: Write a program to make a list of all prime numbers less than or equal to 20. "
   ]
  },
  {
   "cell_type": "markdown",
   "metadata": {},
   "source": [
    "## Approach 1: For Loop"
   ]
  },
  {
   "cell_type": "code",
   "execution_count": 8,
   "metadata": {
    "collapsed": false
   },
   "outputs": [],
   "source": [
    "# Initialize a list\n",
    "primes = []\n",
    "for possiblePrime in range(2, 21):\n",
    "    \n",
    "    # Assume number is prime until shown it is not. \n",
    "    isPrime = True\n",
    "    for num in range(2, possiblePrime):\n",
    "        if possiblePrime % num == 0:\n",
    "            isPrime = False\n",
    "      \n",
    "    if isPrime:\n",
    "        primes.append(possiblePrime)"
   ]
  },
  {
   "cell_type": "code",
   "execution_count": 9,
   "metadata": {
    "collapsed": false
   },
   "outputs": [
    {
     "data": {
      "text/plain": [
       "[2, 3, 5, 7, 11, 13, 17, 19]"
      ]
     },
     "execution_count": 9,
     "metadata": {},
     "output_type": "execute_result"
    }
   ],
   "source": [
    "primes"
   ]
  },
  {
   "cell_type": "markdown",
   "metadata": {},
   "source": [
    "## Approach 2: For Loop with Break"
   ]
  },
  {
   "cell_type": "markdown",
   "metadata": {},
   "source": [
    "Only difference is a break statement. Basically once you know that a number isn't prime why should you keep on testing it in the inner loop"
   ]
  },
  {
   "cell_type": "code",
   "execution_count": 10,
   "metadata": {
    "collapsed": true
   },
   "outputs": [],
   "source": [
    "# Initialize a list\n",
    "primes = []\n",
    "for possiblePrime in range(2, 21):\n",
    "    \n",
    "    # Assume number is prime until shown it is not. \n",
    "    isPrime = True\n",
    "    for num in range(2, possiblePrime):\n",
    "        if possiblePrime % num == 0:\n",
    "            isPrime = False\n",
    "            break\n",
    "      \n",
    "    if isPrime:\n",
    "        primes.append(possiblePrime)"
   ]
  },
  {
   "cell_type": "code",
   "execution_count": 11,
   "metadata": {
    "collapsed": false
   },
   "outputs": [
    {
     "data": {
      "text/plain": [
       "[2, 3, 5, 7, 11, 13, 17, 19]"
      ]
     },
     "execution_count": 11,
     "metadata": {},
     "output_type": "execute_result"
    }
   ],
   "source": [
    "primes"
   ]
  },
  {
   "cell_type": "markdown",
   "metadata": {},
   "source": [
    "## Approach 3: For Loop, Break, and Square Root"
   ]
  },
  {
   "cell_type": "markdown",
   "metadata": {},
   "source": [
    "When you are testing whether a nuber is prime, all you are doing is testing whether a number times another number is prime. Eventually you will get to a situation where you will multiply the same prime numbers against each other. \n",
    "\n",
    "Commutative property: When two numbers are multiplied together, the product is the same regardless of the order of the multiplicands. For example 4 * 2 = 2 * 4"
   ]
  },
  {
   "cell_type": "markdown",
   "metadata": {},
   "source": [
    "6 x8 is the same as 8 x 6 (can make a visual on this). The image above is all the factors for 48 (notice it gets repetitive). up a hill and down. communtative property of multiplication). Tipping point happens at the square root of a number."
   ]
  },
  {
   "cell_type": "code",
   "execution_count": 16,
   "metadata": {
    "collapsed": true
   },
   "outputs": [],
   "source": [
    "# Initialize a list\n",
    "primes = []\n",
    "for possiblePrime in range(2, 21):\n",
    "    \n",
    "    # Assume number is prime until shown it is not. \n",
    "    isPrime = True\n",
    "    for num in range(2, int(possiblePrime ** 0.5) + 1):\n",
    "        if possiblePrime % num == 0:\n",
    "            isPrime = False\n",
    "            break\n",
    "      \n",
    "    if isPrime:\n",
    "        primes.append(possiblePrime)"
   ]
  },
  {
   "cell_type": "code",
   "execution_count": 17,
   "metadata": {
    "collapsed": false
   },
   "outputs": [
    {
     "data": {
      "text/plain": [
       "[2, 3, 5, 7, 11, 13, 17, 19]"
      ]
     },
     "execution_count": 17,
     "metadata": {},
     "output_type": "execute_result"
    }
   ],
   "source": [
    "primes"
   ]
  },
  {
   "cell_type": "markdown",
   "metadata": {},
   "source": [
    "## Approach 4: Sieve of Eratosthenes"
   ]
  },
  {
   "cell_type": "code",
   "execution_count": null,
   "metadata": {
    "collapsed": true
   },
   "outputs": [],
   "source": []
  }
 ],
 "metadata": {
  "anaconda-cloud": {},
  "kernelspec": {
   "display_name": "Python [conda root]",
   "language": "python",
   "name": "conda-root-py"
  },
  "language_info": {
   "codemirror_mode": {
    "name": "ipython",
    "version": 2
   },
   "file_extension": ".py",
   "mimetype": "text/x-python",
   "name": "python",
   "nbconvert_exporter": "python",
   "pygments_lexer": "ipython2",
   "version": "2.7.12"
  }
 },
 "nbformat": 4,
 "nbformat_minor": 2
}
