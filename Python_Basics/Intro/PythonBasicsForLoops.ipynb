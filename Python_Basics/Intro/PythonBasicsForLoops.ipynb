{
 "cells": [
  {
   "cell_type": "markdown",
   "metadata": {},
   "source": [
    "## For Loops"
   ]
  },
  {
   "cell_type": "markdown",
   "metadata": {},
   "source": [
    "For loops are a common way to iterate over the elements of a list </br>"
   ]
  },
  {
   "cell_type": "markdown",
   "metadata": {},
   "source": [
    "One unique feature of python is that code blocks are not surrounded by {} begin,end. Instead, python uses indentation, The lines inside a block have to be indented by a tab, or by 4 spaces, relative to the surrounding commands."
   ]
  },
  {
   "cell_type": "markdown",
   "metadata": {},
   "source": [
    "While this might seem unintuitive at first, it encourages writing more readable code, over time, you'd learn to love it!"
   ]
  },
  {
   "cell_type": "code",
   "execution_count": 7,
   "metadata": {
    "collapsed": true
   },
   "outputs": [],
   "source": [
    "# show code after for loop\n",
    "# highlight code and hit tab\n",
    "# nested for loops maybe \n",
    "# talk about for loop counters"
   ]
  },
  {
   "cell_type": "code",
   "execution_count": 8,
   "metadata": {
    "collapsed": true
   },
   "outputs": [],
   "source": [
    "# Assign list to variable\n",
    "numbers = [1, 2, 3, 4, 5]"
   ]
  },
  {
   "cell_type": "code",
   "execution_count": 9,
   "metadata": {
    "collapsed": false
   },
   "outputs": [
    {
     "name": "stdout",
     "output_type": "stream",
     "text": [
      "1\n",
      "2\n",
      "3\n",
      "4\n",
      "5\n"
     ]
    }
   ],
   "source": [
    "# for loop used to iterate through a list\n",
    "# each time through the list, the number will be equal to the next time\n",
    "# through the list\n",
    "# # first time through it will be equal to 1, next time through it will be equal to 2 and so on\n",
    "\n",
    "# it is creating a variable \n",
    "# eachnumber becomes a variable that each step of the way, \n",
    "# these numbers are being assigned to this variable eachNumber\n",
    "for number in numbers: \n",
    "    print(number)"
   ]
  },
  {
   "cell_type": "markdown",
   "metadata": {},
   "source": [
    "### Break and Continue"
   ]
  },
  {
   "cell_type": "code",
   "execution_count": 10,
   "metadata": {
    "collapsed": true
   },
   "outputs": [],
   "source": [
    "# break and continue keywords when working with lists \n",
    "# break keyword will completely break out of loop \n",
    "\n",
    "# continue keyword will move onto the next iteration of the loop \n",
    "# continue used for ignoring certain values, but not break out of loop \n",
    "# completely\n"
   ]
  },
  {
   "cell_type": "markdown",
   "metadata": {},
   "source": [
    "### Python 2 vs Python 3"
   ]
  },
  {
   "cell_type": "code",
   "execution_count": 11,
   "metadata": {
    "collapsed": true
   },
   "outputs": [],
   "source": [
    "# range\n",
    "# python 2 xrange and range are same\n",
    "# python 2 is list \n",
    "# in python 2 long ass list are slow\n",
    "# xrange long as number is faster because it is what is called a generator"
   ]
  },
  {
   "cell_type": "markdown",
   "metadata": {},
   "source": [
    "### Emunerate"
   ]
  },
  {
   "cell_type": "code",
   "execution_count": 12,
   "metadata": {
    "collapsed": false
   },
   "outputs": [
    {
     "name": "stdout",
     "output_type": "stream",
     "text": [
      "0 steve\n",
      "1 rachel\n",
      "2 michael\n",
      "3 adam\n",
      "4 monica\n"
     ]
    }
   ],
   "source": [
    "# Range forms a list. \n",
    "# Mention difference between python 2 and 3 for range function\n",
    "# mention xrange in python 2, \n",
    "# mention enumerate for loop \n",
    "\n",
    "bunnies = ['steve', 'rachel', 'michael', 'adam', 'monica']\n",
    "for index, bunny in enumerate(bunnies):\n",
    "    print(index,bunny)"
   ]
  },
  {
   "cell_type": "markdown",
   "metadata": {},
   "source": [
    "**if this tutorial doesn't cover what you are looking for, please leave a comment on the youtube video and I will try to cover what you are interested in. (Please subscribe if you can!)**"
   ]
  },
  {
   "cell_type": "markdown",
   "metadata": {},
   "source": [
    "https://www.youtube.com/watch?v=JqGjkNzzU4s"
   ]
  },
  {
   "cell_type": "markdown",
   "metadata": {},
   "source": [
    "Relevent questions to answer"
   ]
  },
  {
   "cell_type": "markdown",
   "metadata": {},
   "source": [
    "https://www.quora.com/How-to-count-the-number-of-unique-words-present-in-a-text-file-in-Python-without-using-set"
   ]
  },
  {
   "cell_type": "markdown",
   "metadata": {},
   "source": [
    "https://www.quora.com/I-need-to-find-the-most-commonly-used-unique-words-in-large-sets-of-text-How-should-I-go-about-doing-this-using-Python"
   ]
  },
  {
   "cell_type": "code",
   "execution_count": null,
   "metadata": {
    "collapsed": true
   },
   "outputs": [],
   "source": []
  }
 ],
 "metadata": {
  "anaconda-cloud": {},
  "kernelspec": {
   "display_name": "Python [conda env:py36]",
   "language": "python",
   "name": "conda-env-py36-py"
  },
  "language_info": {
   "codemirror_mode": {
    "name": "ipython",
    "version": 3
   },
   "file_extension": ".py",
   "mimetype": "text/x-python",
   "name": "python",
   "nbconvert_exporter": "python",
   "pygments_lexer": "ipython3",
   "version": "3.6.1"
  }
 },
 "nbformat": 4,
 "nbformat_minor": 1
}
