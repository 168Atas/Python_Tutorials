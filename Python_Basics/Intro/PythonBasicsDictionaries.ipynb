{
 "cells": [
  {
   "cell_type": "markdown",
   "metadata": {},
   "source": [
    "<h1 align=\"center\"> Dictionaries </h1>"
   ]
  },
  {
   "cell_type": "markdown",
   "metadata": {},
   "source": [
    "Dictionaries, also called \"hash tables\" are unordered data structures that map keys into values. The value can be anything (lists, functions, strings, anything). The key has to be immutable, for example, numbers, strings or tuples. A key can appear only once, which means that the keys form a set."
   ]
  },
  {
   "cell_type": "markdown",
   "metadata": {},
   "source": [
    "Keys have to be unique. \n",
    "<br>\n",
    "Values can be just about anything "
   ]
  },
  {
   "cell_type": "markdown",
   "metadata": {},
   "source": [
    "dictionary: word we look up is key, look up is definition (value)"
   ]
  },
  {
   "cell_type": "code",
   "execution_count": 44,
   "metadata": {
    "collapsed": false
   },
   "outputs": [],
   "source": [
    "# Defining a dictionary\n",
    "webstersDict = {'person': 'a human being, whether an adult or child', 'marathon': 'a running race that is about 26 miles', 'resist': ' to remain strong against the force or effect of (something)', 'run': 'to move with haste; act quickly'}"
   ]
  },
  {
   "cell_type": "code",
   "execution_count": 43,
   "metadata": {
    "collapsed": false
   },
   "outputs": [
    {
     "data": {
      "text/plain": [
       "{'Marathon': 'a running race that is about 26 miles',\n",
       " 'person': 'a human being, whether an adult or child',\n",
       " 'resist': ' to remain strong against the force or effect of (something)',\n",
       " 'run': 'to move with haste; act quickly'}"
      ]
     },
     "execution_count": 43,
     "metadata": {},
     "output_type": "execute_result"
    }
   ],
   "source": [
    "webstersDict"
   ]
  },
  {
   "cell_type": "markdown",
   "metadata": {},
   "source": [
    "## Accessing Values in a Dictionary"
   ]
  },
  {
   "cell_type": "code",
   "execution_count": 47,
   "metadata": {
    "collapsed": false
   },
   "outputs": [
    {
     "data": {
      "text/plain": [
       "'a running race that is about 26 miles'"
      ]
     },
     "execution_count": 47,
     "metadata": {},
     "output_type": "execute_result"
    }
   ],
   "source": [
    "# Finding out the meaning of the word marathon\n",
    "# dictionary[key]\n",
    "webstersDict['marathon']"
   ]
  },
  {
   "cell_type": "markdown",
   "metadata": {},
   "source": [
    "## Updating Dictionary"
   ]
  },
  {
   "cell_type": "code",
   "execution_count": null,
   "metadata": {
    "collapsed": true
   },
   "outputs": [],
   "source": [
    "# add new key value pair to dictionary\n",
    "webstersDict['shoe'] = 'an external covering for the human foot'\n",
    "\n",
    "# Removing key from dictionary\n",
    "del webstersDict['resist']"
   ]
  },
  {
   "cell_type": "code",
   "execution_count": 5,
   "metadata": {
    "collapsed": false
   },
   "outputs": [],
   "source": [
    "# incorporate into get example and such below. \n",
    "storyCount = {'is': 100, 'the': 90, 'Michael': 12, 'runs': 5}"
   ]
  },
  {
   "cell_type": "markdown",
   "metadata": {},
   "source": [
    "## Not Everything can Be Used as a Key"
   ]
  },
  {
   "cell_type": "markdown",
   "metadata": {},
   "source": [
    "Only immutable objects can be used as keys. Lists cannot be used as keys, but tuples, numbers, and strings can."
   ]
  },
  {
   "cell_type": "code",
   "execution_count": 48,
   "metadata": {
    "collapsed": false
   },
   "outputs": [
    {
     "ename": "TypeError",
     "evalue": "unhashable type: 'list'",
     "output_type": "error",
     "traceback": [
      "\u001b[0;31m---------------------------------------------------------------------------\u001b[0m",
      "\u001b[0;31mTypeError\u001b[0m                                 Traceback (most recent call last)",
      "\u001b[0;32m<ipython-input-48-95ef7f324c79>\u001b[0m in \u001b[0;36m<module>\u001b[0;34m()\u001b[0m\n\u001b[0;32m----> 1\u001b[0;31m \u001b[0mwebstersDict\u001b[0m\u001b[1;33m[\u001b[0m\u001b[1;33m[\u001b[0m\u001b[1;34m'sock'\u001b[0m\u001b[1;33m]\u001b[0m\u001b[1;33m]\u001b[0m \u001b[1;33m=\u001b[0m \u001b[1;34m'a short stocking usually reaching to the calf or just above the ankle.'\u001b[0m\u001b[1;33m\u001b[0m\u001b[0m\n\u001b[0m",
      "\u001b[0;31mTypeError\u001b[0m: unhashable type: 'list'"
     ]
    }
   ],
   "source": [
    "webstersDict[['sock']] = 'a short stocking usually reaching to the calf or just above the ankle.'"
   ]
  },
  {
   "cell_type": "markdown",
   "metadata": {},
   "source": [
    "## Returning Values for a Given Key using the get() Method"
   ]
  },
  {
   "cell_type": "markdown",
   "metadata": {},
   "source": []
  },
  {
   "cell_type": "code",
   "execution_count": null,
   "metadata": {
    "collapsed": true
   },
   "outputs": [],
   "source": [
    "\n",
    "# if key doesnt exist, \n",
    "# get method and use case. \n",
    "# specify default method for keys that dont exist. \n",
    "\n",
    "#\n",
    "# update method, update more than key value pair at a time \n",
    "storyCount.update({'name': 'Jane', 'age': 26, 'phone': '555-5555'})\n",
    "\n",
    "# pop remove key, but it will key the value for you to use currently which will be used in future youtube videos. \n",
    "age = storyCount.pop('age')\n",
    "print(student)\n",
    "print(age)\n",
    "\n",
    "# return keys in dictionary\n",
    "print(storyCount.keys())\n",
    "\n",
    "# return values in dictionary\n",
    "print(storyCount.values())\n",
    "\n",
    "# iterate through keys\n",
    "for key in student: \n",
    "    print(key)\n",
    "\n",
    "# to loop through keys and values\n",
    "# return key value pairs (tuples)\n",
    "for key, value in webstersDict.items():\n",
    "    print(key, value)\n"
   ]
  },
  {
   "cell_type": "markdown",
   "metadata": {},
   "source": [
    "### Task: Word Count"
   ]
  },
  {
   "cell_type": "markdown",
   "metadata": {},
   "source": [
    "1. Compute the number of times each word occurs in the following text.\n",
    "<br>\n",
    "a) Clean punctuation and transform all words to lower case. (done for you)\n",
    "<br>\n",
    "b) Output a list of word,count pairs, one pair per line sorted from highest to lowest count (to do)."
   ]
  },
  {
   "cell_type": "code",
   "execution_count": 29,
   "metadata": {
    "collapsed": false
   },
   "outputs": [],
   "source": [
    "Text=\"\"\"\n",
    "bands which have connected them with another, and to assume among the\n",
    "powers of the earth, the separate and equal station to which the Laws\n",
    "of Nature and of Nature's God entitle them, a decent respect to the\n",
    "opinions of mankind requires that they should declare the causes which\n",
    "impel them to the separation.  We hold these truths to be\n",
    "self-evident, that all men are created equal, that they are endowed by\n",
    "their Creator with certain unalienable Rights, that among these are\n",
    "Life, Liberty and the pursuit of Happiness.--That to secure these\n",
    "rights, Governments are instituted among Men, deriving their just\n",
    "powers from the consent of the governed, --That whenever any Form of\n",
    "Government becomes destructive of these ends, it is the Right of the\n",
    "People to alter or to abolish it, and to institute new Government,\n",
    "laying its foundation on such principles and organizing its powers in\n",
    "such form, as to them shall seem most likely to effect their Safety\n",
    "and Happiness. \"\"\""
   ]
  },
  {
   "cell_type": "code",
   "execution_count": 30,
   "metadata": {
    "collapsed": true
   },
   "outputs": [],
   "source": [
    "# 1. Cleaning text and lower casing all words\n",
    "for char in '-.,\\n':\n",
    "    Text=Text.replace(char,' ')\n",
    "Text = Text.lower()"
   ]
  },
  {
   "cell_type": "code",
   "execution_count": 31,
   "metadata": {
    "collapsed": false
   },
   "outputs": [
    {
     "name": "stdout",
     "output_type": "stream",
     "text": [
      " bands which have connected them with another  and to assume among the powers of the earth  the separate and equal station to which the laws of nature and of nature's god entitle them  a decent respect to the opinions of mankind requires that they should declare the causes which impel them to the separation   we hold these truths to be self evident  that all men are created equal  that they are endowed by their creator with certain unalienable rights  that among these are life  liberty and the pursuit of happiness   that to secure these rights  governments are instituted among men  deriving their just powers from the consent of the governed    that whenever any form of government becomes destructive of these ends  it is the right of the people to alter or to abolish it  and to institute new government  laying its foundation on such principles and organizing its powers in such form  as to them shall seem most likely to effect their safety and happiness  \n"
     ]
    }
   ],
   "source": [
    "print(Text)"
   ]
  },
  {
   "cell_type": "code",
   "execution_count": 32,
   "metadata": {
    "collapsed": false
   },
   "outputs": [
    {
     "name": "stdout",
     "output_type": "stream",
     "text": [
      "['bands', 'which', 'have', 'connected', 'them', 'with', 'another', 'and', 'to', 'assume', 'among', 'the', 'powers', 'of', 'the', 'earth', 'the', 'separate', 'and', 'equal', 'station', 'to', 'which', 'the', 'laws', 'of', 'nature', 'and', 'of', \"nature's\", 'god', 'entitle', 'them', 'a', 'decent', 'respect', 'to', 'the', 'opinions', 'of', 'mankind', 'requires', 'that', 'they', 'should', 'declare', 'the', 'causes', 'which', 'impel', 'them', 'to', 'the', 'separation', 'we', 'hold', 'these', 'truths', 'to', 'be', 'self', 'evident', 'that', 'all', 'men', 'are', 'created', 'equal', 'that', 'they', 'are', 'endowed', 'by', 'their', 'creator', 'with', 'certain', 'unalienable', 'rights', 'that', 'among', 'these', 'are', 'life', 'liberty', 'and', 'the', 'pursuit', 'of', 'happiness', 'that', 'to', 'secure', 'these', 'rights', 'governments', 'are', 'instituted', 'among', 'men', 'deriving', 'their', 'just', 'powers', 'from', 'the', 'consent', 'of', 'the', 'governed', 'that', 'whenever', 'any', 'form', 'of', 'government', 'becomes', 'destructive', 'of', 'these', 'ends', 'it', 'is', 'the', 'right', 'of', 'the', 'people', 'to', 'alter', 'or', 'to', 'abolish', 'it', 'and', 'to', 'institute', 'new', 'government', 'laying', 'its', 'foundation', 'on', 'such', 'principles', 'and', 'organizing', 'its', 'powers', 'in', 'such', 'form', 'as', 'to', 'them', 'shall', 'seem', 'most', 'likely', 'to', 'effect', 'their', 'safety', 'and', 'happiness']\n"
     ]
    }
   ],
   "source": [
    "# Changing string to get word list\n",
    "Text_list = Text.split()\n",
    "print(Text_list)"
   ]
  },
  {
   "cell_type": "code",
   "execution_count": 33,
   "metadata": {
    "collapsed": false
   },
   "outputs": [
    {
     "name": "stdout",
     "output_type": "stream",
     "text": [
      "[(12, 'the'), (11, 'to'), (9, 'of'), (7, 'and'), (6, 'that'), (4, 'these'), (4, 'them'), (4, 'are'), (3, 'which'), (3, 'their'), (3, 'powers'), (3, 'among'), (2, 'with'), (2, 'they'), (2, 'such'), (2, 'rights'), (2, 'men'), (2, 'its'), (2, 'it'), (2, 'happiness'), (2, 'government'), (2, 'form'), (2, 'equal'), (1, 'whenever'), (1, 'we'), (1, 'unalienable'), (1, 'truths'), (1, 'station'), (1, 'should'), (1, 'shall'), (1, 'separation'), (1, 'separate'), (1, 'self'), (1, 'seem'), (1, 'secure'), (1, 'safety'), (1, 'right'), (1, 'respect'), (1, 'requires'), (1, 'pursuit'), (1, 'principles'), (1, 'people'), (1, 'organizing'), (1, 'or'), (1, 'opinions'), (1, 'on'), (1, 'new'), (1, \"nature's\"), (1, 'nature'), (1, 'most'), (1, 'mankind'), (1, 'likely'), (1, 'life'), (1, 'liberty'), (1, 'laying'), (1, 'laws'), (1, 'just'), (1, 'is'), (1, 'instituted'), (1, 'institute'), (1, 'in'), (1, 'impel'), (1, 'hold'), (1, 'have'), (1, 'governments'), (1, 'governed'), (1, 'god'), (1, 'from'), (1, 'foundation'), (1, 'evident'), (1, 'entitle'), (1, 'ends'), (1, 'endowed'), (1, 'effect'), (1, 'earth'), (1, 'destructive'), (1, 'deriving'), (1, 'declare'), (1, 'decent'), (1, 'creator'), (1, 'created'), (1, 'consent'), (1, 'connected'), (1, 'certain'), (1, 'causes'), (1, 'by'), (1, 'becomes'), (1, 'be'), (1, 'bands'), (1, 'assume'), (1, 'as'), (1, 'any'), (1, 'another'), (1, 'alter'), (1, 'all'), (1, 'abolish'), (1, 'a')]\n"
     ]
    }
   ],
   "source": [
    "# 1. Using for loops\n",
    "\n",
    "# Initializaing Dictionary\n",
    "d = {}\n",
    "\n",
    "# counting number of times each word comes up in list of words (in dictioary)\n",
    "for item in Text_list: \n",
    "    d[item] = d.get(item, 0) + 1\n",
    "\n",
    "# this next bit of code reverses the key and values so they can be sorted\n",
    "# using tuples\n",
    "word_freq = []\n",
    "for key, value in d.items():\n",
    "    word_freq.append((value, key))\n",
    "word_freq.sort(reverse=True)\n",
    "print word_freq"
   ]
  },
  {
   "cell_type": "code",
   "execution_count": 28,
   "metadata": {
    "collapsed": false
   },
   "outputs": [
    {
     "data": {
      "text/plain": [
       "[('the', 12),\n",
       " ('to', 11),\n",
       " ('of', 9),\n",
       " ('and', 7),\n",
       " ('that', 6),\n",
       " ('them', 4),\n",
       " ('are', 4),\n",
       " ('these', 4),\n",
       " ('among', 3),\n",
       " ('their', 3),\n",
       " ('powers', 3),\n",
       " ('which', 3),\n",
       " ('its', 2),\n",
       " ('government', 2),\n",
       " ('they', 2),\n",
       " ('happiness', 2),\n",
       " ('men', 2),\n",
       " ('equal', 2),\n",
       " ('form', 2),\n",
       " ('with', 2),\n",
       " ('rights', 2),\n",
       " ('it', 2),\n",
       " ('such', 2),\n",
       " ('opinions', 1),\n",
       " ('all', 1),\n",
       " ('just', 1),\n",
       " ('consent', 1),\n",
       " ('earth', 1),\n",
       " ('causes', 1),\n",
       " ('should', 1),\n",
       " ('alter', 1),\n",
       " ('bands', 1),\n",
       " ('governments', 1),\n",
       " ('laying', 1),\n",
       " ('right', 1),\n",
       " ('people', 1),\n",
       " ('truths', 1),\n",
       " ('ends', 1),\n",
       " ('likely', 1),\n",
       " (\"nature's\", 1),\n",
       " ('organizing', 1),\n",
       " ('principles', 1),\n",
       " ('god', 1),\n",
       " ('shall', 1),\n",
       " ('liberty', 1),\n",
       " ('unalienable', 1),\n",
       " ('safety', 1),\n",
       " ('new', 1),\n",
       " ('foundation', 1),\n",
       " ('we', 1),\n",
       " ('nature', 1),\n",
       " ('pursuit', 1),\n",
       " ('separation', 1),\n",
       " ('by', 1),\n",
       " ('on', 1),\n",
       " ('created', 1),\n",
       " ('institute', 1),\n",
       " ('or', 1),\n",
       " ('secure', 1),\n",
       " ('another', 1),\n",
       " ('respect', 1),\n",
       " ('from', 1),\n",
       " ('decent', 1),\n",
       " ('creator', 1),\n",
       " ('station', 1),\n",
       " ('entitle', 1),\n",
       " ('certain', 1),\n",
       " ('life', 1),\n",
       " ('becomes', 1),\n",
       " ('instituted', 1),\n",
       " ('be', 1),\n",
       " ('hold', 1),\n",
       " ('evident', 1),\n",
       " ('impel', 1),\n",
       " ('assume', 1),\n",
       " ('declare', 1),\n",
       " ('endowed', 1),\n",
       " ('is', 1),\n",
       " ('as', 1),\n",
       " ('have', 1),\n",
       " ('in', 1),\n",
       " ('seem', 1),\n",
       " ('any', 1),\n",
       " ('self', 1),\n",
       " ('abolish', 1),\n",
       " ('separate', 1),\n",
       " ('effect', 1),\n",
       " ('deriving', 1),\n",
       " ('most', 1),\n",
       " ('connected', 1),\n",
       " ('mankind', 1),\n",
       " ('destructive', 1),\n",
       " ('a', 1),\n",
       " ('whenever', 1),\n",
       " ('governed', 1),\n",
       " ('requires', 1),\n",
       " ('laws', 1)]"
      ]
     },
     "execution_count": 28,
     "metadata": {},
     "output_type": "execute_result"
    }
   ],
   "source": [
    "# 2. Solution using inbuilt methods\n",
    "# Probably not practical to expect for new programmers to Python\n",
    "\n",
    "# initializing a dictionary\n",
    "d = {};\n",
    "\n",
    "for key in Text_list: \n",
    "    d[key] = d.get(key, 0) + 1\n",
    "\n",
    "sorted(d.items(), key = lambda x: x[1], reverse = True)"
   ]
  },
  {
   "cell_type": "markdown",
   "metadata": {},
   "source": [
    "**if this tutorial doesn't cover what you are looking for, please leave a comment on the youtube video and I will try to cover what you are interested in. (Please subscribe if you can!)**"
   ]
  },
  {
   "cell_type": "markdown",
   "metadata": {},
   "source": [
    "https://youtu.be/8fswDyk9UIY"
   ]
  }
 ],
 "metadata": {
  "anaconda-cloud": {},
  "kernelspec": {
   "display_name": "Python [default]",
   "language": "python",
   "name": "python2"
  },
  "language_info": {
   "codemirror_mode": {
    "name": "ipython",
    "version": 2
   },
   "file_extension": ".py",
   "mimetype": "text/x-python",
   "name": "python",
   "nbconvert_exporter": "python",
   "pygments_lexer": "ipython2",
   "version": "2.7.12"
  }
 },
 "nbformat": 4,
 "nbformat_minor": 1
}
