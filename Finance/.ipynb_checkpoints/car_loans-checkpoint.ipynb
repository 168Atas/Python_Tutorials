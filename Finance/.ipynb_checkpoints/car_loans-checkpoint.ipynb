{
 "cells": [
  {
   "cell_type": "code",
   "execution_count": 1,
   "metadata": {
    "collapsed": true
   },
   "outputs": [],
   "source": [
    "# Import Libraries\n",
    "\n",
    "%matplotlib inline\n",
    "import matplotlib.pyplot as plt\n",
    "import numpy as np\n",
    "import pandas as pd"
   ]
  },
  {
   "cell_type": "markdown",
   "metadata": {},
   "source": [
    "## Car Loan"
   ]
  },
  {
   "cell_type": "markdown",
   "metadata": {},
   "source": [
    "These loans are called amortizing loans - which means that the mathematical whizzes at your bank have worked them out so that you pay a set amount each month and at the end of your loan term, you’ll have paid off both interest and principal.\n",
    "\n",
    "You can use an interest calculator to work out how much interest you’re paying all up, or, if you’d rather do it by hand, here’s how:"
   ]
  },
  {
   "cell_type": "markdown",
   "metadata": {},
   "source": [
    "<b>(interest rate / number of payments) x (loan principal) = interest</b>"
   ]
  },
  {
   "cell_type": "markdown",
   "metadata": {},
   "source": [
    "1-) Divide your interest rate by the number of payments you’ll make in the year (interest rates are expressed annually). So, for example, if you’re making monthly payments, divide by 12."
   ]
  },
  {
   "cell_type": "markdown",
   "metadata": {},
   "source": [
    "2-) Multiply it by the balance of your loan, which for the first payment, will be your whole principal amount.\n",
    "\n",
    "This gives you the amount of interest you pay the first month.\n",
    "\n",
    "So for example, on a personal loan of $30,000 over a period of 6 years at 8.40% p.a. and making monthly repayments:\n",
    "\n",
    "(0.084 / 12) * 30,000 = 210"
   ]
  },
  {
   "cell_type": "markdown",
   "metadata": {},
   "source": [
    "Because you’ve now begun to pay off your principal, to work out the interest you pay in the following months, you need to first calculate your new balance. So:"
   ]
  },
  {
   "cell_type": "markdown",
   "metadata": {},
   "source": [
    "<b>principal - (repayment - interest) = new balance</b>"
   ]
  },
  {
   "cell_type": "markdown",
   "metadata": {},
   "source": [
    "1-) Minus the interest you just calculated from the amount you repaid. This gives you the amount that you have paid off the loan principal."
   ]
  },
  {
   "cell_type": "markdown",
   "metadata": {},
   "source": [
    "Take this amount away from the original principal to find the new balance of your loan"
   ]
  },
  {
   "cell_type": "markdown",
   "metadata": {},
   "source": [
    "2-) Take this amount away from the original principal to find the new balance of your loan. "
   ]
  },
  {
   "cell_type": "markdown",
   "metadata": {},
   "source": [
    "To work out ongogin interest payments, the easiest way is to break it up into a table. So using the above calculation, your calculations might look like this.\n",
    "\n",
    "Keeping in mind that doing the calculations yourself means slight discrepancies due to rounding and human error, this should give you a pretty good idea of what you’re paying in interest each month."
   ]
  },
  {
   "cell_type": "markdown",
   "metadata": {},
   "source": [
    "# Calculating Refiancing Payments and Such"
   ]
  },
  {
   "cell_type": "markdown",
   "metadata": {},
   "source": [
    "27k. \n",
    "\n",
    "3.59% \n",
    "\n",
    "72 months. \n",
    "\n",
    "Was 6.99%"
   ]
  },
  {
   "cell_type": "markdown",
   "metadata": {},
   "source": [
    "https://superuser.com/questions/871404/what-would-be-the-the-mathematical-equivalent-of-this-excel-formula-pmt"
   ]
  },
  {
   "cell_type": "markdown",
   "metadata": {},
   "source": [
    "California taxes vehicle purchases before rebates or incentives are applied to the price, which means that the buyer in this scenario will pay taxes on the vehicle as if it cost the full $10,000."
   ]
  },
  {
   "cell_type": "markdown",
   "metadata": {},
   "source": [
    "# Question \n",
    "\n",
    "I am interested in buying a 2019 Toyota Sienna for $31,115. I am curious how much it will cost me each month if I decide on financing my vehicle (take out a loan). This exercise is really about understanding how much of your equated monthly installment (EMI) is going toward paying off the loan and how much is about paying off the principal of the loan.  \n",
    "\n",
    "Assume a dealership comes back with the following loan terms. APR of 4.37 (annual percentage rate) for 72 months\n",
    "\n",
    "This blog will show you how much it costs and how much the loan payments are. "
   ]
  },
  {
   "cell_type": "markdown",
   "metadata": {},
   "source": [
    "https://economictimes.indiatimes.com/definition/emi"
   ]
  },
  {
   "cell_type": "markdown",
   "metadata": {},
   "source": [
    "## Calculating a Monthly Payment (Simplified)"
   ]
  },
  {
   "cell_type": "code",
   "execution_count": 4,
   "metadata": {
    "collapsed": true
   },
   "outputs": [],
   "source": [
    "# California sales tax 7.5%\n",
    "P = 31115 * (1.075)\n",
    "\n",
    "r = 0.0702 / 12\n",
    "n = 60"
   ]
  },
  {
   "cell_type": "code",
   "execution_count": 5,
   "metadata": {
    "collapsed": false
   },
   "outputs": [
    {
     "data": {
      "text/plain": [
       "662.638532377825"
      ]
     },
     "execution_count": 5,
     "metadata": {},
     "output_type": "execute_result"
    }
   ],
   "source": [
    "numerator = (r *((1 + r)**(n)) )\n",
    "denominator = ((1 + r)**(n)) - 1\n",
    "\n",
    "emi = P * (numerator / denominator)\n",
    "emi"
   ]
  },
  {
   "cell_type": "markdown",
   "metadata": {},
   "source": [
    "## Calculating a Monthly Payment (with some fees included)"
   ]
  },
  {
   "cell_type": "code",
   "execution_count": 6,
   "metadata": {
    "collapsed": true
   },
   "outputs": [],
   "source": [
    "# Price + Tax + Emissions + Registration + Plate + Documentation\n",
    "P = 31115 + (32615 * 0.0975) + 50 + 200 + 65 + 80\n",
    "\n",
    "r = 0.0702 / 12\n",
    "n = 60"
   ]
  },
  {
   "cell_type": "code",
   "execution_count": 7,
   "metadata": {
    "collapsed": false
   },
   "outputs": [
    {
     "data": {
      "text/plain": [
       "34689.9625"
      ]
     },
     "execution_count": 7,
     "metadata": {},
     "output_type": "execute_result"
    }
   ],
   "source": [
    "P"
   ]
  },
  {
   "cell_type": "code",
   "execution_count": 8,
   "metadata": {
    "collapsed": false
   },
   "outputs": [
    {
     "data": {
      "text/plain": [
       "687.2302176619154"
      ]
     },
     "execution_count": 8,
     "metadata": {},
     "output_type": "execute_result"
    }
   ],
   "source": [
    "numerator = (r *((1 + r)**(n)) )\n",
    "denominator = ((1 + r)**(n)) - 1\n",
    "\n",
    "emi = P * (numerator / denominator)\n",
    "emi"
   ]
  },
  {
   "cell_type": "code",
   "execution_count": 12,
   "metadata": {
    "collapsed": false
   },
   "outputs": [
    {
     "data": {
      "text/plain": [
       "('The difference between the two is: ', 24.59)"
      ]
     },
     "execution_count": 12,
     "metadata": {},
     "output_type": "execute_result"
    }
   ],
   "source": [
    "'The difference between the two is: ', np.round(687.23 - 662.64,2)"
   ]
  },
  {
   "cell_type": "markdown",
   "metadata": {
    "collapsed": false
   },
   "source": [
    "## How Interest Rates Affects Monthly Payments"
   ]
  },
  {
   "cell_type": "code",
   "execution_count": 10,
   "metadata": {
    "collapsed": false
   },
   "outputs": [
    {
     "data": {
      "text/plain": [
       "0.01884"
      ]
     },
     "execution_count": 10,
     "metadata": {},
     "output_type": "execute_result"
    }
   ],
   "source": [
    "(1884/ 5) / 20000"
   ]
  },
  {
   "cell_type": "code",
   "execution_count": 11,
   "metadata": {
    "collapsed": false
   },
   "outputs": [
    {
     "data": {
      "text/plain": [
       "0.23772763121156398"
      ]
     },
     "execution_count": 11,
     "metadata": {},
     "output_type": "execute_result"
    }
   ],
   "source": [
    "(12 * 687.2302176619154) / (P)"
   ]
  },
  {
   "cell_type": "markdown",
   "metadata": {},
   "source": [
    "## Calculate Total Interest Paid"
   ]
  },
  {
   "cell_type": "markdown",
   "metadata": {},
   "source": [
    "Here are the steps to do this\n",
    "\n",
    "1-) Divide your interest rate by the number of payments (12) you'll make in the year (interest rates are expressed annually). \n"
   ]
  },
  {
   "cell_type": "code",
   "execution_count": 14,
   "metadata": {
    "collapsed": false
   },
   "outputs": [
    {
     "data": {
      "text/plain": [
       "202.93628062500002"
      ]
     },
     "execution_count": 14,
     "metadata": {},
     "output_type": "execute_result"
    }
   ],
   "source": [
    "# Calculate one month of interest\n",
    "P = 34689.9625\n",
    "r = 0.0702 / 12\n",
    "\n",
    "r * P"
   ]
  },
  {
   "cell_type": "markdown",
   "metadata": {},
   "source": [
    "## How Much Interest and Principal you are Paying each Month"
   ]
  },
  {
   "cell_type": "code",
   "execution_count": 15,
   "metadata": {
    "collapsed": true
   },
   "outputs": [],
   "source": [
    "principal = P\n",
    "term = 60\n",
    "\n",
    "def calc_interest(principal, emi, interest_rate = 0.0702):\n",
    "    \n",
    "    # Assuming no fractional interst on a loan \n",
    "    interest_paid = np.floor( ((interest_rate / 12) * principal ) * 100) / 100\n",
    "    \n",
    "    principal_paid = np.round(emi - interest_paid, 2)\n",
    "    \n",
    "    new_balance = np.round(principal - principal_paid,2)\n",
    "    \n",
    "    return(emi, interest_paid, principal_paid, new_balance)"
   ]
  },
  {
   "cell_type": "code",
   "execution_count": 21,
   "metadata": {
    "collapsed": false
   },
   "outputs": [],
   "source": [
    "import numpy as np\n",
    "import pandas as pd\n",
    "\n",
    "principal = P\n",
    "term = 60\n",
    "\n",
    "def calc_interest(principal, emi, interest_rate = 0.0702):\n",
    "    \n",
    "    # Assuming no fractional interst on a loan \n",
    "    interest_paid = np.floor( ((interest_rate / 12) * principal ) * 100) / 100\n",
    "    \n",
    "    principal_paid = np.round(emi - interest_paid, 2)\n",
    "    \n",
    "    new_balance = np.round(principal - principal_paid,2)\n",
    "    \n",
    "    return(emi, interest_paid, principal_paid, new_balance)\n",
    "\n",
    "payment_lists = []\n",
    "for month in range(1, term + 1):\n",
    "\n",
    "    emi, interest_paid, principal_paid, new_balance = calc_interest(principal, emi)\n",
    "\n",
    "    payment_lists.append([month, principal, emi, interest_paid, principal_paid, new_balance])\n",
    "\n",
    "    principal = np.round(new_balance,2)"
   ]
  },
  {
   "cell_type": "code",
   "execution_count": 22,
   "metadata": {
    "collapsed": true
   },
   "outputs": [],
   "source": [
    "payment_table = pd.DataFrame(payment_lists, columns = ['Month',\n",
    "                                                       'Starting Balance',\n",
    "                                                       'Repayment',\n",
    "                                                       'Interest Paid',\n",
    "                                                       'Principal Paid',\n",
    "                                                       'New Balance'])"
   ]
  },
  {
   "cell_type": "code",
   "execution_count": 23,
   "metadata": {
    "collapsed": false
   },
   "outputs": [
    {
     "data": {
      "text/plain": [
       "6543.509999999999"
      ]
     },
     "execution_count": 23,
     "metadata": {},
     "output_type": "execute_result"
    }
   ],
   "source": [
    "payment_table['Interest Paid'].sum()"
   ]
  },
  {
   "cell_type": "code",
   "execution_count": null,
   "metadata": {
    "collapsed": true
   },
   "outputs": [],
   "source": []
  },
  {
   "cell_type": "code",
   "execution_count": 24,
   "metadata": {
    "collapsed": false
   },
   "outputs": [
    {
     "data": {
      "text/plain": [
       "6543.51"
      ]
     },
     "execution_count": 24,
     "metadata": {},
     "output_type": "execute_result"
    }
   ],
   "source": [
    "np.round(payment_table['Interest Paid'].sum(), 2)"
   ]
  },
  {
   "cell_type": "markdown",
   "metadata": {},
   "source": [
    "## Loan and Principal"
   ]
  },
  {
   "cell_type": "markdown",
   "metadata": {},
   "source": [
    "Legend outside plot: https://stackoverflow.com/questions/4700614/how-to-put-the-legend-out-of-the-plot\n"
   ]
  },
  {
   "cell_type": "markdown",
   "metadata": {},
   "source": [
    "https://stackoverflow.com/questions/21918718/how-to-label-certain-x-values"
   ]
  },
  {
   "cell_type": "code",
   "execution_count": 25,
   "metadata": {
    "collapsed": false,
    "scrolled": true
   },
   "outputs": [
    {
     "data": {
      "image/png": "[encoded data removed]",
      "text/plain": [
       "<Figure size 720x360 with 1 Axes>"
      ]
     },
     "metadata": {
      "needs_background": "light"
     },
     "output_type": "display_data"
    }
   ],
   "source": [
    "fig, axes = plt.subplots(nrows = 1, ncols = 1, figsize=(10, 5) )\n",
    "axes.plot(payment_table['Month'], payment_table['Principal Paid'], c = 'b', label = 'Principal');\n",
    "axes.plot(payment_table['Month'], payment_table['Interest Paid'], c = 'k', label = 'Interest');\n",
    "\n",
    "axes.set_xlim((1, 60));\n",
    "axes.set_ylim((0, 700));\n",
    "axes.set_ylabel('Dollars', fontsize = 20);\n",
    "axes.set_xlabel('Month', fontsize = 20);\n",
    "plt.xticks(fontsize = 20)\n",
    "plt.yticks(fontsize = 20)\n",
    "axes.set_title('Interest and Principal Paid Each Month', fontsize = 22)\n",
    "\n",
    "plt.legend(bbox_to_anchor=(1.02,0), loc=\"lower left\", borderaxespad=0, fontsize = 20)\n",
    "plt.tight_layout()\n",
    "plt.grid(axis='both')\n",
    "plt.savefig('Interest_Principal.png', dpi = 1000)"
   ]
  },
  {
   "cell_type": "code",
   "execution_count": null,
   "metadata": {
    "collapsed": true
   },
   "outputs": [],
   "source": []
  },
  {
   "cell_type": "code",
   "execution_count": null,
   "metadata": {
    "collapsed": true
   },
   "outputs": [],
   "source": []
  },
  {
   "cell_type": "code",
   "execution_count": null,
   "metadata": {
    "collapsed": true
   },
   "outputs": [],
   "source": []
  },
  {
   "cell_type": "markdown",
   "metadata": {},
   "source": [
    "# Calculating for Payments as you have them. "
   ]
  },
  {
   "cell_type": "code",
   "execution_count": 6,
   "metadata": {
    "collapsed": false
   },
   "outputs": [],
   "source": [
    "repayment = emi\n",
    "principal = Pv\n",
    "term = 72\n",
    "\n",
    "def calc_interest(principal, repayment, interest_rate = 0.0359):\n",
    "    \n",
    "    \n",
    "    # You cant pay fractional interst on a loan \n",
    "    interest_paid = np.floor( ((interest_rate / 12) * principal ) * 100) / 100\n",
    "    \n",
    "    principal_paid = np.round(repayment - interest_paid, 2)\n",
    "    \n",
    "    new_balance = np.round(principal - principal_paid,2)\n",
    "    \n",
    "    return(repayment, interest_paid, principal_paid, new_balance)\n",
    "\n",
    "payment_lists = []\n",
    "\n",
    "\n",
    "\n",
    "for month in range(1, term + 1):\n",
    "\n",
    "        repayment, interest_paid, principal_paid, new_balance = calc_interest(principal, repayment)\n",
    "        \n",
    "        payment_lists.append([month, principal, repayment, interest_paid, principal_paid, new_balance])\n",
    "        \n",
    "        principal = np.round(new_balance,2)\n",
    "        \n",
    "        \n"
   ]
  },
  {
   "cell_type": "code",
   "execution_count": 7,
   "metadata": {
    "collapsed": false
   },
   "outputs": [],
   "source": [
    "payment_table = pd.DataFrame(payment_lists, columns = ['Month', 'Starting Balance','Repayment','Interest Paid','Principal Paid','New Balance'])"
   ]
  },
  {
   "cell_type": "code",
   "execution_count": 9,
   "metadata": {
    "collapsed": false
   },
   "outputs": [
    {
     "data": {
      "text/html": [
       "<div>\n",
       "<style scoped>\n",
       "    .dataframe tbody tr th:only-of-type {\n",
       "        vertical-align: middle;\n",
       "    }\n",
       "\n",
       "    .dataframe tbody tr th {\n",
       "        vertical-align: top;\n",
       "    }\n",
       "\n",
       "    .dataframe thead th {\n",
       "        text-align: right;\n",
       "    }\n",
       "</style>\n",
       "<table border=\"1\" class=\"dataframe\">\n",
       "  <thead>\n",
       "    <tr style=\"text-align: right;\">\n",
       "      <th></th>\n",
       "      <th>Month</th>\n",
       "      <th>Starting Balance</th>\n",
       "      <th>Repayment</th>\n",
       "      <th>Interest Paid</th>\n",
       "      <th>Principal Paid</th>\n",
       "      <th>New Balance</th>\n",
       "    </tr>\n",
       "  </thead>\n",
       "  <tbody>\n",
       "    <tr>\n",
       "      <th>67</th>\n",
       "      <td>68</td>\n",
       "      <td>2562.35</td>\n",
       "      <td>517.08</td>\n",
       "      <td>7.66</td>\n",
       "      <td>509.42</td>\n",
       "      <td>2052.93</td>\n",
       "    </tr>\n",
       "    <tr>\n",
       "      <th>68</th>\n",
       "      <td>69</td>\n",
       "      <td>2052.93</td>\n",
       "      <td>517.08</td>\n",
       "      <td>6.14</td>\n",
       "      <td>510.94</td>\n",
       "      <td>1541.99</td>\n",
       "    </tr>\n",
       "    <tr>\n",
       "      <th>69</th>\n",
       "      <td>70</td>\n",
       "      <td>1541.99</td>\n",
       "      <td>517.08</td>\n",
       "      <td>4.61</td>\n",
       "      <td>512.47</td>\n",
       "      <td>1029.52</td>\n",
       "    </tr>\n",
       "    <tr>\n",
       "      <th>70</th>\n",
       "      <td>71</td>\n",
       "      <td>1029.52</td>\n",
       "      <td>517.08</td>\n",
       "      <td>3.07</td>\n",
       "      <td>514.01</td>\n",
       "      <td>515.51</td>\n",
       "    </tr>\n",
       "    <tr>\n",
       "      <th>71</th>\n",
       "      <td>72</td>\n",
       "      <td>515.51</td>\n",
       "      <td>517.08</td>\n",
       "      <td>1.54</td>\n",
       "      <td>515.54</td>\n",
       "      <td>-0.03</td>\n",
       "    </tr>\n",
       "  </tbody>\n",
       "</table>\n",
       "</div>"
      ],
      "text/plain": [
       "    Month  Starting Balance  Repayment  Interest Paid  Principal Paid  \\\n",
       "67     68           2562.35     517.08           7.66          509.42   \n",
       "68     69           2052.93     517.08           6.14          510.94   \n",
       "69     70           1541.99     517.08           4.61          512.47   \n",
       "70     71           1029.52     517.08           3.07          514.01   \n",
       "71     72            515.51     517.08           1.54          515.54   \n",
       "\n",
       "    New Balance  \n",
       "67      2052.93  \n",
       "68      1541.99  \n",
       "69      1029.52  \n",
       "70       515.51  \n",
       "71        -0.03  "
      ]
     },
     "execution_count": 9,
     "metadata": {},
     "output_type": "execute_result"
    }
   ],
   "source": [
    "payment_table.tail()"
   ]
  },
  {
   "cell_type": "markdown",
   "metadata": {},
   "source": [
    "## Total Interest Paid on Loan"
   ]
  },
  {
   "cell_type": "code",
   "execution_count": 10,
   "metadata": {
    "collapsed": false
   },
   "outputs": [
    {
     "data": {
      "text/plain": [
       "(3781.1, 33448.66)"
      ]
     },
     "execution_count": 10,
     "metadata": {},
     "output_type": "execute_result"
    }
   ],
   "source": [
    "# Look into that last week. \n",
    "payment_table['Interest Paid'].sum(), payment_table['Principal Paid'].sum()"
   ]
  },
  {
   "cell_type": "code",
   "execution_count": 11,
   "metadata": {
    "collapsed": false
   },
   "outputs": [
    {
     "data": {
      "text/plain": [
       "(1, 72)"
      ]
     },
     "execution_count": 11,
     "metadata": {},
     "output_type": "execute_result"
    },
    {
     "data": {
      "image/png": "[encoded data removed]",
      "text/plain": [
       "<Figure size 720x360 with 1 Axes>"
      ]
     },
     "metadata": {
      "needs_background": "light"
     },
     "output_type": "display_data"
    }
   ],
   "source": [
    "fig, axes = plt.subplots(nrows = 1, ncols = 1, figsize=(10, 5) )\n",
    "axes.axhline(y = 528.97)\n",
    "axes.plot(payment_table['Month'], payment_table['Interest Paid'], c = 'k');\n",
    "axes.plot(payment_table['Month'], payment_table['Principal Paid'], c = 'b');\n",
    "\n",
    "axes.set_xlim((1, 72))"
   ]
  },
  {
   "cell_type": "markdown",
   "metadata": {
    "collapsed": true
   },
   "source": [
    "## Refinancing Cost Comparison"
   ]
  },
  {
   "cell_type": "markdown",
   "metadata": {},
   "source": [
    "3.59% vs 6.99% (show the cost of refinancing a car, assuming no prepayment penalty)"
   ]
  },
  {
   "cell_type": "code",
   "execution_count": null,
   "metadata": {
    "collapsed": true
   },
   "outputs": [],
   "source": []
  }
 ],
 "metadata": {
  "anaconda-cloud": {},
  "kernelspec": {
   "display_name": "Python [conda env:py37]",
   "language": "python",
   "name": "conda-env-py37-py"
  },
  "language_info": {
   "codemirror_mode": {
    "name": "ipython",
    "version": 3
   },
   "file_extension": ".py",
   "mimetype": "text/x-python",
   "name": "python",
   "nbconvert_exporter": "python",
   "pygments_lexer": "ipython3",
   "version": "3.7.1"
  }
 },
 "nbformat": 4,
 "nbformat_minor": 1
}
