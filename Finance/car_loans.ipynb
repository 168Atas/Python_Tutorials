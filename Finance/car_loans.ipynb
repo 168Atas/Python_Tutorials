{
 "cells": [
  {
   "cell_type": "code",
   "execution_count": 1,
   "metadata": {
    "collapsed": true
   },
   "outputs": [],
   "source": [
    "# Import Libraries\n",
    "\n",
    "%matplotlib inline\n",
    "import matplotlib.pyplot as plt\n",
    "import numpy as np\n",
    "import pandas as pd"
   ]
  },
  {
   "cell_type": "markdown",
   "metadata": {},
   "source": [
    "## How your Monthly Payment (Equated Monthly Installment) is Calculated"
   ]
  },
  {
   "cell_type": "markdown",
   "metadata": {},
   "source": [
    "### Calculating a Monthly Payment (Simplified)"
   ]
  },
  {
   "cell_type": "code",
   "execution_count": 13,
   "metadata": {
    "collapsed": true
   },
   "outputs": [],
   "source": [
    "# California sales tax 7.5%\n",
    "P = 31115 * (1.075)\n",
    "\n",
    "r = 0.0702 / 12\n",
    "n = 60"
   ]
  },
  {
   "cell_type": "code",
   "execution_count": 14,
   "metadata": {
    "collapsed": false
   },
   "outputs": [
    {
     "data": {
      "text/plain": [
       "662.638532377825"
      ]
     },
     "execution_count": 14,
     "metadata": {},
     "output_type": "execute_result"
    }
   ],
   "source": [
    "numerator = (r *((1 + r)**(n)) )\n",
    "denominator = ((1 + r)**(n)) - 1\n",
    "\n",
    "emi = P * (numerator / denominator)\n",
    "emi"
   ]
  },
  {
   "cell_type": "markdown",
   "metadata": {},
   "source": [
    "### Calculating a Monthly Payment (with some fees included)"
   ]
  },
  {
   "cell_type": "code",
   "execution_count": 6,
   "metadata": {
    "collapsed": true
   },
   "outputs": [],
   "source": [
    "# Price + Tax + Emissions + Registration + Plate + Documentation\n",
    "P = 31115 + (32615 * 0.0975) + 50 + 200 + 65 + 80\n",
    "\n",
    "r = 0.0702 / 12\n",
    "n = 60"
   ]
  },
  {
   "cell_type": "code",
   "execution_count": 8,
   "metadata": {
    "collapsed": false
   },
   "outputs": [
    {
     "data": {
      "text/plain": [
       "687.2302176619154"
      ]
     },
     "execution_count": 8,
     "metadata": {},
     "output_type": "execute_result"
    }
   ],
   "source": [
    "numerator = (r *((1 + r)**(n)) )\n",
    "denominator = ((1 + r)**(n)) - 1\n",
    "\n",
    "emi = P * (numerator / denominator)\n",
    "emi"
   ]
  },
  {
   "cell_type": "code",
   "execution_count": 18,
   "metadata": {
    "collapsed": false
   },
   "outputs": [
    {
     "data": {
      "text/plain": [
       "'The Monthly Payment with fees included is 24.59 higher'"
      ]
     },
     "execution_count": 18,
     "metadata": {},
     "output_type": "execute_result"
    }
   ],
   "source": [
    "'The Monthly Payment with fees included is {} higher'.format(np.round(687.23 - 662.64,2))"
   ]
  },
  {
   "cell_type": "markdown",
   "metadata": {},
   "source": [
    "# How Interest Rates/APR Affects Monthly Payments"
   ]
  },
  {
   "cell_type": "code",
   "execution_count": null,
   "metadata": {
    "collapsed": true
   },
   "outputs": [],
   "source": []
  },
  {
   "cell_type": "code",
   "execution_count": null,
   "metadata": {
    "collapsed": true
   },
   "outputs": [],
   "source": []
  },
  {
   "cell_type": "code",
   "execution_count": null,
   "metadata": {
    "collapsed": true
   },
   "outputs": [],
   "source": []
  },
  {
   "cell_type": "code",
   "execution_count": null,
   "metadata": {
    "collapsed": true
   },
   "outputs": [],
   "source": []
  },
  {
   "cell_type": "code",
   "execution_count": null,
   "metadata": {
    "collapsed": true
   },
   "outputs": [],
   "source": []
  },
  {
   "cell_type": "markdown",
   "metadata": {},
   "source": [
    "## Calculate Total Interest Paid"
   ]
  },
  {
   "cell_type": "markdown",
   "metadata": {},
   "source": [
    "Here are the steps to do this\n",
    "\n",
    "1-) Divide your interest rate by the number of payments (12) you'll make in the year (interest rates are expressed annually). \n"
   ]
  },
  {
   "cell_type": "code",
   "execution_count": 14,
   "metadata": {
    "collapsed": false
   },
   "outputs": [
    {
     "data": {
      "text/plain": [
       "202.93628062500002"
      ]
     },
     "execution_count": 14,
     "metadata": {},
     "output_type": "execute_result"
    }
   ],
   "source": [
    "# Calculate one month of interest\n",
    "P = 34689.9625\n",
    "r = 0.0702 / 12\n",
    "\n",
    "r * P"
   ]
  },
  {
   "cell_type": "markdown",
   "metadata": {},
   "source": [
    "## How Much Interest and Principal you are Paying each Month"
   ]
  },
  {
   "cell_type": "code",
   "execution_count": 15,
   "metadata": {
    "collapsed": true
   },
   "outputs": [],
   "source": [
    "principal = P\n",
    "term = 60\n",
    "\n",
    "def calc_interest(principal, emi, interest_rate = 0.0702):\n",
    "    \n",
    "    # Assuming no fractional interst on a loan \n",
    "    interest_paid = np.floor( ((interest_rate / 12) * principal ) * 100) / 100\n",
    "    \n",
    "    principal_paid = np.round(emi - interest_paid, 2)\n",
    "    \n",
    "    new_balance = np.round(principal - principal_paid,2)\n",
    "    \n",
    "    return(emi, interest_paid, principal_paid, new_balance)"
   ]
  },
  {
   "cell_type": "code",
   "execution_count": 21,
   "metadata": {
    "collapsed": false
   },
   "outputs": [],
   "source": [
    "import numpy as np\n",
    "import pandas as pd\n",
    "\n",
    "principal = P\n",
    "term = 60\n",
    "\n",
    "def calc_interest(principal, emi, interest_rate = 0.0702):\n",
    "    \n",
    "    # Assuming no fractional interst on a loan \n",
    "    interest_paid = np.floor( ((interest_rate / 12) * principal ) * 100) / 100\n",
    "    \n",
    "    principal_paid = np.round(emi - interest_paid, 2)\n",
    "    \n",
    "    new_balance = np.round(principal - principal_paid,2)\n",
    "    \n",
    "    return(emi, interest_paid, principal_paid, new_balance)\n",
    "\n",
    "payment_lists = []\n",
    "for month in range(1, term + 1):\n",
    "\n",
    "    emi, interest_paid, principal_paid, new_balance = calc_interest(principal, emi)\n",
    "\n",
    "    payment_lists.append([month, principal, emi, interest_paid, principal_paid, new_balance])\n",
    "\n",
    "    principal = np.round(new_balance,2)"
   ]
  },
  {
   "cell_type": "code",
   "execution_count": 22,
   "metadata": {
    "collapsed": true
   },
   "outputs": [],
   "source": [
    "payment_table = pd.DataFrame(payment_lists, columns = ['Month',\n",
    "                                                       'Starting Balance',\n",
    "                                                       'Repayment',\n",
    "                                                       'Interest Paid',\n",
    "                                                       'Principal Paid',\n",
    "                                                       'New Balance'])"
   ]
  },
  {
   "cell_type": "code",
   "execution_count": 23,
   "metadata": {
    "collapsed": false
   },
   "outputs": [
    {
     "data": {
      "text/plain": [
       "6543.509999999999"
      ]
     },
     "execution_count": 23,
     "metadata": {},
     "output_type": "execute_result"
    }
   ],
   "source": [
    "payment_table['Interest Paid'].sum()"
   ]
  },
  {
   "cell_type": "code",
   "execution_count": 24,
   "metadata": {
    "collapsed": false
   },
   "outputs": [
    {
     "data": {
      "text/plain": [
       "6543.51"
      ]
     },
     "execution_count": 24,
     "metadata": {},
     "output_type": "execute_result"
    }
   ],
   "source": [
    "np.round(payment_table['Interest Paid'].sum(), 2)"
   ]
  },
  {
   "cell_type": "markdown",
   "metadata": {},
   "source": [
    "## Loan and Principal Plot"
   ]
  },
  {
   "cell_type": "markdown",
   "metadata": {},
   "source": [
    "Legend outside plot: https://stackoverflow.com/questions/4700614/how-to-put-the-legend-out-of-the-plot\n"
   ]
  },
  {
   "cell_type": "markdown",
   "metadata": {},
   "source": [
    "https://stackoverflow.com/questions/21918718/how-to-label-certain-x-values"
   ]
  },
  {
   "cell_type": "code",
   "execution_count": 25,
   "metadata": {
    "collapsed": false,
    "scrolled": true
   },
   "outputs": [
    {
     "data": {
      "image/png": "[encoded data removed]",
      "text/plain": [
       "<Figure size 720x360 with 1 Axes>"
      ]
     },
     "metadata": {
      "needs_background": "light"
     },
     "output_type": "display_data"
    }
   ],
   "source": [
    "fig, axes = plt.subplots(nrows = 1, ncols = 1, figsize=(10, 5) )\n",
    "axes.plot(payment_table['Month'], payment_table['Principal Paid'], c = 'b', label = 'Principal');\n",
    "axes.plot(payment_table['Month'], payment_table['Interest Paid'], c = 'k', label = 'Interest');\n",
    "\n",
    "axes.set_xlim((1, 60));\n",
    "axes.set_ylim((0, 700));\n",
    "axes.set_ylabel('Dollars', fontsize = 20);\n",
    "axes.set_xlabel('Month', fontsize = 20);\n",
    "plt.xticks(fontsize = 20)\n",
    "plt.yticks(fontsize = 20)\n",
    "axes.set_title('Interest and Principal Paid Each Month', fontsize = 22)\n",
    "\n",
    "plt.legend(bbox_to_anchor=(1.02,0), loc=\"lower left\", borderaxespad=0, fontsize = 20)\n",
    "plt.tight_layout()\n",
    "plt.grid(axis='both')\n",
    "plt.savefig('Interest_Principal.png', dpi = 1000)"
   ]
  },
  {
   "cell_type": "markdown",
   "metadata": {
    "collapsed": true
   },
   "source": [
    "## Refinancing Cost Comparison"
   ]
  },
  {
   "cell_type": "markdown",
   "metadata": {},
   "source": [
    "3.59% vs 7.02% (show the cost of refinancing a car, assuming no prepayment penalty)"
   ]
  },
  {
   "cell_type": "code",
   "execution_count": null,
   "metadata": {
    "collapsed": true
   },
   "outputs": [],
   "source": []
  }
 ],
 "metadata": {
  "anaconda-cloud": {},
  "kernelspec": {
   "display_name": "Python [conda env:py37]",
   "language": "python",
   "name": "conda-env-py37-py"
  },
  "language_info": {
   "codemirror_mode": {
    "name": "ipython",
    "version": 3
   },
   "file_extension": ".py",
   "mimetype": "text/x-python",
   "name": "python",
   "nbconvert_exporter": "python",
   "pygments_lexer": "ipython3",
   "version": "3.7.1"
  }
 },
 "nbformat": 4,
 "nbformat_minor": 1
}
