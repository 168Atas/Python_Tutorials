{
 "cells": [
  {
   "cell_type": "markdown",
   "metadata": {
    "collapsed": false
   },
   "source": [
    "<h1 align=\"center\"> Word Count of Pride and Prejudice using PySpark </h1>"
   ]
  },
  {
   "cell_type": "code",
   "execution_count": 40,
   "metadata": {
    "collapsed": false
   },
   "outputs": [],
   "source": [
    "import re, string\n",
    "\n",
    "text_file = sc.textFile('Data/Pride_and_Prejudice.txt')"
   ]
  },
  {
   "cell_type": "code",
   "execution_count": 41,
   "metadata": {
    "collapsed": false
   },
   "outputs": [
    {
     "data": {
      "text/plain": [
       "[u'PRIDE AND PREJUDICE', u'', u'By Jane Austen', u'', u'']"
      ]
     },
     "execution_count": 41,
     "metadata": {},
     "output_type": "execute_result"
    }
   ],
   "source": [
    "# first 5 elements of the RDD\n",
    "text_file.take(5)"
   ]
  },
  {
   "cell_type": "code",
   "execution_count": 42,
   "metadata": {
    "collapsed": false
   },
   "outputs": [
    {
     "data": {
      "text/plain": [
       "unicode"
      ]
     },
     "execution_count": 42,
     "metadata": {},
     "output_type": "execute_result"
    }
   ],
   "source": [
    "type(u'lama')"
   ]
  },
  {
   "cell_type": "code",
   "execution_count": 43,
   "metadata": {
    "collapsed": true
   },
   "outputs": [],
   "source": [
    "def uni_to_clean_str(x):\n",
    "    converted = x.encode('utf-8')\n",
    "    lowercased_str = converted.lower()\n",
    "    clean_str = lowercased_str.translate(None,string.punctuation)\n",
    "    return clean_str"
   ]
  },
  {
   "cell_type": "code",
   "execution_count": 44,
   "metadata": {
    "collapsed": false
   },
   "outputs": [
    {
     "data": {
      "text/plain": [
       "['pride and prejudice', '', 'by jane austen', '', '']"
      ]
     },
     "execution_count": 44,
     "metadata": {},
     "output_type": "execute_result"
    }
   ],
   "source": [
    "one_RDD = text_file.map(lambda x: uni_to_clean_str(x))\n",
    "one_RDD.take(5)"
   ]
  },
  {
   "cell_type": "code",
   "execution_count": 45,
   "metadata": {
    "collapsed": false
   },
   "outputs": [
    {
     "data": {
      "text/plain": [
       "[['pride', 'and', 'prejudice'], [], ['by', 'jane', 'austen'], [], []]"
      ]
     },
     "execution_count": 45,
     "metadata": {},
     "output_type": "execute_result"
    }
   ],
   "source": [
    "one_RDD = text_file.map(lambda x: uni_to_clean_str(x).split())\n",
    "one_RDD.take(5)"
   ]
  },
  {
   "cell_type": "code",
   "execution_count": 46,
   "metadata": {
    "collapsed": false
   },
   "outputs": [
    {
     "data": {
      "text/plain": [
       "['pride', 'and', 'prejudice', 'by', 'jane']"
      ]
     },
     "execution_count": 46,
     "metadata": {},
     "output_type": "execute_result"
    }
   ],
   "source": [
    "one_RDD = text_file.flatMap(lambda x: uni_to_clean_str(x).split())\n",
    "one_RDD.take(5)"
   ]
  },
  {
   "cell_type": "code",
   "execution_count": 47,
   "metadata": {
    "collapsed": false
   },
   "outputs": [
    {
     "data": {
      "text/plain": [
       "[('pride', 1), ('and', 1), ('prejudice', 1), ('by', 1), ('jane', 1)]"
      ]
     },
     "execution_count": 47,
     "metadata": {},
     "output_type": "execute_result"
    }
   ],
   "source": [
    "one_RDD = text_file.flatMap(lambda x: uni_to_clean_str(x).split())\n",
    "one_RDD = one_RDD.map(lambda x: (x,1))\n",
    "one_RDD.take(5)"
   ]
  },
  {
   "cell_type": "code",
   "execution_count": 48,
   "metadata": {
    "collapsed": false
   },
   "outputs": [
    {
     "data": {
      "text/plain": [
       "[('disgracewhen', 1),\n",
       " ('pardon', 16),\n",
       " ('expostulation', 1),\n",
       " ('desirable', 11),\n",
       " ('foul', 1)]"
      ]
     },
     "execution_count": 48,
     "metadata": {},
     "output_type": "execute_result"
    }
   ],
   "source": [
    "one_RDD = text_file.flatMap(lambda x: uni_to_clean_str(x).split())\n",
    "one_RDD = one_RDD.map(lambda x: (x,1))\n",
    "one_RDD = one_RDD.reduceByKey(lambda x,y: x + y)\n",
    "one_RDD.take(5) # notice the issue with disgracewhen"
   ]
  },
  {
   "cell_type": "code",
   "execution_count": 22,
   "metadata": {
    "collapsed": false
   },
   "outputs": [
    {
     "data": {
      "text/plain": [
       "'!\"#$%&\\'()*+,-./:;<=>?@[\\\\]^_`{|}~'"
      ]
     },
     "execution_count": 22,
     "metadata": {},
     "output_type": "execute_result"
    }
   ],
   "source": [
    "string.punctuation"
   ]
  },
  {
   "cell_type": "code",
   "execution_count": 23,
   "metadata": {
    "collapsed": true
   },
   "outputs": [],
   "source": [
    "punc = '!\"#$%&\\'()*+,./:;<=>?@[\\\\]^_`{|}~'"
   ]
  },
  {
   "cell_type": "code",
   "execution_count": 38,
   "metadata": {
    "collapsed": true
   },
   "outputs": [],
   "source": [
    "def uni_to_clean_str(x):\n",
    "    converted = x.encode('utf-8')\n",
    "    lowercased_str = converted.lower()\n",
    "    # for more difficult cases use re.split(' A|B')\n",
    "    lowercased_str = lowercased_str.replace('--',' ')\n",
    "    clean_str = lowercased_str.translate(None, punc) #Change 1\n",
    "    return clean_str"
   ]
  },
  {
   "cell_type": "code",
   "execution_count": 39,
   "metadata": {
    "collapsed": false
   },
   "outputs": [
    {
     "data": {
      "text/plain": [
       "[('pardon', 16),\n",
       " ('expostulation', 1),\n",
       " ('desirable', 11),\n",
       " ('bathing-place', 1),\n",
       " ('four', 33),\n",
       " ('brightening', 1),\n",
       " ('straws', 1),\n",
       " ('sleep', 4),\n",
       " ('mansion', 2),\n",
       " ('appetite', 2),\n",
       " ('hate', 9),\n",
       " ('looking', 29),\n",
       " ('unfeeling', 3),\n",
       " ('reproofs', 2),\n",
       " ('sweetest', 2),\n",
       " ('seriously', 13),\n",
       " ('presents', 3),\n",
       " ('neighbours', 11),\n",
       " ('sorry', 34),\n",
       " ('sinking', 3),\n",
       " ('conjecture', 7),\n",
       " ('rational', 10),\n",
       " ('compassion', 14),\n",
       " ('void', 1),\n",
       " ('georgianas', 3),\n",
       " ('preservation', 2),\n",
       " ('suggesting', 1),\n",
       " ('every', 198),\n",
       " ('foul', 1),\n",
       " ('softened', 6),\n",
       " ('frailty', 1),\n",
       " ('conception', 1),\n",
       " ('bringing', 12),\n",
       " ('vast', 2),\n",
       " ('tickets', 3),\n",
       " ('school', 2),\n",
       " ('attentively', 3),\n",
       " ('conceive', 3),\n",
       " ('protest', 1),\n",
       " ('convenience', 3),\n",
       " ('red', 3),\n",
       " ('guiding', 1),\n",
       " ('whist', 5),\n",
       " ('happier', 3),\n",
       " ('triumph', 10),\n",
       " ('enjoy', 8),\n",
       " ('disclose', 1),\n",
       " ('parted', 14),\n",
       " ('force', 8),\n",
       " ('construed', 1),\n",
       " ('lessen', 4),\n",
       " ('cordially', 3),\n",
       " ('diffuseness', 1),\n",
       " ('tires', 1),\n",
       " ('scheming', 1),\n",
       " ('second', 24),\n",
       " ('signify', 3),\n",
       " ('consenting', 1),\n",
       " ('expressive', 2),\n",
       " ('meditation', 1),\n",
       " ('blue', 2),\n",
       " ('hide', 2),\n",
       " ('solemn', 5),\n",
       " ('saved', 3),\n",
       " ('contributed', 1),\n",
       " ('liberty', 7),\n",
       " ('spokesman', 1),\n",
       " ('superciliousness', 1),\n",
       " ('above', 21),\n",
       " ('suppose', 48),\n",
       " ('net', 1),\n",
       " ('ever', 130),\n",
       " ('manager', 1),\n",
       " ('exclamations', 3),\n",
       " ('rightly', 2),\n",
       " ('deemed', 1),\n",
       " ('repugnance', 1),\n",
       " ('work-bags', 1),\n",
       " ('glimpse', 2),\n",
       " ('here', 68),\n",
       " ('pratt', 2),\n",
       " ('china', 1),\n",
       " ('represented', 7),\n",
       " ('shortness', 1),\n",
       " ('obtained', 4),\n",
       " ('daughter', 77),\n",
       " ('study', 7),\n",
       " ('reports', 1),\n",
       " ('cogent', 1),\n",
       " ('ductility', 1),\n",
       " ('special', 2),\n",
       " ('settled', 48),\n",
       " ('verdure', 1),\n",
       " ('criticise', 1),\n",
       " ('scold', 1),\n",
       " ('indolence', 2),\n",
       " ('brought', 37),\n",
       " ('moral', 3),\n",
       " ('opportunities', 1),\n",
       " ('glance', 7)]"
      ]
     },
     "execution_count": 39,
     "metadata": {},
     "output_type": "execute_result"
    }
   ],
   "source": [
    "one_RDD = text_file.flatMap(lambda x: uni_to_clean_str(x).split())\n",
    "one_RDD = one_RDD.map(lambda x: (x,1))\n",
    "one_RDD = one_RDD.reduceByKey(lambda x,y: x + y)\n",
    "one_RDD.take(100)"
   ]
  },
  {
   "cell_type": "code",
   "execution_count": null,
   "metadata": {
    "collapsed": true
   },
   "outputs": [],
   "source": []
  }
 ],
 "metadata": {
  "kernelspec": {
   "display_name": "Python 2",
   "language": "python",
   "name": "python2"
  },
  "language_info": {
   "codemirror_mode": {
    "name": "ipython",
    "version": 2
   },
   "file_extension": ".py",
   "mimetype": "text/x-python",
   "name": "python",
   "nbconvert_exporter": "python",
   "pygments_lexer": "ipython2",
   "version": "2.7.11"
  }
 },
 "nbformat": 4,
 "nbformat_minor": 0
}
